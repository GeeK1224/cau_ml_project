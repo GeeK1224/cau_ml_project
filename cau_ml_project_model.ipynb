{
  "nbformat": 4,
  "nbformat_minor": 0,
  "metadata": {
    "colab": {
      "provenance": [],
      "authorship_tag": "ABX9TyNQ8b8qs3obVL8lSii/Y23O",
      "include_colab_link": true
    },
    "kernelspec": {
      "name": "python3",
      "display_name": "Python 3"
    },
    "language_info": {
      "name": "python"
    }
  },
  "cells": [
    {
      "cell_type": "markdown",
      "metadata": {
        "id": "view-in-github",
        "colab_type": "text"
      },
      "source": [
        "<a href=\"https://colab.research.google.com/github/GeeK1224/cau_ml_project/blob/main/cau_ml_project_model.ipynb\" target=\"_parent\"><img src=\"https://colab.research.google.com/assets/colab-badge.svg\" alt=\"Open In Colab\"/></a>"
      ]
    },
    {
      "cell_type": "code",
      "execution_count": null,
      "metadata": {
        "id": "1axKZDQtzWuX"
      },
      "outputs": [],
      "source": [
        "import numpy as np # linear algebra\n",
        "import pandas as pd # data processing, CSV file I/O (e.g. pd.read_csv)\n",
        "import matplotlib.pyplot as plt"
      ]
    },
    {
      "cell_type": "code",
      "source": [
        "import torch\n",
        "import torch.nn as nn\n",
        "import torch.nn.functional as F\n",
        "from torch.utils.data import DataLoader, Dataset, Subset\n",
        "import torchvision\n",
        "from torchvision.transforms import transforms"
      ],
      "metadata": {
        "id": "ZI6EvBVDnyhg"
      },
      "execution_count": null,
      "outputs": []
    },
    {
      "cell_type": "code",
      "source": [
        "import sklearn\n",
        "from sklearn.model_selection import train_test_split"
      ],
      "metadata": {
        "id": "0Z8R1XkHn0vI"
      },
      "execution_count": null,
      "outputs": []
    },
    {
      "cell_type": "code",
      "source": [
        "!wget https://raw.githubusercontent.com/GeeK1224/cau_ml_project/main/kaggle_test_features_public.csv\n",
        "!wget https://raw.githubusercontent.com/GeeK1224/cau_ml_project/main/kaggle_train_data_public.csv\n",
        "!wget https://raw.githubusercontent.com/GeeK1224/cau_ml_project/main/sample_submission.csv"
      ],
      "metadata": {
        "colab": {
          "base_uri": "https://localhost:8080/"
        },
        "id": "pqP8HMuicH_K",
        "outputId": "2493c619-26dc-4634-dc3e-fa8eb926dfbf"
      },
      "execution_count": 1,
      "outputs": [
        {
          "output_type": "stream",
          "name": "stdout",
          "text": [
            "--2023-12-15 07:48:52--  https://raw.githubusercontent.com/GeeK1224/cau_ml_project/main/kaggle_test_features_public.csv\n",
            "Resolving raw.githubusercontent.com (raw.githubusercontent.com)... 185.199.108.133, 185.199.109.133, 185.199.110.133, ...\n",
            "Connecting to raw.githubusercontent.com (raw.githubusercontent.com)|185.199.108.133|:443... connected.\n",
            "HTTP request sent, awaiting response... 200 OK\n",
            "Length: 216168 (211K) [text/plain]\n",
            "Saving to: ‘kaggle_test_features_public.csv’\n",
            "\n",
            "\r          kaggle_te   0%[                    ]       0  --.-KB/s               \rkaggle_test_feature 100%[===================>] 211.10K  --.-KB/s    in 0.01s   \n",
            "\n",
            "2023-12-15 07:48:52 (20.9 MB/s) - ‘kaggle_test_features_public.csv’ saved [216168/216168]\n",
            "\n",
            "--2023-12-15 07:48:52--  https://raw.githubusercontent.com/GeeK1224/cau_ml_project/main/kaggle_train_data_public.csv\n",
            "Resolving raw.githubusercontent.com (raw.githubusercontent.com)... 185.199.108.133, 185.199.109.133, 185.199.110.133, ...\n",
            "Connecting to raw.githubusercontent.com (raw.githubusercontent.com)|185.199.108.133|:443... connected.\n",
            "HTTP request sent, awaiting response... 200 OK\n",
            "Length: 931630 (910K) [text/plain]\n",
            "Saving to: ‘kaggle_train_data_public.csv’\n",
            "\n",
            "kaggle_train_data_p 100%[===================>] 909.79K  --.-KB/s    in 0.02s   \n",
            "\n",
            "2023-12-15 07:48:53 (42.6 MB/s) - ‘kaggle_train_data_public.csv’ saved [931630/931630]\n",
            "\n",
            "--2023-12-15 07:48:53--  https://raw.githubusercontent.com/GeeK1224/cau_ml_project/main/sample_submission.csv\n",
            "Resolving raw.githubusercontent.com (raw.githubusercontent.com)... 185.199.108.133, 185.199.110.133, 185.199.111.133, ...\n",
            "Connecting to raw.githubusercontent.com (raw.githubusercontent.com)|185.199.108.133|:443... connected.\n",
            "HTTP request sent, awaiting response... 200 OK\n",
            "Length: 22857 (22K) [text/plain]\n",
            "Saving to: ‘sample_submission.csv’\n",
            "\n",
            "sample_submission.c 100%[===================>]  22.32K  --.-KB/s    in 0s      \n",
            "\n",
            "2023-12-15 07:48:53 (75.4 MB/s) - ‘sample_submission.csv’ saved [22857/22857]\n",
            "\n"
          ]
        }
      ]
    },
    {
      "cell_type": "markdown",
      "source": [
        "## ml model team ATES"
      ],
      "metadata": {
        "id": "H3i1X2i5DEk9"
      }
    },
    {
      "cell_type": "code",
      "source": [
        "test_feature = pd.read_csv(\"kaggle_test_features_public.csv\")\n",
        "train_data = pd.read_csv(\"kaggle_train_data_public.csv\")\n",
        "sample = pd.read_csv(\"sample_submission.csv\")"
      ],
      "metadata": {
        "id": "2r0uIH8uFJ50"
      },
      "execution_count": null,
      "outputs": []
    },
    {
      "cell_type": "code",
      "source": [],
      "metadata": {
        "id": "B2wRVa8iDDt1"
      },
      "execution_count": null,
      "outputs": []
    }
  ]
}