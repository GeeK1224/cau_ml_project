{
  "nbformat": 4,
  "nbformat_minor": 0,
  "metadata": {
    "colab": {
      "provenance": [],
      "authorship_tag": "ABX9TyNCdbHDwWov2S/7BzSZ1j0q",
      "include_colab_link": true
    },
    "kernelspec": {
      "name": "python3",
      "display_name": "Python 3"
    },
    "language_info": {
      "name": "python"
    }
  },
  "cells": [
    {
      "cell_type": "markdown",
      "metadata": {
        "id": "view-in-github",
        "colab_type": "text"
      },
      "source": [
        "<a href=\"https://colab.research.google.com/github/GeeK1224/cau_ml_project/blob/main/cau_ml_project_model.ipynb\" target=\"_parent\"><img src=\"https://colab.research.google.com/assets/colab-badge.svg\" alt=\"Open In Colab\"/></a>"
      ]
    },
    {
      "cell_type": "code",
      "execution_count": null,
      "metadata": {
        "id": "1axKZDQtzWuX"
      },
      "outputs": [],
      "source": [
        "import pandas as pd\n",
        "import numpy as np\n",
        "import torch\n",
        "import torch.nn as nn\n",
        "import sklearn"
      ]
    },
    {
      "cell_type": "code",
      "source": [
        "# !wget https://raw.githubusercontent.com/GeeK1224/cau_ml_project/main/kaggle_test_features_public.csv\n",
        "# !wget https://raw.githubusercontent.com/GeeK1224/cau_ml_project/main/kaggle_train_data_public.csv\n",
        "# !wget https://raw.githubusercontent.com/GeeK1224/cau_ml_project/main/sample_submission.csv"
      ],
      "metadata": {
        "colab": {
          "base_uri": "https://localhost:8080/"
        },
        "id": "pqP8HMuicH_K",
        "outputId": "1a002814-e160-458c-921a-d07f5d036f77"
      },
      "execution_count": null,
      "outputs": [
        {
          "output_type": "stream",
          "name": "stdout",
          "text": [
            "--2023-12-14 08:28:08--  https://raw.githubusercontent.com/GeeK1224/cau_ml_project/main/kaggle_test_features_public.csv\n",
            "Resolving raw.githubusercontent.com (raw.githubusercontent.com)... 185.199.108.133, 185.199.109.133, 185.199.110.133, ...\n",
            "Connecting to raw.githubusercontent.com (raw.githubusercontent.com)|185.199.108.133|:443... connected.\n",
            "HTTP request sent, awaiting response... 200 OK\n",
            "Length: 216168 (211K) [text/plain]\n",
            "Saving to: ‘kaggle_test_features_public.csv.1’\n",
            "\n",
            "kaggle_test_feature 100%[===================>] 211.10K  --.-KB/s    in 0.09s   \n",
            "\n",
            "2023-12-14 08:28:09 (2.36 MB/s) - ‘kaggle_test_features_public.csv.1’ saved [216168/216168]\n",
            "\n",
            "--2023-12-14 08:28:09--  https://raw.githubusercontent.com/GeeK1224/cau_ml_project/main/kaggle_train_data_public.csv\n",
            "Resolving raw.githubusercontent.com (raw.githubusercontent.com)... 185.199.108.133, 185.199.109.133, 185.199.110.133, ...\n",
            "Connecting to raw.githubusercontent.com (raw.githubusercontent.com)|185.199.108.133|:443... connected.\n",
            "HTTP request sent, awaiting response... 200 OK\n",
            "Length: 931630 (910K) [text/plain]\n",
            "Saving to: ‘kaggle_train_data_public.csv.1’\n",
            "\n",
            "kaggle_train_data_p 100%[===================>] 909.79K  5.62MB/s    in 0.2s    \n",
            "\n",
            "2023-12-14 08:28:10 (5.62 MB/s) - ‘kaggle_train_data_public.csv.1’ saved [931630/931630]\n",
            "\n",
            "--2023-12-14 08:28:10--  https://raw.githubusercontent.com/GeeK1224/cau_ml_project/main/sample_submission.csv\n",
            "Resolving raw.githubusercontent.com (raw.githubusercontent.com)... 185.199.109.133, 185.199.108.133, 185.199.111.133, ...\n",
            "Connecting to raw.githubusercontent.com (raw.githubusercontent.com)|185.199.109.133|:443... connected.\n",
            "HTTP request sent, awaiting response... 200 OK\n",
            "Length: 22857 (22K) [text/plain]\n",
            "Saving to: ‘sample_submission.csv.1’\n",
            "\n",
            "sample_submission.c 100%[===================>]  22.32K  --.-KB/s    in 0.007s  \n",
            "\n",
            "2023-12-14 08:28:11 (3.20 MB/s) - ‘sample_submission.csv.1’ saved [22857/22857]\n",
            "\n"
          ]
        }
      ]
    },
    {
      "cell_type": "markdown",
      "source": [
        "## ml model team ATES"
      ],
      "metadata": {
        "id": "H3i1X2i5DEk9"
      }
    },
    {
      "cell_type": "code",
      "source": [
        "test_feature = pd.read_csv(\"kaggle_test_features_public.csv\")\n",
        "train_data = pd.read_csv(\"kaggle_train_data_public.csv\")\n",
        "sample = pd.read_csv(\"sample_submission.csv\")"
      ],
      "metadata": {
        "id": "2r0uIH8uFJ50"
      },
      "execution_count": null,
      "outputs": []
    },
    {
      "cell_type": "code",
      "source": [],
      "metadata": {
        "id": "B2wRVa8iDDt1"
      },
      "execution_count": null,
      "outputs": []
    }
  ]
}