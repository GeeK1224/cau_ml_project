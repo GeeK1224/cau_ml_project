{
  "nbformat": 4,
  "nbformat_minor": 0,
  "metadata": {
    "colab": {
      "provenance": [],
      "authorship_tag": "ABX9TyMCWBwenMFGhGFnQgKaVCUS",
      "include_colab_link": true
    },
    "kernelspec": {
      "name": "python3",
      "display_name": "Python 3"
    },
    "language_info": {
      "name": "python"
    }
  },
  "cells": [
    {
      "cell_type": "markdown",
      "metadata": {
        "id": "view-in-github",
        "colab_type": "text"
      },
      "source": [
        "<a href=\"https://colab.research.google.com/github/GeeK1224/cau_ml_project/blob/main/cau_ml_project_model.ipynb\" target=\"_parent\"><img src=\"https://colab.research.google.com/assets/colab-badge.svg\" alt=\"Open In Colab\"/></a>"
      ]
    },
    {
      "cell_type": "code",
      "execution_count": 182,
      "metadata": {
        "id": "1axKZDQtzWuX"
      },
      "outputs": [],
      "source": [
        "import numpy as np\n",
        "import pandas as pd\n",
        "import matplotlib.pyplot as plt"
      ]
    },
    {
      "cell_type": "code",
      "source": [
        "import torch\n",
        "import torch.nn as nn\n",
        "import torch.optim as optim\n",
        "import torch.nn.functional as F\n",
        "from torch.utils.data import DataLoader, Dataset, Subset, TensorDataset\n",
        "from torchvision.transforms import transforms\n",
        "import torchvision"
      ],
      "metadata": {
        "id": "ZI6EvBVDnyhg"
      },
      "execution_count": 183,
      "outputs": []
    },
    {
      "cell_type": "code",
      "source": [
        "import sklearn\n",
        "from sklearn import preprocessing\n",
        "from sklearn.model_selection import train_test_split, cross_val_score\n",
        "from sklearn.metrics import accuracy_score, precision_score, recall_score, f1_score, roc_auc_score, roc_curve"
      ],
      "metadata": {
        "id": "0Z8R1XkHn0vI"
      },
      "execution_count": 184,
      "outputs": []
    },
    {
      "cell_type": "code",
      "source": [
        "!wget https://raw.githubusercontent.com/GeeK1224/cau_ml_project/main/kaggle_test_features_public.csv\n",
        "!wget https://raw.githubusercontent.com/GeeK1224/cau_ml_project/main/kaggle_train_data_public.csv\n",
        "!wget https://raw.githubusercontent.com/GeeK1224/cau_ml_project/main/sample_submission.csv"
      ],
      "metadata": {
        "id": "pqP8HMuicH_K",
        "colab": {
          "base_uri": "https://localhost:8080/"
        },
        "outputId": "939c28e3-beef-4b01-96dd-013c10dff8d9"
      },
      "execution_count": 4,
      "outputs": [
        {
          "output_type": "stream",
          "name": "stdout",
          "text": [
            "--2023-12-20 15:46:39--  https://raw.githubusercontent.com/GeeK1224/cau_ml_project/main/kaggle_test_features_public.csv\n",
            "Resolving raw.githubusercontent.com (raw.githubusercontent.com)... 185.199.109.133, 185.199.108.133, 185.199.111.133, ...\n",
            "Connecting to raw.githubusercontent.com (raw.githubusercontent.com)|185.199.109.133|:443... connected.\n",
            "HTTP request sent, awaiting response... 200 OK\n",
            "Length: 216168 (211K) [text/plain]\n",
            "Saving to: ‘kaggle_test_features_public.csv’\n",
            "\n",
            "kaggle_test_feature 100%[===================>] 211.10K  --.-KB/s    in 0.03s   \n",
            "\n",
            "2023-12-20 15:46:39 (5.97 MB/s) - ‘kaggle_test_features_public.csv’ saved [216168/216168]\n",
            "\n",
            "--2023-12-20 15:46:39--  https://raw.githubusercontent.com/GeeK1224/cau_ml_project/main/kaggle_train_data_public.csv\n",
            "Resolving raw.githubusercontent.com (raw.githubusercontent.com)... 185.199.111.133, 185.199.110.133, 185.199.109.133, ...\n",
            "Connecting to raw.githubusercontent.com (raw.githubusercontent.com)|185.199.111.133|:443... connected.\n",
            "HTTP request sent, awaiting response... 200 OK\n",
            "Length: 931630 (910K) [text/plain]\n",
            "Saving to: ‘kaggle_train_data_public.csv’\n",
            "\n",
            "kaggle_train_data_p 100%[===================>] 909.79K  --.-KB/s    in 0.05s   \n",
            "\n",
            "2023-12-20 15:46:39 (17.6 MB/s) - ‘kaggle_train_data_public.csv’ saved [931630/931630]\n",
            "\n",
            "--2023-12-20 15:46:39--  https://raw.githubusercontent.com/GeeK1224/cau_ml_project/main/sample_submission.csv\n",
            "Resolving raw.githubusercontent.com (raw.githubusercontent.com)... 185.199.109.133, 185.199.108.133, 185.199.111.133, ...\n",
            "Connecting to raw.githubusercontent.com (raw.githubusercontent.com)|185.199.109.133|:443... connected.\n",
            "HTTP request sent, awaiting response... 200 OK\n",
            "Length: 22857 (22K) [text/plain]\n",
            "Saving to: ‘sample_submission.csv’\n",
            "\n",
            "sample_submission.c 100%[===================>]  22.32K  --.-KB/s    in 0.002s  \n",
            "\n",
            "2023-12-20 15:46:40 (10.4 MB/s) - ‘sample_submission.csv’ saved [22857/22857]\n",
            "\n"
          ]
        }
      ]
    },
    {
      "cell_type": "markdown",
      "source": [
        "## ml model team ATES"
      ],
      "metadata": {
        "id": "H3i1X2i5DEk9"
      }
    },
    {
      "cell_type": "code",
      "source": [
        "# Data Collection\n",
        "test_data = pd.read_csv(\"kaggle_test_features_public.csv\")\n",
        "train_data = pd.read_csv(\"kaggle_train_data_public.csv\")\n",
        "sample = pd.read_csv(\"sample_submission.csv\")"
      ],
      "metadata": {
        "id": "2r0uIH8uFJ50"
      },
      "execution_count": 207,
      "outputs": []
    },
    {
      "cell_type": "code",
      "source": [
        "def one_hot_encode_column(dataframe, column_name):\n",
        "    \"\"\"\n",
        "    Perform one-hot encoding on a specific column of a DataFrame.\n",
        "\n",
        "    Parameters:\n",
        "    - dataframe: pandas DataFrame\n",
        "    - column_name: str, the name of the column to one-hot encode\n",
        "\n",
        "    Returns:\n",
        "    - dataframe_encoded: pandas DataFrame, the DataFrame with the specified column one-hot encoded\n",
        "    \"\"\"\n",
        "\n",
        "    # Make a copy of the DataFrame to avoid modifying the original\n",
        "    dataframe_copy = dataframe.copy()\n",
        "\n",
        "    # Perform one-hot encoding\n",
        "    dataframe_encoded = pd.get_dummies(dataframe_copy, columns=[column_name], prefix=column_name)\n",
        "\n",
        "    return dataframe_encoded"
      ],
      "metadata": {
        "id": "LAWtxGgO6OlK"
      },
      "execution_count": 186,
      "outputs": []
    },
    {
      "cell_type": "code",
      "source": [
        "def zeros_and_ones(dataframe, column_name):\n",
        "\n",
        "  # Make a copy of the DataFrame to avoid modifying the original\n",
        "  dataframe_copy = dataframe.copy()\n",
        "\n",
        "  # Perform turning values to zeros and ones\n",
        "  dataframe_copy[column_name].replace('Yes', 1, inplace=True)\n",
        "  dataframe_copy[column_name].replace('No', 0, inplace=True)\n",
        "\n",
        "  return dataframe_copy"
      ],
      "metadata": {
        "id": "kED3GPU6_NKO"
      },
      "execution_count": 187,
      "outputs": []
    },
    {
      "cell_type": "code",
      "source": [
        "# Feature engineering Test Data\n",
        "drop_columns = [\"CustomerID\", \"Count\", \"Country\", \"State\", \"City\", \"Zip Code\", \"Lat Long\", \"Latitude\", \"Longitude\"]\n",
        "category_yes_no = ['Senior Citizen', 'Partner', 'Dependents', 'Phone Service', 'Paperless Billing']\n",
        "categories_many = ['Gender', 'Multiple Lines', 'Internet Service', 'Online Security', 'Online Backup', 'Device Protection', 'Tech Support', 'Streaming TV', 'Streaming Movies', 'Contract', 'Payment Method']\n",
        "\n",
        "test_data = test_data.copy()\n",
        "for category in category_yes_no:\n",
        "  test_data = zeros_and_ones(test_data, category)\n",
        "\n",
        "\n",
        "for category in categories_many:\n",
        "  test_data = one_hot_encode_column(test_data, category)\n",
        "\n",
        "encode_test = test_data.drop(drop_columns, axis=1)\n",
        "encode_test\n"
      ],
      "metadata": {
        "colab": {
          "base_uri": "https://localhost:8080/",
          "height": 496
        },
        "id": "nMeyttJi0qUQ",
        "outputId": "1b09cf1d-e314-412e-8a1f-3cd92031e35c"
      },
      "execution_count": 188,
      "outputs": [
        {
          "output_type": "execute_result",
          "data": {
            "text/plain": [
              "     Senior Citizen  Partner  Dependents  Tenure Months  Phone Service  \\\n",
              "0                 0        1           0             51              0   \n",
              "1                 0        1           0             49              1   \n",
              "2                 0        0           0             60              1   \n",
              "3                 0        1           0             45              1   \n",
              "4                 0        1           1             31              1   \n",
              "..              ...      ...         ...            ...            ...   \n",
              "981               0        1           0             34              1   \n",
              "982               0        0           1              9              1   \n",
              "983               1        1           0             23              1   \n",
              "984               0        0           0             21              1   \n",
              "985               0        0           0              7              1   \n",
              "\n",
              "     Paperless Billing  Monthly Charges  Gender_Female  Gender_Male  \\\n",
              "0                    1            30.05              0            1   \n",
              "1                    1            99.05              0            1   \n",
              "2                    1           116.60              0            1   \n",
              "3                    1            54.15              1            0   \n",
              "4                    0            25.75              0            1   \n",
              "..                 ...              ...            ...          ...   \n",
              "981                  0            62.65              1            0   \n",
              "982                  0            55.35              0            1   \n",
              "983                  1            95.10              1            0   \n",
              "984                  1            99.15              1            0   \n",
              "985                  1            74.65              1            0   \n",
              "\n",
              "     Multiple Lines_No  ...  Streaming Movies_No  \\\n",
              "0                    0  ...                    1   \n",
              "1                    0  ...                    0   \n",
              "2                    0  ...                    0   \n",
              "3                    1  ...                    1   \n",
              "4                    0  ...                    0   \n",
              "..                 ...  ...                  ...   \n",
              "981                  0  ...                    1   \n",
              "982                  1  ...                    1   \n",
              "983                  1  ...                    0   \n",
              "984                  1  ...                    0   \n",
              "985                  0  ...                    0   \n",
              "\n",
              "     Streaming Movies_No internet service  Streaming Movies_Yes  \\\n",
              "0                                       0                     0   \n",
              "1                                       0                     1   \n",
              "2                                       0                     1   \n",
              "3                                       0                     0   \n",
              "4                                       1                     0   \n",
              "..                                    ...                   ...   \n",
              "981                                     0                     0   \n",
              "982                                     0                     0   \n",
              "983                                     0                     1   \n",
              "984                                     0                     1   \n",
              "985                                     0                     1   \n",
              "\n",
              "     Contract_Month-to-month  Contract_One year  Contract_Two year  \\\n",
              "0                          1                  0                  0   \n",
              "1                          1                  0                  0   \n",
              "2                          0                  1                  0   \n",
              "3                          0                  1                  0   \n",
              "4                          0                  0                  1   \n",
              "..                       ...                ...                ...   \n",
              "981                        1                  0                  0   \n",
              "982                        1                  0                  0   \n",
              "983                        1                  0                  0   \n",
              "984                        1                  0                  0   \n",
              "985                        1                  0                  0   \n",
              "\n",
              "     Payment Method_Bank transfer (automatic)  \\\n",
              "0                                           0   \n",
              "1                                           1   \n",
              "2                                           0   \n",
              "3                                           0   \n",
              "4                                           0   \n",
              "..                                        ...   \n",
              "981                                         0   \n",
              "982                                         0   \n",
              "983                                         0   \n",
              "984                                         1   \n",
              "985                                         0   \n",
              "\n",
              "     Payment Method_Credit card (automatic)  Payment Method_Electronic check  \\\n",
              "0                                         1                                0   \n",
              "1                                         0                                0   \n",
              "2                                         1                                0   \n",
              "3                                         1                                0   \n",
              "4                                         0                                0   \n",
              "..                                      ...                              ...   \n",
              "981                                       0                                1   \n",
              "982                                       0                                1   \n",
              "983                                       0                                1   \n",
              "984                                       0                                0   \n",
              "985                                       0                                1   \n",
              "\n",
              "     Payment Method_Mailed check  \n",
              "0                              0  \n",
              "1                              0  \n",
              "2                              0  \n",
              "3                              0  \n",
              "4                              1  \n",
              "..                           ...  \n",
              "981                            0  \n",
              "982                            0  \n",
              "983                            0  \n",
              "984                            0  \n",
              "985                            0  \n",
              "\n",
              "[986 rows x 40 columns]"
            ],
            "text/html": [
              "\n",
              "  <div id=\"df-ebc3f981-a253-43b3-8748-d015c3036d31\" class=\"colab-df-container\">\n",
              "    <div>\n",
              "<style scoped>\n",
              "    .dataframe tbody tr th:only-of-type {\n",
              "        vertical-align: middle;\n",
              "    }\n",
              "\n",
              "    .dataframe tbody tr th {\n",
              "        vertical-align: top;\n",
              "    }\n",
              "\n",
              "    .dataframe thead th {\n",
              "        text-align: right;\n",
              "    }\n",
              "</style>\n",
              "<table border=\"1\" class=\"dataframe\">\n",
              "  <thead>\n",
              "    <tr style=\"text-align: right;\">\n",
              "      <th></th>\n",
              "      <th>Senior Citizen</th>\n",
              "      <th>Partner</th>\n",
              "      <th>Dependents</th>\n",
              "      <th>Tenure Months</th>\n",
              "      <th>Phone Service</th>\n",
              "      <th>Paperless Billing</th>\n",
              "      <th>Monthly Charges</th>\n",
              "      <th>Gender_Female</th>\n",
              "      <th>Gender_Male</th>\n",
              "      <th>Multiple Lines_No</th>\n",
              "      <th>...</th>\n",
              "      <th>Streaming Movies_No</th>\n",
              "      <th>Streaming Movies_No internet service</th>\n",
              "      <th>Streaming Movies_Yes</th>\n",
              "      <th>Contract_Month-to-month</th>\n",
              "      <th>Contract_One year</th>\n",
              "      <th>Contract_Two year</th>\n",
              "      <th>Payment Method_Bank transfer (automatic)</th>\n",
              "      <th>Payment Method_Credit card (automatic)</th>\n",
              "      <th>Payment Method_Electronic check</th>\n",
              "      <th>Payment Method_Mailed check</th>\n",
              "    </tr>\n",
              "  </thead>\n",
              "  <tbody>\n",
              "    <tr>\n",
              "      <th>0</th>\n",
              "      <td>0</td>\n",
              "      <td>1</td>\n",
              "      <td>0</td>\n",
              "      <td>51</td>\n",
              "      <td>0</td>\n",
              "      <td>1</td>\n",
              "      <td>30.05</td>\n",
              "      <td>0</td>\n",
              "      <td>1</td>\n",
              "      <td>0</td>\n",
              "      <td>...</td>\n",
              "      <td>1</td>\n",
              "      <td>0</td>\n",
              "      <td>0</td>\n",
              "      <td>1</td>\n",
              "      <td>0</td>\n",
              "      <td>0</td>\n",
              "      <td>0</td>\n",
              "      <td>1</td>\n",
              "      <td>0</td>\n",
              "      <td>0</td>\n",
              "    </tr>\n",
              "    <tr>\n",
              "      <th>1</th>\n",
              "      <td>0</td>\n",
              "      <td>1</td>\n",
              "      <td>0</td>\n",
              "      <td>49</td>\n",
              "      <td>1</td>\n",
              "      <td>1</td>\n",
              "      <td>99.05</td>\n",
              "      <td>0</td>\n",
              "      <td>1</td>\n",
              "      <td>0</td>\n",
              "      <td>...</td>\n",
              "      <td>0</td>\n",
              "      <td>0</td>\n",
              "      <td>1</td>\n",
              "      <td>1</td>\n",
              "      <td>0</td>\n",
              "      <td>0</td>\n",
              "      <td>1</td>\n",
              "      <td>0</td>\n",
              "      <td>0</td>\n",
              "      <td>0</td>\n",
              "    </tr>\n",
              "    <tr>\n",
              "      <th>2</th>\n",
              "      <td>0</td>\n",
              "      <td>0</td>\n",
              "      <td>0</td>\n",
              "      <td>60</td>\n",
              "      <td>1</td>\n",
              "      <td>1</td>\n",
              "      <td>116.60</td>\n",
              "      <td>0</td>\n",
              "      <td>1</td>\n",
              "      <td>0</td>\n",
              "      <td>...</td>\n",
              "      <td>0</td>\n",
              "      <td>0</td>\n",
              "      <td>1</td>\n",
              "      <td>0</td>\n",
              "      <td>1</td>\n",
              "      <td>0</td>\n",
              "      <td>0</td>\n",
              "      <td>1</td>\n",
              "      <td>0</td>\n",
              "      <td>0</td>\n",
              "    </tr>\n",
              "    <tr>\n",
              "      <th>3</th>\n",
              "      <td>0</td>\n",
              "      <td>1</td>\n",
              "      <td>0</td>\n",
              "      <td>45</td>\n",
              "      <td>1</td>\n",
              "      <td>1</td>\n",
              "      <td>54.15</td>\n",
              "      <td>1</td>\n",
              "      <td>0</td>\n",
              "      <td>1</td>\n",
              "      <td>...</td>\n",
              "      <td>1</td>\n",
              "      <td>0</td>\n",
              "      <td>0</td>\n",
              "      <td>0</td>\n",
              "      <td>1</td>\n",
              "      <td>0</td>\n",
              "      <td>0</td>\n",
              "      <td>1</td>\n",
              "      <td>0</td>\n",
              "      <td>0</td>\n",
              "    </tr>\n",
              "    <tr>\n",
              "      <th>4</th>\n",
              "      <td>0</td>\n",
              "      <td>1</td>\n",
              "      <td>1</td>\n",
              "      <td>31</td>\n",
              "      <td>1</td>\n",
              "      <td>0</td>\n",
              "      <td>25.75</td>\n",
              "      <td>0</td>\n",
              "      <td>1</td>\n",
              "      <td>0</td>\n",
              "      <td>...</td>\n",
              "      <td>0</td>\n",
              "      <td>1</td>\n",
              "      <td>0</td>\n",
              "      <td>0</td>\n",
              "      <td>0</td>\n",
              "      <td>1</td>\n",
              "      <td>0</td>\n",
              "      <td>0</td>\n",
              "      <td>0</td>\n",
              "      <td>1</td>\n",
              "    </tr>\n",
              "    <tr>\n",
              "      <th>...</th>\n",
              "      <td>...</td>\n",
              "      <td>...</td>\n",
              "      <td>...</td>\n",
              "      <td>...</td>\n",
              "      <td>...</td>\n",
              "      <td>...</td>\n",
              "      <td>...</td>\n",
              "      <td>...</td>\n",
              "      <td>...</td>\n",
              "      <td>...</td>\n",
              "      <td>...</td>\n",
              "      <td>...</td>\n",
              "      <td>...</td>\n",
              "      <td>...</td>\n",
              "      <td>...</td>\n",
              "      <td>...</td>\n",
              "      <td>...</td>\n",
              "      <td>...</td>\n",
              "      <td>...</td>\n",
              "      <td>...</td>\n",
              "      <td>...</td>\n",
              "    </tr>\n",
              "    <tr>\n",
              "      <th>981</th>\n",
              "      <td>0</td>\n",
              "      <td>1</td>\n",
              "      <td>0</td>\n",
              "      <td>34</td>\n",
              "      <td>1</td>\n",
              "      <td>0</td>\n",
              "      <td>62.65</td>\n",
              "      <td>1</td>\n",
              "      <td>0</td>\n",
              "      <td>0</td>\n",
              "      <td>...</td>\n",
              "      <td>1</td>\n",
              "      <td>0</td>\n",
              "      <td>0</td>\n",
              "      <td>1</td>\n",
              "      <td>0</td>\n",
              "      <td>0</td>\n",
              "      <td>0</td>\n",
              "      <td>0</td>\n",
              "      <td>1</td>\n",
              "      <td>0</td>\n",
              "    </tr>\n",
              "    <tr>\n",
              "      <th>982</th>\n",
              "      <td>0</td>\n",
              "      <td>0</td>\n",
              "      <td>1</td>\n",
              "      <td>9</td>\n",
              "      <td>1</td>\n",
              "      <td>0</td>\n",
              "      <td>55.35</td>\n",
              "      <td>0</td>\n",
              "      <td>1</td>\n",
              "      <td>1</td>\n",
              "      <td>...</td>\n",
              "      <td>1</td>\n",
              "      <td>0</td>\n",
              "      <td>0</td>\n",
              "      <td>1</td>\n",
              "      <td>0</td>\n",
              "      <td>0</td>\n",
              "      <td>0</td>\n",
              "      <td>0</td>\n",
              "      <td>1</td>\n",
              "      <td>0</td>\n",
              "    </tr>\n",
              "    <tr>\n",
              "      <th>983</th>\n",
              "      <td>1</td>\n",
              "      <td>1</td>\n",
              "      <td>0</td>\n",
              "      <td>23</td>\n",
              "      <td>1</td>\n",
              "      <td>1</td>\n",
              "      <td>95.10</td>\n",
              "      <td>1</td>\n",
              "      <td>0</td>\n",
              "      <td>1</td>\n",
              "      <td>...</td>\n",
              "      <td>0</td>\n",
              "      <td>0</td>\n",
              "      <td>1</td>\n",
              "      <td>1</td>\n",
              "      <td>0</td>\n",
              "      <td>0</td>\n",
              "      <td>0</td>\n",
              "      <td>0</td>\n",
              "      <td>1</td>\n",
              "      <td>0</td>\n",
              "    </tr>\n",
              "    <tr>\n",
              "      <th>984</th>\n",
              "      <td>0</td>\n",
              "      <td>0</td>\n",
              "      <td>0</td>\n",
              "      <td>21</td>\n",
              "      <td>1</td>\n",
              "      <td>1</td>\n",
              "      <td>99.15</td>\n",
              "      <td>1</td>\n",
              "      <td>0</td>\n",
              "      <td>1</td>\n",
              "      <td>...</td>\n",
              "      <td>0</td>\n",
              "      <td>0</td>\n",
              "      <td>1</td>\n",
              "      <td>1</td>\n",
              "      <td>0</td>\n",
              "      <td>0</td>\n",
              "      <td>1</td>\n",
              "      <td>0</td>\n",
              "      <td>0</td>\n",
              "      <td>0</td>\n",
              "    </tr>\n",
              "    <tr>\n",
              "      <th>985</th>\n",
              "      <td>0</td>\n",
              "      <td>0</td>\n",
              "      <td>0</td>\n",
              "      <td>7</td>\n",
              "      <td>1</td>\n",
              "      <td>1</td>\n",
              "      <td>74.65</td>\n",
              "      <td>1</td>\n",
              "      <td>0</td>\n",
              "      <td>0</td>\n",
              "      <td>...</td>\n",
              "      <td>0</td>\n",
              "      <td>0</td>\n",
              "      <td>1</td>\n",
              "      <td>1</td>\n",
              "      <td>0</td>\n",
              "      <td>0</td>\n",
              "      <td>0</td>\n",
              "      <td>0</td>\n",
              "      <td>1</td>\n",
              "      <td>0</td>\n",
              "    </tr>\n",
              "  </tbody>\n",
              "</table>\n",
              "<p>986 rows × 40 columns</p>\n",
              "</div>\n",
              "    <div class=\"colab-df-buttons\">\n",
              "\n",
              "  <div class=\"colab-df-container\">\n",
              "    <button class=\"colab-df-convert\" onclick=\"convertToInteractive('df-ebc3f981-a253-43b3-8748-d015c3036d31')\"\n",
              "            title=\"Convert this dataframe to an interactive table.\"\n",
              "            style=\"display:none;\">\n",
              "\n",
              "  <svg xmlns=\"http://www.w3.org/2000/svg\" height=\"24px\" viewBox=\"0 -960 960 960\">\n",
              "    <path d=\"M120-120v-720h720v720H120Zm60-500h600v-160H180v160Zm220 220h160v-160H400v160Zm0 220h160v-160H400v160ZM180-400h160v-160H180v160Zm440 0h160v-160H620v160ZM180-180h160v-160H180v160Zm440 0h160v-160H620v160Z\"/>\n",
              "  </svg>\n",
              "    </button>\n",
              "\n",
              "  <style>\n",
              "    .colab-df-container {\n",
              "      display:flex;\n",
              "      gap: 12px;\n",
              "    }\n",
              "\n",
              "    .colab-df-convert {\n",
              "      background-color: #E8F0FE;\n",
              "      border: none;\n",
              "      border-radius: 50%;\n",
              "      cursor: pointer;\n",
              "      display: none;\n",
              "      fill: #1967D2;\n",
              "      height: 32px;\n",
              "      padding: 0 0 0 0;\n",
              "      width: 32px;\n",
              "    }\n",
              "\n",
              "    .colab-df-convert:hover {\n",
              "      background-color: #E2EBFA;\n",
              "      box-shadow: 0px 1px 2px rgba(60, 64, 67, 0.3), 0px 1px 3px 1px rgba(60, 64, 67, 0.15);\n",
              "      fill: #174EA6;\n",
              "    }\n",
              "\n",
              "    .colab-df-buttons div {\n",
              "      margin-bottom: 4px;\n",
              "    }\n",
              "\n",
              "    [theme=dark] .colab-df-convert {\n",
              "      background-color: #3B4455;\n",
              "      fill: #D2E3FC;\n",
              "    }\n",
              "\n",
              "    [theme=dark] .colab-df-convert:hover {\n",
              "      background-color: #434B5C;\n",
              "      box-shadow: 0px 1px 3px 1px rgba(0, 0, 0, 0.15);\n",
              "      filter: drop-shadow(0px 1px 2px rgba(0, 0, 0, 0.3));\n",
              "      fill: #FFFFFF;\n",
              "    }\n",
              "  </style>\n",
              "\n",
              "    <script>\n",
              "      const buttonEl =\n",
              "        document.querySelector('#df-ebc3f981-a253-43b3-8748-d015c3036d31 button.colab-df-convert');\n",
              "      buttonEl.style.display =\n",
              "        google.colab.kernel.accessAllowed ? 'block' : 'none';\n",
              "\n",
              "      async function convertToInteractive(key) {\n",
              "        const element = document.querySelector('#df-ebc3f981-a253-43b3-8748-d015c3036d31');\n",
              "        const dataTable =\n",
              "          await google.colab.kernel.invokeFunction('convertToInteractive',\n",
              "                                                    [key], {});\n",
              "        if (!dataTable) return;\n",
              "\n",
              "        const docLinkHtml = 'Like what you see? Visit the ' +\n",
              "          '<a target=\"_blank\" href=https://colab.research.google.com/notebooks/data_table.ipynb>data table notebook</a>'\n",
              "          + ' to learn more about interactive tables.';\n",
              "        element.innerHTML = '';\n",
              "        dataTable['output_type'] = 'display_data';\n",
              "        await google.colab.output.renderOutput(dataTable, element);\n",
              "        const docLink = document.createElement('div');\n",
              "        docLink.innerHTML = docLinkHtml;\n",
              "        element.appendChild(docLink);\n",
              "      }\n",
              "    </script>\n",
              "  </div>\n",
              "\n",
              "\n",
              "<div id=\"df-8f8391b4-f283-4587-b6ed-79ea06076aed\">\n",
              "  <button class=\"colab-df-quickchart\" onclick=\"quickchart('df-8f8391b4-f283-4587-b6ed-79ea06076aed')\"\n",
              "            title=\"Suggest charts\"\n",
              "            style=\"display:none;\">\n",
              "\n",
              "<svg xmlns=\"http://www.w3.org/2000/svg\" height=\"24px\"viewBox=\"0 0 24 24\"\n",
              "     width=\"24px\">\n",
              "    <g>\n",
              "        <path d=\"M19 3H5c-1.1 0-2 .9-2 2v14c0 1.1.9 2 2 2h14c1.1 0 2-.9 2-2V5c0-1.1-.9-2-2-2zM9 17H7v-7h2v7zm4 0h-2V7h2v10zm4 0h-2v-4h2v4z\"/>\n",
              "    </g>\n",
              "</svg>\n",
              "  </button>\n",
              "\n",
              "<style>\n",
              "  .colab-df-quickchart {\n",
              "      --bg-color: #E8F0FE;\n",
              "      --fill-color: #1967D2;\n",
              "      --hover-bg-color: #E2EBFA;\n",
              "      --hover-fill-color: #174EA6;\n",
              "      --disabled-fill-color: #AAA;\n",
              "      --disabled-bg-color: #DDD;\n",
              "  }\n",
              "\n",
              "  [theme=dark] .colab-df-quickchart {\n",
              "      --bg-color: #3B4455;\n",
              "      --fill-color: #D2E3FC;\n",
              "      --hover-bg-color: #434B5C;\n",
              "      --hover-fill-color: #FFFFFF;\n",
              "      --disabled-bg-color: #3B4455;\n",
              "      --disabled-fill-color: #666;\n",
              "  }\n",
              "\n",
              "  .colab-df-quickchart {\n",
              "    background-color: var(--bg-color);\n",
              "    border: none;\n",
              "    border-radius: 50%;\n",
              "    cursor: pointer;\n",
              "    display: none;\n",
              "    fill: var(--fill-color);\n",
              "    height: 32px;\n",
              "    padding: 0;\n",
              "    width: 32px;\n",
              "  }\n",
              "\n",
              "  .colab-df-quickchart:hover {\n",
              "    background-color: var(--hover-bg-color);\n",
              "    box-shadow: 0 1px 2px rgba(60, 64, 67, 0.3), 0 1px 3px 1px rgba(60, 64, 67, 0.15);\n",
              "    fill: var(--button-hover-fill-color);\n",
              "  }\n",
              "\n",
              "  .colab-df-quickchart-complete:disabled,\n",
              "  .colab-df-quickchart-complete:disabled:hover {\n",
              "    background-color: var(--disabled-bg-color);\n",
              "    fill: var(--disabled-fill-color);\n",
              "    box-shadow: none;\n",
              "  }\n",
              "\n",
              "  .colab-df-spinner {\n",
              "    border: 2px solid var(--fill-color);\n",
              "    border-color: transparent;\n",
              "    border-bottom-color: var(--fill-color);\n",
              "    animation:\n",
              "      spin 1s steps(1) infinite;\n",
              "  }\n",
              "\n",
              "  @keyframes spin {\n",
              "    0% {\n",
              "      border-color: transparent;\n",
              "      border-bottom-color: var(--fill-color);\n",
              "      border-left-color: var(--fill-color);\n",
              "    }\n",
              "    20% {\n",
              "      border-color: transparent;\n",
              "      border-left-color: var(--fill-color);\n",
              "      border-top-color: var(--fill-color);\n",
              "    }\n",
              "    30% {\n",
              "      border-color: transparent;\n",
              "      border-left-color: var(--fill-color);\n",
              "      border-top-color: var(--fill-color);\n",
              "      border-right-color: var(--fill-color);\n",
              "    }\n",
              "    40% {\n",
              "      border-color: transparent;\n",
              "      border-right-color: var(--fill-color);\n",
              "      border-top-color: var(--fill-color);\n",
              "    }\n",
              "    60% {\n",
              "      border-color: transparent;\n",
              "      border-right-color: var(--fill-color);\n",
              "    }\n",
              "    80% {\n",
              "      border-color: transparent;\n",
              "      border-right-color: var(--fill-color);\n",
              "      border-bottom-color: var(--fill-color);\n",
              "    }\n",
              "    90% {\n",
              "      border-color: transparent;\n",
              "      border-bottom-color: var(--fill-color);\n",
              "    }\n",
              "  }\n",
              "</style>\n",
              "\n",
              "  <script>\n",
              "    async function quickchart(key) {\n",
              "      const quickchartButtonEl =\n",
              "        document.querySelector('#' + key + ' button');\n",
              "      quickchartButtonEl.disabled = true;  // To prevent multiple clicks.\n",
              "      quickchartButtonEl.classList.add('colab-df-spinner');\n",
              "      try {\n",
              "        const charts = await google.colab.kernel.invokeFunction(\n",
              "            'suggestCharts', [key], {});\n",
              "      } catch (error) {\n",
              "        console.error('Error during call to suggestCharts:', error);\n",
              "      }\n",
              "      quickchartButtonEl.classList.remove('colab-df-spinner');\n",
              "      quickchartButtonEl.classList.add('colab-df-quickchart-complete');\n",
              "    }\n",
              "    (() => {\n",
              "      let quickchartButtonEl =\n",
              "        document.querySelector('#df-8f8391b4-f283-4587-b6ed-79ea06076aed button');\n",
              "      quickchartButtonEl.style.display =\n",
              "        google.colab.kernel.accessAllowed ? 'block' : 'none';\n",
              "    })();\n",
              "  </script>\n",
              "</div>\n",
              "\n",
              "  <div id=\"id_0be793b6-27b1-490e-ad9d-708f1e945fb7\">\n",
              "    <style>\n",
              "      .colab-df-generate {\n",
              "        background-color: #E8F0FE;\n",
              "        border: none;\n",
              "        border-radius: 50%;\n",
              "        cursor: pointer;\n",
              "        display: none;\n",
              "        fill: #1967D2;\n",
              "        height: 32px;\n",
              "        padding: 0 0 0 0;\n",
              "        width: 32px;\n",
              "      }\n",
              "\n",
              "      .colab-df-generate:hover {\n",
              "        background-color: #E2EBFA;\n",
              "        box-shadow: 0px 1px 2px rgba(60, 64, 67, 0.3), 0px 1px 3px 1px rgba(60, 64, 67, 0.15);\n",
              "        fill: #174EA6;\n",
              "      }\n",
              "\n",
              "      [theme=dark] .colab-df-generate {\n",
              "        background-color: #3B4455;\n",
              "        fill: #D2E3FC;\n",
              "      }\n",
              "\n",
              "      [theme=dark] .colab-df-generate:hover {\n",
              "        background-color: #434B5C;\n",
              "        box-shadow: 0px 1px 3px 1px rgba(0, 0, 0, 0.15);\n",
              "        filter: drop-shadow(0px 1px 2px rgba(0, 0, 0, 0.3));\n",
              "        fill: #FFFFFF;\n",
              "      }\n",
              "    </style>\n",
              "    <button class=\"colab-df-generate\" onclick=\"generateWithVariable('encode_test')\"\n",
              "            title=\"Generate code using this dataframe.\"\n",
              "            style=\"display:none;\">\n",
              "\n",
              "  <svg xmlns=\"http://www.w3.org/2000/svg\" height=\"24px\"viewBox=\"0 0 24 24\"\n",
              "       width=\"24px\">\n",
              "    <path d=\"M7,19H8.4L18.45,9,17,7.55,7,17.6ZM5,21V16.75L18.45,3.32a2,2,0,0,1,2.83,0l1.4,1.43a1.91,1.91,0,0,1,.58,1.4,1.91,1.91,0,0,1-.58,1.4L9.25,21ZM18.45,9,17,7.55Zm-12,3A5.31,5.31,0,0,0,4.9,8.1,5.31,5.31,0,0,0,1,6.5,5.31,5.31,0,0,0,4.9,4.9,5.31,5.31,0,0,0,6.5,1,5.31,5.31,0,0,0,8.1,4.9,5.31,5.31,0,0,0,12,6.5,5.46,5.46,0,0,0,6.5,12Z\"/>\n",
              "  </svg>\n",
              "    </button>\n",
              "    <script>\n",
              "      (() => {\n",
              "      const buttonEl =\n",
              "        document.querySelector('#id_0be793b6-27b1-490e-ad9d-708f1e945fb7 button.colab-df-generate');\n",
              "      buttonEl.style.display =\n",
              "        google.colab.kernel.accessAllowed ? 'block' : 'none';\n",
              "\n",
              "      buttonEl.onclick = () => {\n",
              "        google.colab.notebook.generateWithVariable('encode_test');\n",
              "      }\n",
              "      })();\n",
              "    </script>\n",
              "  </div>\n",
              "\n",
              "    </div>\n",
              "  </div>\n"
            ]
          },
          "metadata": {},
          "execution_count": 188
        }
      ]
    },
    {
      "cell_type": "code",
      "source": [
        "# Feature engineering Train Data\n",
        "drop_columns = [\"CustomerID\", \"Count\", \"Country\", \"State\", \"City\", \"Zip Code\", \"Lat Long\", \"Latitude\", \"Longitude\"]\n",
        "category_yes_no = ['Senior Citizen', 'Partner', 'Dependents', 'Phone Service', 'Paperless Billing']\n",
        "categories_many = ['Gender', 'Multiple Lines', 'Internet Service', 'Online Security', 'Online Backup', 'Device Protection', 'Tech Support', 'Streaming TV', 'Streaming Movies', 'Contract', 'Payment Method']\n",
        "\n",
        "train_data = train_data.copy()\n",
        "for category in category_yes_no:\n",
        "  train_data = zeros_and_ones(train_data, category)\n",
        "\n",
        "\n",
        "for category in categories_many:\n",
        "  train_data = one_hot_encode_column(train_data, category)\n",
        "\n",
        "encode_train = train_data.drop(drop_columns, axis=1)\n",
        "encode_train"
      ],
      "metadata": {
        "colab": {
          "base_uri": "https://localhost:8080/",
          "height": 496
        },
        "id": "uvzTJLf4yC2y",
        "outputId": "29d52454-a15b-4c70-c673-1f2ac190c256"
      },
      "execution_count": 189,
      "outputs": [
        {
          "output_type": "execute_result",
          "data": {
            "text/plain": [
              "      Senior Citizen  Partner  Dependents  Tenure Months  Phone Service  \\\n",
              "0                  0        0           1             21              1   \n",
              "1                  0        0           1              9              1   \n",
              "2                  0        1           0             69              1   \n",
              "3                  0        0           0              9              1   \n",
              "4                  0        1           0              5              1   \n",
              "...              ...      ...         ...            ...            ...   \n",
              "3939               0        0           0              3              1   \n",
              "3940               0        1           0             24              1   \n",
              "3941               0        0           0              1              1   \n",
              "3942               1        1           0             47              1   \n",
              "3943               0        0           0             33              1   \n",
              "\n",
              "      Paperless Billing  Monthly Charges  Churn Score  Churn Value  CLTV  ...  \\\n",
              "0                     0            80.35           62            0  4579  ...   \n",
              "1                     0            93.00           40            0  2267  ...   \n",
              "2                     1           106.40           26            0  4328  ...   \n",
              "3                     1            75.85           70            0  5212  ...   \n",
              "4                     0            20.10           42            0  2894  ...   \n",
              "...                 ...              ...          ...          ...   ...  ...   \n",
              "3939                  0            55.35           65            1  5787  ...   \n",
              "3940                  1            93.00           29            0  5886  ...   \n",
              "3941                  1            45.70           95            1  2295  ...   \n",
              "3942                  1            67.45           67            0  4074  ...   \n",
              "3943                  0            59.40           38            0  2853  ...   \n",
              "\n",
              "     Streaming Movies_No  Streaming Movies_No internet service  \\\n",
              "0                      1                                     0   \n",
              "1                      0                                     0   \n",
              "2                      0                                     0   \n",
              "3                      1                                     0   \n",
              "4                      0                                     1   \n",
              "...                  ...                                   ...   \n",
              "3939                   1                                     0   \n",
              "3940                   0                                     0   \n",
              "3941                   1                                     0   \n",
              "3942                   1                                     0   \n",
              "3943                   1                                     0   \n",
              "\n",
              "      Streaming Movies_Yes  Contract_Month-to-month  Contract_One year  \\\n",
              "0                        0                        1                  0   \n",
              "1                        1                        1                  0   \n",
              "2                        1                        0                  1   \n",
              "3                        0                        1                  0   \n",
              "4                        0                        0                  1   \n",
              "...                    ...                      ...                ...   \n",
              "3939                     0                        1                  0   \n",
              "3940                     1                        1                  0   \n",
              "3941                     0                        1                  0   \n",
              "3942                     0                        1                  0   \n",
              "3943                     0                        0                  1   \n",
              "\n",
              "      Contract_Two year  Payment Method_Bank transfer (automatic)  \\\n",
              "0                     0                                         0   \n",
              "1                     0                                         1   \n",
              "2                     0                                         0   \n",
              "3                     0                                         0   \n",
              "4                     0                                         0   \n",
              "...                 ...                                       ...   \n",
              "3939                  0                                         0   \n",
              "3940                  0                                         0   \n",
              "3941                  0                                         0   \n",
              "3942                  0                                         0   \n",
              "3943                  0                                         0   \n",
              "\n",
              "      Payment Method_Credit card (automatic)  Payment Method_Electronic check  \\\n",
              "0                                          0                                1   \n",
              "1                                          0                                0   \n",
              "2                                          1                                0   \n",
              "3                                          0                                1   \n",
              "4                                          0                                0   \n",
              "...                                      ...                              ...   \n",
              "3939                                       0                                1   \n",
              "3940                                       0                                1   \n",
              "3941                                       0                                0   \n",
              "3942                                       1                                0   \n",
              "3943                                       0                                1   \n",
              "\n",
              "      Payment Method_Mailed check  \n",
              "0                               0  \n",
              "1                               0  \n",
              "2                               0  \n",
              "3                               0  \n",
              "4                               1  \n",
              "...                           ...  \n",
              "3939                            0  \n",
              "3940                            0  \n",
              "3941                            1  \n",
              "3942                            0  \n",
              "3943                            0  \n",
              "\n",
              "[3944 rows x 44 columns]"
            ],
            "text/html": [
              "\n",
              "  <div id=\"df-ce6bae6a-e4b5-471e-9e9c-0a8809fd1d5c\" class=\"colab-df-container\">\n",
              "    <div>\n",
              "<style scoped>\n",
              "    .dataframe tbody tr th:only-of-type {\n",
              "        vertical-align: middle;\n",
              "    }\n",
              "\n",
              "    .dataframe tbody tr th {\n",
              "        vertical-align: top;\n",
              "    }\n",
              "\n",
              "    .dataframe thead th {\n",
              "        text-align: right;\n",
              "    }\n",
              "</style>\n",
              "<table border=\"1\" class=\"dataframe\">\n",
              "  <thead>\n",
              "    <tr style=\"text-align: right;\">\n",
              "      <th></th>\n",
              "      <th>Senior Citizen</th>\n",
              "      <th>Partner</th>\n",
              "      <th>Dependents</th>\n",
              "      <th>Tenure Months</th>\n",
              "      <th>Phone Service</th>\n",
              "      <th>Paperless Billing</th>\n",
              "      <th>Monthly Charges</th>\n",
              "      <th>Churn Score</th>\n",
              "      <th>Churn Value</th>\n",
              "      <th>CLTV</th>\n",
              "      <th>...</th>\n",
              "      <th>Streaming Movies_No</th>\n",
              "      <th>Streaming Movies_No internet service</th>\n",
              "      <th>Streaming Movies_Yes</th>\n",
              "      <th>Contract_Month-to-month</th>\n",
              "      <th>Contract_One year</th>\n",
              "      <th>Contract_Two year</th>\n",
              "      <th>Payment Method_Bank transfer (automatic)</th>\n",
              "      <th>Payment Method_Credit card (automatic)</th>\n",
              "      <th>Payment Method_Electronic check</th>\n",
              "      <th>Payment Method_Mailed check</th>\n",
              "    </tr>\n",
              "  </thead>\n",
              "  <tbody>\n",
              "    <tr>\n",
              "      <th>0</th>\n",
              "      <td>0</td>\n",
              "      <td>0</td>\n",
              "      <td>1</td>\n",
              "      <td>21</td>\n",
              "      <td>1</td>\n",
              "      <td>0</td>\n",
              "      <td>80.35</td>\n",
              "      <td>62</td>\n",
              "      <td>0</td>\n",
              "      <td>4579</td>\n",
              "      <td>...</td>\n",
              "      <td>1</td>\n",
              "      <td>0</td>\n",
              "      <td>0</td>\n",
              "      <td>1</td>\n",
              "      <td>0</td>\n",
              "      <td>0</td>\n",
              "      <td>0</td>\n",
              "      <td>0</td>\n",
              "      <td>1</td>\n",
              "      <td>0</td>\n",
              "    </tr>\n",
              "    <tr>\n",
              "      <th>1</th>\n",
              "      <td>0</td>\n",
              "      <td>0</td>\n",
              "      <td>1</td>\n",
              "      <td>9</td>\n",
              "      <td>1</td>\n",
              "      <td>0</td>\n",
              "      <td>93.00</td>\n",
              "      <td>40</td>\n",
              "      <td>0</td>\n",
              "      <td>2267</td>\n",
              "      <td>...</td>\n",
              "      <td>0</td>\n",
              "      <td>0</td>\n",
              "      <td>1</td>\n",
              "      <td>1</td>\n",
              "      <td>0</td>\n",
              "      <td>0</td>\n",
              "      <td>1</td>\n",
              "      <td>0</td>\n",
              "      <td>0</td>\n",
              "      <td>0</td>\n",
              "    </tr>\n",
              "    <tr>\n",
              "      <th>2</th>\n",
              "      <td>0</td>\n",
              "      <td>1</td>\n",
              "      <td>0</td>\n",
              "      <td>69</td>\n",
              "      <td>1</td>\n",
              "      <td>1</td>\n",
              "      <td>106.40</td>\n",
              "      <td>26</td>\n",
              "      <td>0</td>\n",
              "      <td>4328</td>\n",
              "      <td>...</td>\n",
              "      <td>0</td>\n",
              "      <td>0</td>\n",
              "      <td>1</td>\n",
              "      <td>0</td>\n",
              "      <td>1</td>\n",
              "      <td>0</td>\n",
              "      <td>0</td>\n",
              "      <td>1</td>\n",
              "      <td>0</td>\n",
              "      <td>0</td>\n",
              "    </tr>\n",
              "    <tr>\n",
              "      <th>3</th>\n",
              "      <td>0</td>\n",
              "      <td>0</td>\n",
              "      <td>0</td>\n",
              "      <td>9</td>\n",
              "      <td>1</td>\n",
              "      <td>1</td>\n",
              "      <td>75.85</td>\n",
              "      <td>70</td>\n",
              "      <td>0</td>\n",
              "      <td>5212</td>\n",
              "      <td>...</td>\n",
              "      <td>1</td>\n",
              "      <td>0</td>\n",
              "      <td>0</td>\n",
              "      <td>1</td>\n",
              "      <td>0</td>\n",
              "      <td>0</td>\n",
              "      <td>0</td>\n",
              "      <td>0</td>\n",
              "      <td>1</td>\n",
              "      <td>0</td>\n",
              "    </tr>\n",
              "    <tr>\n",
              "      <th>4</th>\n",
              "      <td>0</td>\n",
              "      <td>1</td>\n",
              "      <td>0</td>\n",
              "      <td>5</td>\n",
              "      <td>1</td>\n",
              "      <td>0</td>\n",
              "      <td>20.10</td>\n",
              "      <td>42</td>\n",
              "      <td>0</td>\n",
              "      <td>2894</td>\n",
              "      <td>...</td>\n",
              "      <td>0</td>\n",
              "      <td>1</td>\n",
              "      <td>0</td>\n",
              "      <td>0</td>\n",
              "      <td>1</td>\n",
              "      <td>0</td>\n",
              "      <td>0</td>\n",
              "      <td>0</td>\n",
              "      <td>0</td>\n",
              "      <td>1</td>\n",
              "    </tr>\n",
              "    <tr>\n",
              "      <th>...</th>\n",
              "      <td>...</td>\n",
              "      <td>...</td>\n",
              "      <td>...</td>\n",
              "      <td>...</td>\n",
              "      <td>...</td>\n",
              "      <td>...</td>\n",
              "      <td>...</td>\n",
              "      <td>...</td>\n",
              "      <td>...</td>\n",
              "      <td>...</td>\n",
              "      <td>...</td>\n",
              "      <td>...</td>\n",
              "      <td>...</td>\n",
              "      <td>...</td>\n",
              "      <td>...</td>\n",
              "      <td>...</td>\n",
              "      <td>...</td>\n",
              "      <td>...</td>\n",
              "      <td>...</td>\n",
              "      <td>...</td>\n",
              "      <td>...</td>\n",
              "    </tr>\n",
              "    <tr>\n",
              "      <th>3939</th>\n",
              "      <td>0</td>\n",
              "      <td>0</td>\n",
              "      <td>0</td>\n",
              "      <td>3</td>\n",
              "      <td>1</td>\n",
              "      <td>0</td>\n",
              "      <td>55.35</td>\n",
              "      <td>65</td>\n",
              "      <td>1</td>\n",
              "      <td>5787</td>\n",
              "      <td>...</td>\n",
              "      <td>1</td>\n",
              "      <td>0</td>\n",
              "      <td>0</td>\n",
              "      <td>1</td>\n",
              "      <td>0</td>\n",
              "      <td>0</td>\n",
              "      <td>0</td>\n",
              "      <td>0</td>\n",
              "      <td>1</td>\n",
              "      <td>0</td>\n",
              "    </tr>\n",
              "    <tr>\n",
              "      <th>3940</th>\n",
              "      <td>0</td>\n",
              "      <td>1</td>\n",
              "      <td>0</td>\n",
              "      <td>24</td>\n",
              "      <td>1</td>\n",
              "      <td>1</td>\n",
              "      <td>93.00</td>\n",
              "      <td>29</td>\n",
              "      <td>0</td>\n",
              "      <td>5886</td>\n",
              "      <td>...</td>\n",
              "      <td>0</td>\n",
              "      <td>0</td>\n",
              "      <td>1</td>\n",
              "      <td>1</td>\n",
              "      <td>0</td>\n",
              "      <td>0</td>\n",
              "      <td>0</td>\n",
              "      <td>0</td>\n",
              "      <td>1</td>\n",
              "      <td>0</td>\n",
              "    </tr>\n",
              "    <tr>\n",
              "      <th>3941</th>\n",
              "      <td>0</td>\n",
              "      <td>0</td>\n",
              "      <td>0</td>\n",
              "      <td>1</td>\n",
              "      <td>1</td>\n",
              "      <td>1</td>\n",
              "      <td>45.70</td>\n",
              "      <td>95</td>\n",
              "      <td>1</td>\n",
              "      <td>2295</td>\n",
              "      <td>...</td>\n",
              "      <td>1</td>\n",
              "      <td>0</td>\n",
              "      <td>0</td>\n",
              "      <td>1</td>\n",
              "      <td>0</td>\n",
              "      <td>0</td>\n",
              "      <td>0</td>\n",
              "      <td>0</td>\n",
              "      <td>0</td>\n",
              "      <td>1</td>\n",
              "    </tr>\n",
              "    <tr>\n",
              "      <th>3942</th>\n",
              "      <td>1</td>\n",
              "      <td>1</td>\n",
              "      <td>0</td>\n",
              "      <td>47</td>\n",
              "      <td>1</td>\n",
              "      <td>1</td>\n",
              "      <td>67.45</td>\n",
              "      <td>67</td>\n",
              "      <td>0</td>\n",
              "      <td>4074</td>\n",
              "      <td>...</td>\n",
              "      <td>1</td>\n",
              "      <td>0</td>\n",
              "      <td>0</td>\n",
              "      <td>1</td>\n",
              "      <td>0</td>\n",
              "      <td>0</td>\n",
              "      <td>0</td>\n",
              "      <td>1</td>\n",
              "      <td>0</td>\n",
              "      <td>0</td>\n",
              "    </tr>\n",
              "    <tr>\n",
              "      <th>3943</th>\n",
              "      <td>0</td>\n",
              "      <td>0</td>\n",
              "      <td>0</td>\n",
              "      <td>33</td>\n",
              "      <td>1</td>\n",
              "      <td>0</td>\n",
              "      <td>59.40</td>\n",
              "      <td>38</td>\n",
              "      <td>0</td>\n",
              "      <td>2853</td>\n",
              "      <td>...</td>\n",
              "      <td>1</td>\n",
              "      <td>0</td>\n",
              "      <td>0</td>\n",
              "      <td>0</td>\n",
              "      <td>1</td>\n",
              "      <td>0</td>\n",
              "      <td>0</td>\n",
              "      <td>0</td>\n",
              "      <td>1</td>\n",
              "      <td>0</td>\n",
              "    </tr>\n",
              "  </tbody>\n",
              "</table>\n",
              "<p>3944 rows × 44 columns</p>\n",
              "</div>\n",
              "    <div class=\"colab-df-buttons\">\n",
              "\n",
              "  <div class=\"colab-df-container\">\n",
              "    <button class=\"colab-df-convert\" onclick=\"convertToInteractive('df-ce6bae6a-e4b5-471e-9e9c-0a8809fd1d5c')\"\n",
              "            title=\"Convert this dataframe to an interactive table.\"\n",
              "            style=\"display:none;\">\n",
              "\n",
              "  <svg xmlns=\"http://www.w3.org/2000/svg\" height=\"24px\" viewBox=\"0 -960 960 960\">\n",
              "    <path d=\"M120-120v-720h720v720H120Zm60-500h600v-160H180v160Zm220 220h160v-160H400v160Zm0 220h160v-160H400v160ZM180-400h160v-160H180v160Zm440 0h160v-160H620v160ZM180-180h160v-160H180v160Zm440 0h160v-160H620v160Z\"/>\n",
              "  </svg>\n",
              "    </button>\n",
              "\n",
              "  <style>\n",
              "    .colab-df-container {\n",
              "      display:flex;\n",
              "      gap: 12px;\n",
              "    }\n",
              "\n",
              "    .colab-df-convert {\n",
              "      background-color: #E8F0FE;\n",
              "      border: none;\n",
              "      border-radius: 50%;\n",
              "      cursor: pointer;\n",
              "      display: none;\n",
              "      fill: #1967D2;\n",
              "      height: 32px;\n",
              "      padding: 0 0 0 0;\n",
              "      width: 32px;\n",
              "    }\n",
              "\n",
              "    .colab-df-convert:hover {\n",
              "      background-color: #E2EBFA;\n",
              "      box-shadow: 0px 1px 2px rgba(60, 64, 67, 0.3), 0px 1px 3px 1px rgba(60, 64, 67, 0.15);\n",
              "      fill: #174EA6;\n",
              "    }\n",
              "\n",
              "    .colab-df-buttons div {\n",
              "      margin-bottom: 4px;\n",
              "    }\n",
              "\n",
              "    [theme=dark] .colab-df-convert {\n",
              "      background-color: #3B4455;\n",
              "      fill: #D2E3FC;\n",
              "    }\n",
              "\n",
              "    [theme=dark] .colab-df-convert:hover {\n",
              "      background-color: #434B5C;\n",
              "      box-shadow: 0px 1px 3px 1px rgba(0, 0, 0, 0.15);\n",
              "      filter: drop-shadow(0px 1px 2px rgba(0, 0, 0, 0.3));\n",
              "      fill: #FFFFFF;\n",
              "    }\n",
              "  </style>\n",
              "\n",
              "    <script>\n",
              "      const buttonEl =\n",
              "        document.querySelector('#df-ce6bae6a-e4b5-471e-9e9c-0a8809fd1d5c button.colab-df-convert');\n",
              "      buttonEl.style.display =\n",
              "        google.colab.kernel.accessAllowed ? 'block' : 'none';\n",
              "\n",
              "      async function convertToInteractive(key) {\n",
              "        const element = document.querySelector('#df-ce6bae6a-e4b5-471e-9e9c-0a8809fd1d5c');\n",
              "        const dataTable =\n",
              "          await google.colab.kernel.invokeFunction('convertToInteractive',\n",
              "                                                    [key], {});\n",
              "        if (!dataTable) return;\n",
              "\n",
              "        const docLinkHtml = 'Like what you see? Visit the ' +\n",
              "          '<a target=\"_blank\" href=https://colab.research.google.com/notebooks/data_table.ipynb>data table notebook</a>'\n",
              "          + ' to learn more about interactive tables.';\n",
              "        element.innerHTML = '';\n",
              "        dataTable['output_type'] = 'display_data';\n",
              "        await google.colab.output.renderOutput(dataTable, element);\n",
              "        const docLink = document.createElement('div');\n",
              "        docLink.innerHTML = docLinkHtml;\n",
              "        element.appendChild(docLink);\n",
              "      }\n",
              "    </script>\n",
              "  </div>\n",
              "\n",
              "\n",
              "<div id=\"df-5645401c-ac89-4d41-b703-243ab37905ad\">\n",
              "  <button class=\"colab-df-quickchart\" onclick=\"quickchart('df-5645401c-ac89-4d41-b703-243ab37905ad')\"\n",
              "            title=\"Suggest charts\"\n",
              "            style=\"display:none;\">\n",
              "\n",
              "<svg xmlns=\"http://www.w3.org/2000/svg\" height=\"24px\"viewBox=\"0 0 24 24\"\n",
              "     width=\"24px\">\n",
              "    <g>\n",
              "        <path d=\"M19 3H5c-1.1 0-2 .9-2 2v14c0 1.1.9 2 2 2h14c1.1 0 2-.9 2-2V5c0-1.1-.9-2-2-2zM9 17H7v-7h2v7zm4 0h-2V7h2v10zm4 0h-2v-4h2v4z\"/>\n",
              "    </g>\n",
              "</svg>\n",
              "  </button>\n",
              "\n",
              "<style>\n",
              "  .colab-df-quickchart {\n",
              "      --bg-color: #E8F0FE;\n",
              "      --fill-color: #1967D2;\n",
              "      --hover-bg-color: #E2EBFA;\n",
              "      --hover-fill-color: #174EA6;\n",
              "      --disabled-fill-color: #AAA;\n",
              "      --disabled-bg-color: #DDD;\n",
              "  }\n",
              "\n",
              "  [theme=dark] .colab-df-quickchart {\n",
              "      --bg-color: #3B4455;\n",
              "      --fill-color: #D2E3FC;\n",
              "      --hover-bg-color: #434B5C;\n",
              "      --hover-fill-color: #FFFFFF;\n",
              "      --disabled-bg-color: #3B4455;\n",
              "      --disabled-fill-color: #666;\n",
              "  }\n",
              "\n",
              "  .colab-df-quickchart {\n",
              "    background-color: var(--bg-color);\n",
              "    border: none;\n",
              "    border-radius: 50%;\n",
              "    cursor: pointer;\n",
              "    display: none;\n",
              "    fill: var(--fill-color);\n",
              "    height: 32px;\n",
              "    padding: 0;\n",
              "    width: 32px;\n",
              "  }\n",
              "\n",
              "  .colab-df-quickchart:hover {\n",
              "    background-color: var(--hover-bg-color);\n",
              "    box-shadow: 0 1px 2px rgba(60, 64, 67, 0.3), 0 1px 3px 1px rgba(60, 64, 67, 0.15);\n",
              "    fill: var(--button-hover-fill-color);\n",
              "  }\n",
              "\n",
              "  .colab-df-quickchart-complete:disabled,\n",
              "  .colab-df-quickchart-complete:disabled:hover {\n",
              "    background-color: var(--disabled-bg-color);\n",
              "    fill: var(--disabled-fill-color);\n",
              "    box-shadow: none;\n",
              "  }\n",
              "\n",
              "  .colab-df-spinner {\n",
              "    border: 2px solid var(--fill-color);\n",
              "    border-color: transparent;\n",
              "    border-bottom-color: var(--fill-color);\n",
              "    animation:\n",
              "      spin 1s steps(1) infinite;\n",
              "  }\n",
              "\n",
              "  @keyframes spin {\n",
              "    0% {\n",
              "      border-color: transparent;\n",
              "      border-bottom-color: var(--fill-color);\n",
              "      border-left-color: var(--fill-color);\n",
              "    }\n",
              "    20% {\n",
              "      border-color: transparent;\n",
              "      border-left-color: var(--fill-color);\n",
              "      border-top-color: var(--fill-color);\n",
              "    }\n",
              "    30% {\n",
              "      border-color: transparent;\n",
              "      border-left-color: var(--fill-color);\n",
              "      border-top-color: var(--fill-color);\n",
              "      border-right-color: var(--fill-color);\n",
              "    }\n",
              "    40% {\n",
              "      border-color: transparent;\n",
              "      border-right-color: var(--fill-color);\n",
              "      border-top-color: var(--fill-color);\n",
              "    }\n",
              "    60% {\n",
              "      border-color: transparent;\n",
              "      border-right-color: var(--fill-color);\n",
              "    }\n",
              "    80% {\n",
              "      border-color: transparent;\n",
              "      border-right-color: var(--fill-color);\n",
              "      border-bottom-color: var(--fill-color);\n",
              "    }\n",
              "    90% {\n",
              "      border-color: transparent;\n",
              "      border-bottom-color: var(--fill-color);\n",
              "    }\n",
              "  }\n",
              "</style>\n",
              "\n",
              "  <script>\n",
              "    async function quickchart(key) {\n",
              "      const quickchartButtonEl =\n",
              "        document.querySelector('#' + key + ' button');\n",
              "      quickchartButtonEl.disabled = true;  // To prevent multiple clicks.\n",
              "      quickchartButtonEl.classList.add('colab-df-spinner');\n",
              "      try {\n",
              "        const charts = await google.colab.kernel.invokeFunction(\n",
              "            'suggestCharts', [key], {});\n",
              "      } catch (error) {\n",
              "        console.error('Error during call to suggestCharts:', error);\n",
              "      }\n",
              "      quickchartButtonEl.classList.remove('colab-df-spinner');\n",
              "      quickchartButtonEl.classList.add('colab-df-quickchart-complete');\n",
              "    }\n",
              "    (() => {\n",
              "      let quickchartButtonEl =\n",
              "        document.querySelector('#df-5645401c-ac89-4d41-b703-243ab37905ad button');\n",
              "      quickchartButtonEl.style.display =\n",
              "        google.colab.kernel.accessAllowed ? 'block' : 'none';\n",
              "    })();\n",
              "  </script>\n",
              "</div>\n",
              "\n",
              "  <div id=\"id_995cab2f-74b8-4a20-b71d-23c7f747130e\">\n",
              "    <style>\n",
              "      .colab-df-generate {\n",
              "        background-color: #E8F0FE;\n",
              "        border: none;\n",
              "        border-radius: 50%;\n",
              "        cursor: pointer;\n",
              "        display: none;\n",
              "        fill: #1967D2;\n",
              "        height: 32px;\n",
              "        padding: 0 0 0 0;\n",
              "        width: 32px;\n",
              "      }\n",
              "\n",
              "      .colab-df-generate:hover {\n",
              "        background-color: #E2EBFA;\n",
              "        box-shadow: 0px 1px 2px rgba(60, 64, 67, 0.3), 0px 1px 3px 1px rgba(60, 64, 67, 0.15);\n",
              "        fill: #174EA6;\n",
              "      }\n",
              "\n",
              "      [theme=dark] .colab-df-generate {\n",
              "        background-color: #3B4455;\n",
              "        fill: #D2E3FC;\n",
              "      }\n",
              "\n",
              "      [theme=dark] .colab-df-generate:hover {\n",
              "        background-color: #434B5C;\n",
              "        box-shadow: 0px 1px 3px 1px rgba(0, 0, 0, 0.15);\n",
              "        filter: drop-shadow(0px 1px 2px rgba(0, 0, 0, 0.3));\n",
              "        fill: #FFFFFF;\n",
              "      }\n",
              "    </style>\n",
              "    <button class=\"colab-df-generate\" onclick=\"generateWithVariable('encode_train')\"\n",
              "            title=\"Generate code using this dataframe.\"\n",
              "            style=\"display:none;\">\n",
              "\n",
              "  <svg xmlns=\"http://www.w3.org/2000/svg\" height=\"24px\"viewBox=\"0 0 24 24\"\n",
              "       width=\"24px\">\n",
              "    <path d=\"M7,19H8.4L18.45,9,17,7.55,7,17.6ZM5,21V16.75L18.45,3.32a2,2,0,0,1,2.83,0l1.4,1.43a1.91,1.91,0,0,1,.58,1.4,1.91,1.91,0,0,1-.58,1.4L9.25,21ZM18.45,9,17,7.55Zm-12,3A5.31,5.31,0,0,0,4.9,8.1,5.31,5.31,0,0,0,1,6.5,5.31,5.31,0,0,0,4.9,4.9,5.31,5.31,0,0,0,6.5,1,5.31,5.31,0,0,0,8.1,4.9,5.31,5.31,0,0,0,12,6.5,5.46,5.46,0,0,0,6.5,12Z\"/>\n",
              "  </svg>\n",
              "    </button>\n",
              "    <script>\n",
              "      (() => {\n",
              "      const buttonEl =\n",
              "        document.querySelector('#id_995cab2f-74b8-4a20-b71d-23c7f747130e button.colab-df-generate');\n",
              "      buttonEl.style.display =\n",
              "        google.colab.kernel.accessAllowed ? 'block' : 'none';\n",
              "\n",
              "      buttonEl.onclick = () => {\n",
              "        google.colab.notebook.generateWithVariable('encode_train');\n",
              "      }\n",
              "      })();\n",
              "    </script>\n",
              "  </div>\n",
              "\n",
              "    </div>\n",
              "  </div>\n"
            ]
          },
          "metadata": {},
          "execution_count": 189
        }
      ]
    },
    {
      "cell_type": "code",
      "source": [
        "# deviding data to X and y\n",
        "targets = ['Churn Score', 'Churn Value' ,'CLTV', 'Churn Reason']\n",
        "\n",
        "X = encode_train.drop(targets, axis=1)\n",
        "y = encode_train['Churn Value']"
      ],
      "metadata": {
        "id": "iQpwP82LxwuL"
      },
      "execution_count": 190,
      "outputs": []
    },
    {
      "cell_type": "code",
      "source": [
        "X_train, X_test, y_train, y_test = train_test_split(X, y, test_size=0.33, random_state=42)"
      ],
      "metadata": {
        "id": "gLOioyBxv-0U"
      },
      "execution_count": 191,
      "outputs": []
    },
    {
      "cell_type": "markdown",
      "source": [
        "# SMOTE"
      ],
      "metadata": {
        "id": "I89-Ryfw4cV8"
      }
    },
    {
      "cell_type": "code",
      "source": [
        "from imblearn.over_sampling import SMOTE"
      ],
      "metadata": {
        "id": "ZI1rNyrAqP7q"
      },
      "execution_count": 192,
      "outputs": []
    },
    {
      "cell_type": "code",
      "source": [
        "smote = SMOTE(random_state=42)\n",
        "X_train_resampled, y_train_resampled = smote.fit_resample(X_train, y_train)\n",
        "X_smote, y_smote = smote.fit_resample(X, y)"
      ],
      "metadata": {
        "id": "17JKkWwmstKz"
      },
      "execution_count": 193,
      "outputs": []
    },
    {
      "cell_type": "code",
      "source": [
        "print(\"Class distribution before SMOTE:\")\n",
        "print(y_train.value_counts())\n",
        "\n",
        "print(\"\\nClass distribution after SMOTE:\")\n",
        "print(y_train_resampled.value_counts())\n",
        "\n",
        "print(\"Class distribution before SMOTE:\")\n",
        "print(y.value_counts())\n",
        "\n",
        "print(\"\\nClass distribution after SMOTE:\")\n",
        "print(y_smote.value_counts())"
      ],
      "metadata": {
        "id": "Q-j2GVLZvnWy",
        "outputId": "0964a1c2-544a-4c71-8864-7c2e7cff54e2",
        "colab": {
          "base_uri": "https://localhost:8080/"
        }
      },
      "execution_count": 196,
      "outputs": [
        {
          "output_type": "stream",
          "name": "stdout",
          "text": [
            "Class distribution before SMOTE:\n",
            "0    2899\n",
            "1    1045\n",
            "Name: Churn Value, dtype: int64\n",
            "\n",
            "Class distribution after SMOTE:\n",
            "0    2899\n",
            "1    2899\n",
            "Name: Churn Value, dtype: int64\n"
          ]
        }
      ]
    },
    {
      "cell_type": "markdown",
      "source": [
        "# Models"
      ],
      "metadata": {
        "id": "bBU6mtO4x7mR"
      }
    },
    {
      "cell_type": "code",
      "source": [
        "from xgboost import XGBClassifier\n",
        "from sklearn.model_selection import KFold\n",
        "from sklearn.ensemble import RandomForestClassifier, GradientBoostingClassifier, ExtraTreesClassifier, AdaBoostClassifier, VotingClassifier\n",
        "from sklearn.linear_model import LinearRegression, LogisticRegression\n",
        "from sklearn.metrics import classification_report\n",
        "from sklearn.metrics import accuracy_score\n",
        "from sklearn.svm import SVC"
      ],
      "metadata": {
        "id": "xnajwBARxC-T"
      },
      "execution_count": 197,
      "outputs": []
    },
    {
      "cell_type": "markdown",
      "source": [
        "# Ensemble 1\n",
        "- XGBoost\n",
        "- AdaBoost\n",
        "- Neural Network"
      ],
      "metadata": {
        "id": "PL8H0OnNlcYQ"
      }
    },
    {
      "cell_type": "code",
      "source": [
        "import tensorflow as tf"
      ],
      "metadata": {
        "id": "B_wfzoSClWpD"
      },
      "execution_count": 141,
      "outputs": []
    },
    {
      "cell_type": "code",
      "source": [
        "def plot_history(history):\n",
        "  fig, (ax1, ax2) = plt.subplots(1, 2, figsize=(10, 4))\n",
        "  ax1.plot(history.history['loss'], label='loss')\n",
        "  ax1.plot(history.history['val_loss'], label='val_loss')\n",
        "  ax1.set_xlabel('Epoch')\n",
        "  ax1.set_ylabel('Binary crossentropy')\n",
        "  ax1.grid(True)\n",
        "\n",
        "  ax2.plot(history.history['accuracy'], label='accuracy')\n",
        "  ax2.plot(history.history['val_accuracy'], label='val_accuracy')\n",
        "  ax2.set_xlabel('Epoch')\n",
        "  ax2.set_ylabel('Accuracy')\n",
        "  ax2.grid(True)\n",
        "\n",
        "  plt.show()"
      ],
      "metadata": {
        "id": "WRQg_of6m3XI"
      },
      "execution_count": 142,
      "outputs": []
    },
    {
      "cell_type": "code",
      "source": [
        "def train_model(X_train, y_train, num_nodes, dropout_prob, lr, batch_size, epochs):\n",
        "  model = tf.keras.Sequential([\n",
        "      tf.keras.layers.Dense(num_nodes, activation='relu', input_shape=(40,)),\n",
        "      tf.keras.layers.Dropout(dropout_prob),\n",
        "      tf.keras.layers.Dense(num_nodes, activation='relu'),\n",
        "      tf.keras.layers.Dropout(dropout_prob),\n",
        "      tf.keras.layers.Dense(1, activation='sigmoid')\n",
        "  ])\n",
        "\n",
        "  model.compile(optimizer=tf.keras.optimizers.Adam(lr), loss='binary_crossentropy',\n",
        "                  metrics=['accuracy'])\n",
        "  history = model.fit(\n",
        "    X_train, y_train, epochs=epochs, batch_size=batch_size, validation_split=0.2, verbose=0\n",
        "  )\n",
        "\n",
        "  return model, history"
      ],
      "metadata": {
        "id": "qNHLBqMjlcXy"
      },
      "execution_count": 143,
      "outputs": []
    },
    {
      "cell_type": "code",
      "source": [
        "least_val_loss = float('inf')\n",
        "least_loss_model = None\n",
        "epochs=100\n",
        "num_nodes = 32\n",
        "dropout_prob = 0.2\n",
        "lr = 0.005\n",
        "batch_size = 32\n",
        "\n",
        "print(f\"{num_nodes} nodes, dropout {dropout_prob}, lr {lr}, batch size {batch_size}\")\n",
        "nn_model, history = train_model(X_train_resampled, y_train_resampled, num_nodes, dropout_prob, lr, batch_size, epochs)\n",
        "plot_history(history)\n",
        "val_loss = nn_model.evaluate(X_test, y_test)[0]\n",
        "if val_loss < least_val_loss:\n",
        "  least_val_loss = val_loss\n",
        "  least_loss_model = nn_model"
      ],
      "metadata": {
        "id": "YDwHWqcflcaJ",
        "outputId": "3447def9-c19d-48be-fcb3-168b6f5a367c",
        "colab": {
          "base_uri": "https://localhost:8080/",
          "height": 423
        }
      },
      "execution_count": 144,
      "outputs": [
        {
          "output_type": "stream",
          "name": "stdout",
          "text": [
            "32 nodes, dropout 0.2, lr 0.005, batch size 32\n"
          ]
        },
        {
          "output_type": "display_data",
          "data": {
            "text/plain": [
              "<Figure size 1000x400 with 2 Axes>"
            ],
            "image/png": "[encoded data removed]"
          },
          "metadata": {}
        },
        {
          "output_type": "stream",
          "name": "stdout",
          "text": [
            "41/41 [==============================] - 0s 2ms/step - loss: 0.5756 - accuracy: 0.7320\n"
          ]
        }
      ]
    },
    {
      "cell_type": "code",
      "source": [
        "nn_model.fit(X_smote, y_smote, batch_size=32, epochs=100)"
      ],
      "metadata": {
        "id": "ac6Iq6FvlccP",
        "outputId": "c50f2c7b-b5ae-4b4a-8781-5e773f2fc785",
        "colab": {
          "base_uri": "https://localhost:8080/"
        }
      },
      "execution_count": 145,
      "outputs": [
        {
          "output_type": "stream",
          "name": "stdout",
          "text": [
            "Epoch 1/100\n",
            "182/182 [==============================] - 1s 2ms/step - loss: 1.0348 - accuracy: 0.7118\n",
            "Epoch 2/100\n",
            "182/182 [==============================] - 0s 2ms/step - loss: 0.4838 - accuracy: 0.7618\n",
            "Epoch 3/100\n",
            "182/182 [==============================] - 0s 2ms/step - loss: 0.4521 - accuracy: 0.7870\n",
            "Epoch 4/100\n",
            "182/182 [==============================] - 0s 2ms/step - loss: 0.4202 - accuracy: 0.8061\n",
            "Epoch 5/100\n",
            "182/182 [==============================] - 0s 2ms/step - loss: 0.3945 - accuracy: 0.8201\n",
            "Epoch 6/100\n",
            "182/182 [==============================] - 1s 3ms/step - loss: 0.3842 - accuracy: 0.8234\n",
            "Epoch 7/100\n",
            "182/182 [==============================] - 0s 3ms/step - loss: 0.3658 - accuracy: 0.8330\n",
            "Epoch 8/100\n",
            "182/182 [==============================] - 1s 3ms/step - loss: 0.3580 - accuracy: 0.8394\n",
            "Epoch 9/100\n",
            "182/182 [==============================] - 1s 3ms/step - loss: 0.3491 - accuracy: 0.8386\n",
            "Epoch 10/100\n",
            "182/182 [==============================] - 1s 3ms/step - loss: 0.3521 - accuracy: 0.8370\n",
            "Epoch 11/100\n",
            "182/182 [==============================] - 1s 3ms/step - loss: 0.3458 - accuracy: 0.8405\n",
            "Epoch 12/100\n",
            "182/182 [==============================] - 1s 4ms/step - loss: 0.3444 - accuracy: 0.8422\n",
            "Epoch 13/100\n",
            "182/182 [==============================] - 0s 3ms/step - loss: 0.3386 - accuracy: 0.8446\n",
            "Epoch 14/100\n",
            "182/182 [==============================] - 0s 2ms/step - loss: 0.3362 - accuracy: 0.8417\n",
            "Epoch 15/100\n",
            "182/182 [==============================] - 0s 2ms/step - loss: 0.3353 - accuracy: 0.8399\n",
            "Epoch 16/100\n",
            "182/182 [==============================] - 0s 2ms/step - loss: 0.3407 - accuracy: 0.8393\n",
            "Epoch 17/100\n",
            "182/182 [==============================] - 0s 2ms/step - loss: 0.3283 - accuracy: 0.8427\n",
            "Epoch 18/100\n",
            "182/182 [==============================] - 0s 3ms/step - loss: 0.3277 - accuracy: 0.8439\n",
            "Epoch 19/100\n",
            "182/182 [==============================] - 0s 3ms/step - loss: 0.3316 - accuracy: 0.8420\n",
            "Epoch 20/100\n",
            "182/182 [==============================] - 0s 3ms/step - loss: 0.3267 - accuracy: 0.8458\n",
            "Epoch 21/100\n",
            "182/182 [==============================] - 0s 2ms/step - loss: 0.3256 - accuracy: 0.8429\n",
            "Epoch 22/100\n",
            "182/182 [==============================] - 0s 2ms/step - loss: 0.3213 - accuracy: 0.8477\n",
            "Epoch 23/100\n",
            "182/182 [==============================] - 0s 2ms/step - loss: 0.3237 - accuracy: 0.8518\n",
            "Epoch 24/100\n",
            "182/182 [==============================] - 0s 2ms/step - loss: 0.3263 - accuracy: 0.8455\n",
            "Epoch 25/100\n",
            "182/182 [==============================] - 0s 2ms/step - loss: 0.3212 - accuracy: 0.8477\n",
            "Epoch 26/100\n",
            "182/182 [==============================] - 0s 2ms/step - loss: 0.3215 - accuracy: 0.8465\n",
            "Epoch 27/100\n",
            "182/182 [==============================] - 0s 2ms/step - loss: 0.3322 - accuracy: 0.8432\n",
            "Epoch 28/100\n",
            "182/182 [==============================] - 0s 2ms/step - loss: 0.3221 - accuracy: 0.8434\n",
            "Epoch 29/100\n",
            "182/182 [==============================] - 0s 2ms/step - loss: 0.3251 - accuracy: 0.8439\n",
            "Epoch 30/100\n",
            "182/182 [==============================] - 0s 2ms/step - loss: 0.3225 - accuracy: 0.8439\n",
            "Epoch 31/100\n",
            "182/182 [==============================] - 0s 2ms/step - loss: 0.3219 - accuracy: 0.8472\n",
            "Epoch 32/100\n",
            "182/182 [==============================] - 0s 2ms/step - loss: 0.3196 - accuracy: 0.8531\n",
            "Epoch 33/100\n",
            "182/182 [==============================] - 0s 2ms/step - loss: 0.3233 - accuracy: 0.8396\n",
            "Epoch 34/100\n",
            "182/182 [==============================] - 0s 2ms/step - loss: 0.3145 - accuracy: 0.8477\n",
            "Epoch 35/100\n",
            "182/182 [==============================] - 0s 2ms/step - loss: 0.3175 - accuracy: 0.8475\n",
            "Epoch 36/100\n",
            "182/182 [==============================] - 1s 3ms/step - loss: 0.3162 - accuracy: 0.8460\n",
            "Epoch 37/100\n",
            "182/182 [==============================] - 1s 4ms/step - loss: 0.3162 - accuracy: 0.8467\n",
            "Epoch 38/100\n",
            "182/182 [==============================] - 1s 3ms/step - loss: 0.3178 - accuracy: 0.8489\n",
            "Epoch 39/100\n",
            "182/182 [==============================] - 1s 4ms/step - loss: 0.3130 - accuracy: 0.8556\n",
            "Epoch 40/100\n",
            "182/182 [==============================] - 1s 4ms/step - loss: 0.3124 - accuracy: 0.8513\n",
            "Epoch 41/100\n",
            "182/182 [==============================] - 1s 4ms/step - loss: 0.3099 - accuracy: 0.8532\n",
            "Epoch 42/100\n",
            "182/182 [==============================] - 0s 2ms/step - loss: 0.3110 - accuracy: 0.8527\n",
            "Epoch 43/100\n",
            "182/182 [==============================] - 0s 2ms/step - loss: 0.3122 - accuracy: 0.8546\n",
            "Epoch 44/100\n",
            "182/182 [==============================] - 0s 2ms/step - loss: 0.3096 - accuracy: 0.8493\n",
            "Epoch 45/100\n",
            "182/182 [==============================] - 0s 2ms/step - loss: 0.3118 - accuracy: 0.8506\n",
            "Epoch 46/100\n",
            "182/182 [==============================] - 0s 2ms/step - loss: 0.3197 - accuracy: 0.8503\n",
            "Epoch 47/100\n",
            "182/182 [==============================] - 0s 2ms/step - loss: 0.3163 - accuracy: 0.8517\n",
            "Epoch 48/100\n",
            "182/182 [==============================] - 0s 2ms/step - loss: 0.3096 - accuracy: 0.8537\n",
            "Epoch 49/100\n",
            "182/182 [==============================] - 0s 2ms/step - loss: 0.3131 - accuracy: 0.8522\n",
            "Epoch 50/100\n",
            "182/182 [==============================] - 0s 2ms/step - loss: 0.3085 - accuracy: 0.8534\n",
            "Epoch 51/100\n",
            "182/182 [==============================] - 0s 2ms/step - loss: 0.3097 - accuracy: 0.8524\n",
            "Epoch 52/100\n",
            "182/182 [==============================] - 0s 2ms/step - loss: 0.3024 - accuracy: 0.8575\n",
            "Epoch 53/100\n",
            "182/182 [==============================] - 0s 2ms/step - loss: 0.3085 - accuracy: 0.8550\n",
            "Epoch 54/100\n",
            "182/182 [==============================] - 0s 2ms/step - loss: 0.3178 - accuracy: 0.8560\n",
            "Epoch 55/100\n",
            "182/182 [==============================] - 0s 2ms/step - loss: 0.3187 - accuracy: 0.8510\n",
            "Epoch 56/100\n",
            "182/182 [==============================] - 0s 2ms/step - loss: 0.3109 - accuracy: 0.8503\n",
            "Epoch 57/100\n",
            "182/182 [==============================] - 0s 2ms/step - loss: 0.3128 - accuracy: 0.8508\n",
            "Epoch 58/100\n",
            "182/182 [==============================] - 0s 2ms/step - loss: 0.3085 - accuracy: 0.8586\n",
            "Epoch 59/100\n",
            "182/182 [==============================] - 0s 2ms/step - loss: 0.3118 - accuracy: 0.8541\n",
            "Epoch 60/100\n",
            "182/182 [==============================] - 0s 2ms/step - loss: 0.3126 - accuracy: 0.8550\n",
            "Epoch 61/100\n",
            "182/182 [==============================] - 0s 2ms/step - loss: 0.3114 - accuracy: 0.8555\n",
            "Epoch 62/100\n",
            "182/182 [==============================] - 0s 2ms/step - loss: 0.3153 - accuracy: 0.8539\n",
            "Epoch 63/100\n",
            "182/182 [==============================] - 0s 2ms/step - loss: 0.3097 - accuracy: 0.8494\n",
            "Epoch 64/100\n",
            "182/182 [==============================] - 0s 2ms/step - loss: 0.3014 - accuracy: 0.8527\n",
            "Epoch 65/100\n",
            "182/182 [==============================] - 0s 3ms/step - loss: 0.3013 - accuracy: 0.8565\n",
            "Epoch 66/100\n",
            "182/182 [==============================] - 1s 4ms/step - loss: 0.3055 - accuracy: 0.8581\n",
            "Epoch 67/100\n",
            "182/182 [==============================] - 1s 4ms/step - loss: 0.3074 - accuracy: 0.8562\n",
            "Epoch 68/100\n",
            "182/182 [==============================] - 1s 4ms/step - loss: 0.3016 - accuracy: 0.8567\n",
            "Epoch 69/100\n",
            "182/182 [==============================] - 1s 4ms/step - loss: 0.3069 - accuracy: 0.8532\n",
            "Epoch 70/100\n",
            "182/182 [==============================] - 1s 4ms/step - loss: 0.3060 - accuracy: 0.8517\n",
            "Epoch 71/100\n",
            "182/182 [==============================] - 1s 3ms/step - loss: 0.3094 - accuracy: 0.8536\n",
            "Epoch 72/100\n",
            "182/182 [==============================] - 0s 2ms/step - loss: 0.3094 - accuracy: 0.8558\n",
            "Epoch 73/100\n",
            "182/182 [==============================] - 1s 3ms/step - loss: 0.3079 - accuracy: 0.8518\n",
            "Epoch 74/100\n",
            "182/182 [==============================] - 0s 2ms/step - loss: 0.3005 - accuracy: 0.8520\n",
            "Epoch 75/100\n",
            "182/182 [==============================] - 0s 2ms/step - loss: 0.3084 - accuracy: 0.8550\n",
            "Epoch 76/100\n",
            "182/182 [==============================] - 0s 2ms/step - loss: 0.3082 - accuracy: 0.8489\n",
            "Epoch 77/100\n",
            "182/182 [==============================] - 0s 2ms/step - loss: 0.3134 - accuracy: 0.8465\n",
            "Epoch 78/100\n",
            "182/182 [==============================] - 0s 2ms/step - loss: 0.3065 - accuracy: 0.8555\n",
            "Epoch 79/100\n",
            "182/182 [==============================] - 0s 2ms/step - loss: 0.3064 - accuracy: 0.8543\n",
            "Epoch 80/100\n",
            "182/182 [==============================] - 0s 2ms/step - loss: 0.3113 - accuracy: 0.8506\n",
            "Epoch 81/100\n",
            "182/182 [==============================] - 0s 2ms/step - loss: 0.3100 - accuracy: 0.8501\n",
            "Epoch 82/100\n",
            "182/182 [==============================] - 0s 3ms/step - loss: 0.3071 - accuracy: 0.8493\n",
            "Epoch 83/100\n",
            "182/182 [==============================] - 1s 6ms/step - loss: 0.3023 - accuracy: 0.8518\n",
            "Epoch 84/100\n",
            "182/182 [==============================] - 0s 2ms/step - loss: 0.3173 - accuracy: 0.8408\n",
            "Epoch 85/100\n",
            "182/182 [==============================] - 0s 2ms/step - loss: 0.3098 - accuracy: 0.8534\n",
            "Epoch 86/100\n",
            "182/182 [==============================] - 0s 2ms/step - loss: 0.3115 - accuracy: 0.8543\n",
            "Epoch 87/100\n",
            "182/182 [==============================] - 0s 2ms/step - loss: 0.3056 - accuracy: 0.8501\n",
            "Epoch 88/100\n",
            "182/182 [==============================] - 1s 6ms/step - loss: 0.3119 - accuracy: 0.8529\n",
            "Epoch 89/100\n",
            "182/182 [==============================] - 0s 2ms/step - loss: 0.3118 - accuracy: 0.8489\n",
            "Epoch 90/100\n",
            "182/182 [==============================] - 0s 2ms/step - loss: 0.3134 - accuracy: 0.8562\n",
            "Epoch 91/100\n",
            "182/182 [==============================] - 0s 2ms/step - loss: 0.3056 - accuracy: 0.8536\n",
            "Epoch 92/100\n",
            "182/182 [==============================] - 1s 4ms/step - loss: 0.3140 - accuracy: 0.8577\n",
            "Epoch 93/100\n",
            "182/182 [==============================] - 1s 4ms/step - loss: 0.3106 - accuracy: 0.8550\n",
            "Epoch 94/100\n",
            "182/182 [==============================] - 1s 3ms/step - loss: 0.3150 - accuracy: 0.8543\n",
            "Epoch 95/100\n",
            "182/182 [==============================] - 1s 4ms/step - loss: 0.3109 - accuracy: 0.8565\n",
            "Epoch 96/100\n",
            "182/182 [==============================] - 1s 4ms/step - loss: 0.3026 - accuracy: 0.8591\n",
            "Epoch 97/100\n",
            "182/182 [==============================] - 1s 4ms/step - loss: 0.3071 - accuracy: 0.8520\n",
            "Epoch 98/100\n",
            "182/182 [==============================] - 0s 2ms/step - loss: 0.3128 - accuracy: 0.8543\n",
            "Epoch 99/100\n",
            "182/182 [==============================] - 0s 2ms/step - loss: 0.3069 - accuracy: 0.8594\n",
            "Epoch 100/100\n",
            "182/182 [==============================] - 0s 2ms/step - loss: 0.3060 - accuracy: 0.8572\n"
          ]
        },
        {
          "output_type": "execute_result",
          "data": {
            "text/plain": [
              "<keras.src.callbacks.History at 0x7e1657521420>"
            ]
          },
          "metadata": {},
          "execution_count": 145
        }
      ]
    },
    {
      "cell_type": "code",
      "source": [
        "nn_predict_proba = nn_model.predict(encode_test)"
      ],
      "metadata": {
        "id": "_mRCwZ8soi0M"
      },
      "execution_count": null,
      "outputs": []
    },
    {
      "cell_type": "code",
      "source": [
        "# Create a submission file\n",
        "submission_df = pd.DataFrame({'ID': test_data.index, 'Churn Value': nn_predict_proba[:, 0]})\n",
        "submission_df.to_csv('pred.csv', index=False)"
      ],
      "metadata": {
        "id": "vL8ciJaGouYq"
      },
      "execution_count": null,
      "outputs": []
    },
    {
      "cell_type": "code",
      "source": [
        "from sklearn.base import BaseEstimator, ClassifierMixin\n",
        "from sklearn.preprocessing import LabelEncoder"
      ],
      "metadata": {
        "id": "MefoM5p6HZ_c"
      },
      "execution_count": 146,
      "outputs": []
    },
    {
      "cell_type": "code",
      "source": [
        "class NeuralNetworkWrapper(BaseEstimator, ClassifierMixin):\n",
        "    def __init__(self, model):\n",
        "        self.model = model\n",
        "\n",
        "    def fit(self, X, y):\n",
        "        return self\n",
        "\n",
        "    def predict(self, X):\n",
        "        # Assuming your model outputs probabilities\n",
        "        prob = self.model.predict(X)\n",
        "        print(prob.shape)\n",
        "        return prob[:, 0]\n",
        "\n",
        "    def predict_proba(self, X):\n",
        "        # Assuming your model outputs probabilities\n",
        "        prob = self.model.predict(X)\n",
        "        print(prob.shape)\n",
        "        return prob[:, 0]"
      ],
      "metadata": {
        "id": "xL9jVzigHPQh"
      },
      "execution_count": 147,
      "outputs": []
    },
    {
      "cell_type": "code",
      "source": [
        "class ClassifierWrapper(BaseEstimator, ClassifierMixin):\n",
        "    def __init__(self, model):\n",
        "        self.model = model\n",
        "\n",
        "    def fit(self, X, y):\n",
        "        return self.model.fit(X, y)\n",
        "\n",
        "    def predict_proba(self, X):\n",
        "        # Assuming your model outputs probabilities\n",
        "        return self.model.predict_proba(X).flatten()[986:]"
      ],
      "metadata": {
        "id": "yCSobCDtHOpN"
      },
      "execution_count": 148,
      "outputs": []
    },
    {
      "cell_type": "code",
      "source": [
        "xgb_model = ClassifierWrapper(XGBClassifier())\n",
        "ada_model = ClassifierWrapper(AdaBoostClassifier())\n",
        "logreg_model = ClassifierWrapper(LogisticRegression())\n",
        "nn_model = NeuralNetworkWrapper(nn_model)\n",
        "\n",
        "ensemble_model1 = VotingClassifier(\n",
        "    estimators=[\n",
        "      ('xgb', xgb_model),\n",
        "      ('ada', ada_model),\n",
        "      ('lr', logreg_model),\n",
        "      ('nn', nn_model),\n",
        "    ], voting='soft'\n",
        ")"
      ],
      "metadata": {
        "id": "kt0rx5N1GUcw"
      },
      "execution_count": 149,
      "outputs": []
    },
    {
      "cell_type": "code",
      "source": [
        "ensemble_model1.fit(X_smote, y_smote)\n",
        "ensemble_model1_predict_proba = ensemble_model1.predict_proba(encode_test)"
      ],
      "metadata": {
        "colab": {
          "base_uri": "https://localhost:8080/"
        },
        "id": "yOdk2YGs8WZ6",
        "outputId": "6b9b9569-4d39-48da-c465-05d6bc3b0196"
      },
      "execution_count": 150,
      "outputs": [
        {
          "output_type": "stream",
          "name": "stdout",
          "text": [
            "31/31 [==============================] - 0s 1ms/step\n",
            "(986, 1)\n"
          ]
        }
      ]
    },
    {
      "cell_type": "code",
      "source": [
        "roc_auc = roc_auc_score(y_test, ensemble_model1_predict_proba[:, 1])\n",
        "roc_auc"
      ],
      "metadata": {
        "id": "75uWnkECIzjC"
      },
      "execution_count": null,
      "outputs": []
    },
    {
      "cell_type": "code",
      "source": [
        "# Create a submission file\n",
        "submission_df = pd.DataFrame({'ID': test_data.index, 'Churn Value': ensemble_model1_predict_proba})\n",
        "submission_df.to_csv('pred.csv', index=False)"
      ],
      "metadata": {
        "id": "LSAhApvMlcoo"
      },
      "execution_count": 151,
      "outputs": []
    },
    {
      "cell_type": "markdown",
      "source": [
        "# Ensemble 2\n",
        "- XGBoost\n",
        "- AdaBoost"
      ],
      "metadata": {
        "id": "H0uJp8c9D_zS"
      }
    },
    {
      "cell_type": "code",
      "source": [
        "xgb_model = XGBClassifier(n_estimators=400, learning_rate=0.05)\n",
        "ada_model = AdaBoostClassifier(n_estimators=400, learning_rate=0.05)\n",
        "\n",
        "ensemble_model2 = VotingClassifier(\n",
        "    estimators=[\n",
        "      ('xgb', xgb_model),\n",
        "      ('ada', ada_model),\n",
        "    ], voting='soft'\n",
        ")"
      ],
      "metadata": {
        "id": "NLfiRgsJD_Oz"
      },
      "execution_count": 159,
      "outputs": []
    },
    {
      "cell_type": "code",
      "source": [
        "ensemble_model2.fit(X_smote, y_smote)\n",
        "ensemble_model2_predict_proba = ensemble_model2.predict_proba(encode_test)"
      ],
      "metadata": {
        "id": "yKV7i0QpEQLU"
      },
      "execution_count": 160,
      "outputs": []
    },
    {
      "cell_type": "code",
      "source": [
        "roc_auc = roc_auc_score(y_test, ensemble_model2_predict_proba[:, 1])\n",
        "roc_auc"
      ],
      "metadata": {
        "id": "6SuTt24NIx43"
      },
      "execution_count": null,
      "outputs": []
    },
    {
      "cell_type": "code",
      "source": [
        "ensemble_model2_predict_proba"
      ],
      "metadata": {
        "colab": {
          "base_uri": "https://localhost:8080/"
        },
        "id": "npZ1o3OgEc0g",
        "outputId": "5a11a11a-774b-4e67-b6f5-bc9f9d56426d"
      },
      "execution_count": 161,
      "outputs": [
        {
          "output_type": "execute_result",
          "data": {
            "text/plain": [
              "array([[0.45950561, 0.54049439],\n",
              "       [0.35782548, 0.64217452],\n",
              "       [0.64842391, 0.35157608],\n",
              "       ...,\n",
              "       [0.47308909, 0.52691091],\n",
              "       [0.43698858, 0.56301142],\n",
              "       [0.67582466, 0.32417533]])"
            ]
          },
          "metadata": {},
          "execution_count": 161
        }
      ]
    },
    {
      "cell_type": "code",
      "source": [
        "# Create a submission file\n",
        "submission_df = pd.DataFrame({'ID': test_data.index, 'Churn Value': ensemble_model2_predict_proba[:, 1]})\n",
        "submission_df.to_csv('pred.csv', index=False)"
      ],
      "metadata": {
        "id": "qOywzA9OEZCk"
      },
      "execution_count": 162,
      "outputs": []
    },
    {
      "cell_type": "markdown",
      "source": [
        "# XGBoost"
      ],
      "metadata": {
        "id": "aXQTppe-wsx8"
      }
    },
    {
      "cell_type": "code",
      "source": [
        "# Create an XGBoost classifier\n",
        "xgboost_model = XGBClassifier(n_estimators=400, learning_rate=0.05)\n",
        "\n",
        "# Fit the model on the resampled training data\n",
        "xgboost_model.fit(X_smote, y_smote)\n",
        "\n",
        "# Make predictions on the test set\n",
        "xgboost_predict_proba = xgboost_model.predict_proba(encode_test)"
      ],
      "metadata": {
        "id": "VETzE57kwsP9"
      },
      "execution_count": 169,
      "outputs": []
    },
    {
      "cell_type": "code",
      "source": [
        "roc_auc = roc_auc_score(y_test, xgboost_predict_proba[:, 1])\n",
        "roc_auc"
      ],
      "metadata": {
        "id": "HTtuAzqCIwVh"
      },
      "execution_count": null,
      "outputs": []
    },
    {
      "cell_type": "code",
      "source": [
        "X_resampled_combined = np.concatenate((X_train_resampled, X_test), axis=0)\n",
        "y_resampled_combined = np.concatenate((y_train_resampled, y_test), axis=0)\n",
        "\n",
        "# Perform k-fold cross-validation (let's say k=5)\n",
        "k = 5\n",
        "cv_scores = cross_val_score(xgboost_model, X_resampled_combined, y_resampled_combined, cv=k, scoring='accuracy')\n",
        "\n",
        "# Display cross-validation scores\n",
        "print(f'Cross-Validation Scores: {cv_scores}')\n",
        "print(f'Mean Accuracy: {np.mean(cv_scores):.4f}')"
      ],
      "metadata": {
        "colab": {
          "base_uri": "https://localhost:8080/"
        },
        "id": "de9GaM3X-ioL",
        "outputId": "6975f662-9ae7-4382-a3d6-ade8a471298c"
      },
      "execution_count": 166,
      "outputs": [
        {
          "output_type": "stream",
          "name": "stdout",
          "text": [
            "Cross-Validation Scores: [0.75862069 0.84084372 0.90699904 0.9050815  0.77277085]\n",
            "Mean Accuracy: 0.8369\n"
          ]
        }
      ]
    },
    {
      "cell_type": "code",
      "source": [
        "# Create a submission file\n",
        "submission_df = pd.DataFrame({'ID': test_data.index, 'Churn Value': xgboost_predict_proba[:, 1]})\n",
        "submission_df.to_csv('pred.csv', index=False)"
      ],
      "metadata": {
        "id": "4QzhAHJKxIt6"
      },
      "execution_count": 170,
      "outputs": []
    },
    {
      "cell_type": "markdown",
      "source": [
        "# AdaBoost\n",
        "Based on Decision Trees and Random Forests ideas.\n",
        "\n",
        "В отичии от RF, adaboost использует stumps а не полные деревья. Мы также строим огромную кучу недодеревьев стампов и устраиваем голосование. Но в отличии от rf порядок этих стампов имеет значение и каждый стамп имеет разную силу голоса при голосовании.\n",
        "\n",
        "Total Error of Stump (Samples Weight) - means that how our stamp is far from real result 0 for perfect stump and 1 for horrible one.\n",
        "\n",
        "$$\n",
        "Amount of Say = 1 / 2 * log( 1 - Total Error / Total Error)\n",
        "$$\n",
        "\n",
        "Мы перестраиваем пару раз наши sample weight пока не получим \"идеальный\" датасет который будет лучше определять значения.\n",
        "\n",
        "$$\n",
        "New Sample Weight = 1/quant of features * exp^(-AmountOfSay)\n",
        "$$"
      ],
      "metadata": {
        "id": "5pm2JUtykNUS"
      }
    },
    {
      "cell_type": "code",
      "source": [
        "adaboost_model = AdaBoostClassifier(n_estimators=400, learning_rate=0.05)\n",
        "\n",
        "adaboost_model.fit(X_smote, y_smote)\n",
        "\n",
        "adaboost_predict_proba = adaboost_model.predict_proba(X_test)"
      ],
      "metadata": {
        "id": "j9CoJ3DKkMxS"
      },
      "execution_count": null,
      "outputs": []
    },
    {
      "cell_type": "code",
      "source": [
        "roc_auc = roc_auc_score(y_test, adaboost_predict_proba[:, 1])\n",
        "roc_auc"
      ],
      "metadata": {
        "id": "IO1DbT7NwvMi",
        "outputId": "42046a42-a8cf-43e0-f59b-d4e0c08e70ad",
        "colab": {
          "base_uri": "https://localhost:8080/"
        }
      },
      "execution_count": null,
      "outputs": [
        {
          "output_type": "execute_result",
          "data": {
            "text/plain": [
              "0.8422092474640245"
            ]
          },
          "metadata": {},
          "execution_count": 22
        }
      ]
    },
    {
      "cell_type": "code",
      "source": [
        "adaboost_predict_proba = adaboost_model.predict_proba(encode_test)"
      ],
      "metadata": {
        "id": "-HlQ_iuHw0qJ"
      },
      "execution_count": null,
      "outputs": []
    },
    {
      "cell_type": "code",
      "source": [
        "# Create a submission file\n",
        "submission_df = pd.DataFrame({'ID': test_data.index, 'Churn Value': adaboost_predict_proba[:, 1]})\n",
        "submission_df.to_csv('pred.csv', index=False)"
      ],
      "metadata": {
        "id": "m_fMiTnFxG86"
      },
      "execution_count": null,
      "outputs": []
    },
    {
      "cell_type": "markdown",
      "source": [
        "# SVM"
      ],
      "metadata": {
        "id": "O6ba1pZG8aCY"
      }
    },
    {
      "cell_type": "code",
      "source": [
        "svm_model = SVC()\n",
        "svm_model = svm_model.fit(X_train_resampled, y_train_resampled)"
      ],
      "metadata": {
        "id": "v71A5qUO8Vmn"
      },
      "execution_count": null,
      "outputs": []
    },
    {
      "cell_type": "code",
      "source": [
        "y_pred = svm_model.predict(X_test)\n",
        "print(classification_report(y_test, y_pred))"
      ],
      "metadata": {
        "id": "34Bgq4sF8pfJ",
        "outputId": "227ffdc5-a448-4f36-e6a9-d1d508c8f6fd",
        "colab": {
          "base_uri": "https://localhost:8080/"
        }
      },
      "execution_count": null,
      "outputs": [
        {
          "output_type": "stream",
          "name": "stdout",
          "text": [
            "              precision    recall  f1-score   support\n",
            "\n",
            "           0       0.87      0.69      0.77       942\n",
            "           1       0.47      0.73      0.57       360\n",
            "\n",
            "    accuracy                           0.70      1302\n",
            "   macro avg       0.67      0.71      0.67      1302\n",
            "weighted avg       0.76      0.70      0.71      1302\n",
            "\n"
          ]
        }
      ]
    },
    {
      "cell_type": "code",
      "source": [
        "# Create a submission file\n",
        "submission_df = pd.DataFrame({'ID': test_data.index, 'Churn Value': y_pred[:, 1]})\n",
        "submission_df.to_csv('pred.csv', index=False)"
      ],
      "metadata": {
        "id": "Ye9puSdh8qLG"
      },
      "execution_count": null,
      "outputs": []
    },
    {
      "cell_type": "markdown",
      "source": [
        "# Random Forest"
      ],
      "metadata": {
        "id": "NWHd9-MgrRI_"
      }
    },
    {
      "cell_type": "markdown",
      "source": [
        "### Desicion Trees\n",
        "How to build Desicion Trees\n",
        "1. Get our dataset and determine which condition should be main using Gini Impurity (also called Entropy).\n",
        "Formula of Entropy:\n",
        "$$\n",
        "1 - (probability of \"YES\")^2 - (probability of \"No\")^2\n",
        "$$"
      ],
      "metadata": {
        "id": "dyL4tgLbfcHy"
      }
    },
    {
      "cell_type": "markdown",
      "source": [
        "How to build random forest\n",
        "1. create \"bootstrapped\" dataset. Bootstrapped dataset is a dataset that contains random values of original dataset (where value can appear more than once).\n",
        "2. Create a decision tree using the bootstrapped dataset, but only use a random subset of variables (or columns) at each step. Instead of considering all columns we randomly select columns we will consider. (Мы строим дерево постепенно шаг за шагом при этом каждая нода состоит из рандомно выбранных столбцов)\n",
        "3. В идеале вы повторяете это 100 раз. Variaty is what makes random decision tree better than ordinary ones.\n",
        "4. После всех манипуляций у нас будет куча деревьев с разными наборами фитч, прогоняя через них наш датасет мы собираем результаты после каждого прогона и идет голосование за результат считается количество предсказаний за каждый результат (класс) и делается итоговое предсказание.\n",
        "\n",
        "```\n",
        "Bagging Bootstrapping the data and using it as the aggregate to make the decision is called \"Bagging\".\n",
        "```\n",
        "\n",
        "Usually about the 1/3 of the original dataset not included in bootstrapped dataset, this data called \"Out of Bag Data\","
      ],
      "metadata": {
        "id": "8FJYpdRPfFg-"
      }
    },
    {
      "cell_type": "code",
      "source": [
        "# Train a Random Forest model\n",
        "rf_model = RandomForestClassifier(n_estimators=100, random_state=42)\n",
        "rf_model.fit(X_smote, y_smote)\n",
        "rf_predict_proba = rf_model.predict_proba(encode_test)"
      ],
      "metadata": {
        "id": "qworArE-fsbz"
      },
      "execution_count": 180,
      "outputs": []
    },
    {
      "cell_type": "code",
      "source": [
        "rf_predict_proba"
      ],
      "metadata": {
        "colab": {
          "base_uri": "https://localhost:8080/"
        },
        "id": "gedNJC5DH5EI",
        "outputId": "370ef445-ef1f-4bb8-998f-91f6e283b33f"
      },
      "execution_count": 181,
      "outputs": [
        {
          "output_type": "execute_result",
          "data": {
            "text/plain": [
              "array([[0.51, 0.49],\n",
              "       [0.43, 0.57],\n",
              "       [0.69, 0.31],\n",
              "       ...,\n",
              "       [0.42, 0.58],\n",
              "       [0.48, 0.52],\n",
              "       [0.86, 0.14]])"
            ]
          },
          "metadata": {},
          "execution_count": 181
        }
      ]
    },
    {
      "cell_type": "code",
      "source": [
        "roc_auc = roc_auc_score(y_test, rf_predict_proba[:, 1])\n",
        "roc_auc"
      ],
      "metadata": {
        "id": "GR7UIdapI3qj"
      },
      "execution_count": null,
      "outputs": []
    },
    {
      "cell_type": "code",
      "source": [
        "X_resampled_combined = np.concatenate((X_train_resampled, X_test), axis=0)\n",
        "y_resampled_combined = np.concatenate((y_train_resampled, y_test), axis=0)\n",
        "\n",
        "# Perform k-fold cross-validation (let's say k=5)\n",
        "k = 5\n",
        "cv_scores = cross_val_score(model, X_resampled_combined, y_resampled_combined, cv=k, scoring='accuracy')\n",
        "\n",
        "# Display cross-validation scores\n",
        "print(f'Cross-Validation Scores: {cv_scores}')\n",
        "print(f'Mean Accuracy: {np.mean(cv_scores):.4f}')"
      ],
      "metadata": {
        "colab": {
          "base_uri": "https://localhost:8080/"
        },
        "id": "-jM5xHPhs1Yl",
        "outputId": "9a5b071c-3d62-447f-ec0c-1f80a6dbed67"
      },
      "execution_count": 172,
      "outputs": [
        {
          "output_type": "stream",
          "name": "stdout",
          "text": [
            "Cross-Validation Scores: [0.77490421 0.84084372 0.91275168 0.90412272 0.75743049]\n",
            "Mean Accuracy: 0.8380\n"
          ]
        }
      ]
    },
    {
      "cell_type": "code",
      "source": [
        "rf_predict_proba = rf_model.predict_proba(encode_test)\n",
        "rf_predict_proba"
      ],
      "metadata": {
        "colab": {
          "base_uri": "https://localhost:8080/"
        },
        "id": "q8gBF_hPGIX1",
        "outputId": "1774500f-a47f-4d25-892e-49a1f907dd38"
      },
      "execution_count": 174,
      "outputs": [
        {
          "output_type": "execute_result",
          "data": {
            "text/plain": [
              "array([[0.66, 0.34],\n",
              "       [0.47, 0.53],\n",
              "       [0.61, 0.39],\n",
              "       ...,\n",
              "       [0.48, 0.52],\n",
              "       [0.47, 0.53],\n",
              "       [0.91, 0.09]])"
            ]
          },
          "metadata": {},
          "execution_count": 174
        }
      ]
    },
    {
      "cell_type": "code",
      "source": [
        "# Create a submission file\n",
        "submission_df = pd.DataFrame({'ID': test_data.index, 'Churn Value': rf_predict_proba[:, 1]})\n",
        "submission_df.to_csv('pred.csv', index=False)"
      ],
      "metadata": {
        "id": "f4mLamhIxn0S"
      },
      "execution_count": 175,
      "outputs": []
    },
    {
      "cell_type": "markdown",
      "source": [
        "# Logistic Regression"
      ],
      "metadata": {
        "id": "h2vbPWj6onVD"
      }
    },
    {
      "cell_type": "code",
      "source": [
        "from sklearn import preprocessing"
      ],
      "metadata": {
        "id": "MottPIrU_uC9"
      },
      "execution_count": null,
      "outputs": []
    },
    {
      "cell_type": "code",
      "source": [
        "scaler = preprocessing.StandardScaler()\n",
        "X_train_scaled = scaler.fit_transform(X_train_resampled)\n",
        "X_test_scaled = scaler.transform(X_test)"
      ],
      "metadata": {
        "id": "YxKgvn3r_2Wc"
      },
      "execution_count": null,
      "outputs": []
    },
    {
      "cell_type": "code",
      "source": [
        "logreg_model = LogisticRegression(random_state=42)\n",
        "\n",
        "logreg_model.fit(X_train_scaled, y_train_resampled)\n",
        "logreg_predict_proba = logreg_model.predict(X_test_scaled)"
      ],
      "metadata": {
        "id": "143bCPF3omK8"
      },
      "execution_count": null,
      "outputs": []
    },
    {
      "cell_type": "code",
      "source": [
        "roc_auc = roc_auc_score(y_test, logreg_predict_proba[:, 1])\n",
        "roc_auc"
      ],
      "metadata": {
        "id": "2FDycQ-7I7f4"
      },
      "execution_count": null,
      "outputs": []
    },
    {
      "cell_type": "code",
      "source": [
        "X_combined = np.concatenate((X_train_scaled, X_test_scaled), axis=0)\n",
        "y_combined = np.concatenate((y_train_resampled, y_test), axis=0)\n",
        "\n",
        "# Perform k-fold cross-validation (let's say k=5)\n",
        "k = 5\n",
        "cv_scores = cross_val_score(model, X_combined, y_combined, cv=k, scoring='accuracy')\n",
        "\n",
        "# Display cross-validation scores\n",
        "print(f'Cross-Validation Scores: {cv_scores}')\n",
        "print(f'Mean Accuracy: {np.mean(cv_scores):.4f}')"
      ],
      "metadata": {
        "colab": {
          "base_uri": "https://localhost:8080/"
        },
        "id": "UKEEYik9_Brj",
        "outputId": "cc015aba-8107-41ae-eadc-d144b155215f"
      },
      "execution_count": null,
      "outputs": [
        {
          "output_type": "stream",
          "name": "stdout",
          "text": [
            "Cross-Validation Scores: [0.74904943 0.83460076 0.90779468 0.89638783 0.78612167]\n",
            "Mean Accuracy: 0.8348\n"
          ]
        }
      ]
    },
    {
      "cell_type": "code",
      "source": [
        "# Create a submission file\n",
        "submission_df = pd.DataFrame({'ID': test_data.index, 'Churn Value': logreg_predict_proba[:, 1]})\n",
        "submission_df.to_csv('pred.csv', index=False)"
      ],
      "metadata": {
        "id": "ZiRFwFqvxouU"
      },
      "execution_count": null,
      "outputs": []
    },
    {
      "cell_type": "markdown",
      "source": [
        "# CatBoost"
      ],
      "metadata": {
        "id": "fte3DPS2jwHZ"
      }
    },
    {
      "cell_type": "code",
      "source": [
        "!pip install catboost"
      ],
      "metadata": {
        "colab": {
          "base_uri": "https://localhost:8080/"
        },
        "id": "D7X0qxvUjyVF",
        "outputId": "61d65b0c-6fb5-4218-b2bd-0a8d619850d6"
      },
      "execution_count": 198,
      "outputs": [
        {
          "output_type": "stream",
          "name": "stdout",
          "text": [
            "Collecting catboost\n",
            "  Downloading catboost-1.2.2-cp310-cp310-manylinux2014_x86_64.whl (98.7 MB)\n",
            "\u001b[2K     \u001b[90m━━━━━━━━━━━━━━━━━━━━━━━━━━━━━━━━━━━━━━━━\u001b[0m \u001b[32m98.7/98.7 MB\u001b[0m \u001b[31m3.8 MB/s\u001b[0m eta \u001b[36m0:00:00\u001b[0m\n",
            "\u001b[?25hRequirement already satisfied: graphviz in /usr/local/lib/python3.10/dist-packages (from catboost) (0.20.1)\n",
            "Requirement already satisfied: matplotlib in /usr/local/lib/python3.10/dist-packages (from catboost) (3.7.1)\n",
            "Requirement already satisfied: numpy>=1.16.0 in /usr/local/lib/python3.10/dist-packages (from catboost) (1.23.5)\n",
            "Requirement already satisfied: pandas>=0.24 in /usr/local/lib/python3.10/dist-packages (from catboost) (1.5.3)\n",
            "Requirement already satisfied: scipy in /usr/local/lib/python3.10/dist-packages (from catboost) (1.11.4)\n",
            "Requirement already satisfied: plotly in /usr/local/lib/python3.10/dist-packages (from catboost) (5.15.0)\n",
            "Requirement already satisfied: six in /usr/local/lib/python3.10/dist-packages (from catboost) (1.16.0)\n",
            "Requirement already satisfied: python-dateutil>=2.8.1 in /usr/local/lib/python3.10/dist-packages (from pandas>=0.24->catboost) (2.8.2)\n",
            "Requirement already satisfied: pytz>=2020.1 in /usr/local/lib/python3.10/dist-packages (from pandas>=0.24->catboost) (2023.3.post1)\n",
            "Requirement already satisfied: contourpy>=1.0.1 in /usr/local/lib/python3.10/dist-packages (from matplotlib->catboost) (1.2.0)\n",
            "Requirement already satisfied: cycler>=0.10 in /usr/local/lib/python3.10/dist-packages (from matplotlib->catboost) (0.12.1)\n",
            "Requirement already satisfied: fonttools>=4.22.0 in /usr/local/lib/python3.10/dist-packages (from matplotlib->catboost) (4.46.0)\n",
            "Requirement already satisfied: kiwisolver>=1.0.1 in /usr/local/lib/python3.10/dist-packages (from matplotlib->catboost) (1.4.5)\n",
            "Requirement already satisfied: packaging>=20.0 in /usr/local/lib/python3.10/dist-packages (from matplotlib->catboost) (23.2)\n",
            "Requirement already satisfied: pillow>=6.2.0 in /usr/local/lib/python3.10/dist-packages (from matplotlib->catboost) (9.4.0)\n",
            "Requirement already satisfied: pyparsing>=2.3.1 in /usr/local/lib/python3.10/dist-packages (from matplotlib->catboost) (3.1.1)\n",
            "Requirement already satisfied: tenacity>=6.2.0 in /usr/local/lib/python3.10/dist-packages (from plotly->catboost) (8.2.3)\n",
            "Installing collected packages: catboost\n",
            "Successfully installed catboost-1.2.2\n"
          ]
        }
      ]
    },
    {
      "cell_type": "code",
      "source": [
        "from catboost import CatBoostClassifier, Pool"
      ],
      "metadata": {
        "id": "dB-5SFoZj-Oq"
      },
      "execution_count": 216,
      "outputs": []
    },
    {
      "cell_type": "code",
      "source": [
        "catboost_model = CatBoostClassifier(iterations=2,\n",
        "                           depth=2,\n",
        "                           learning_rate=1,\n",
        "                           loss_function='Logloss',\n",
        "                           verbose=True)\n",
        "# train the model\n",
        "catboost_model.fit(X_train_resampled, y_train_resampled)\n",
        "# make the prediction using the resulting model\n",
        "preds_class = catboost_model.predict(X_test)\n",
        "preds_proba = catboost_model.predict_proba(X_test)"
      ],
      "metadata": {
        "colab": {
          "base_uri": "https://localhost:8080/"
        },
        "id": "0KhVzHpVkGV3",
        "outputId": "abf4a988-037e-4f55-ba5b-148dda06d769"
      },
      "execution_count": 217,
      "outputs": [
        {
          "output_type": "stream",
          "name": "stdout",
          "text": [
            "0:\tlearn: 0.5270052\ttotal: 2.88ms\tremaining: 2.88ms\n",
            "1:\tlearn: 0.4790644\ttotal: 5.05ms\tremaining: 0us\n"
          ]
        }
      ]
    },
    {
      "cell_type": "code",
      "source": [
        "roc_auc = roc_auc_score(y_test, preds_proba[:, 1])\n",
        "roc_auc"
      ],
      "metadata": {
        "colab": {
          "base_uri": "https://localhost:8080/"
        },
        "id": "7wf_MYV1mQal",
        "outputId": "3fa34872-b0c0-47e0-aeea-d55e8ba8ed83"
      },
      "execution_count": 218,
      "outputs": [
        {
          "output_type": "execute_result",
          "data": {
            "text/plain": [
              "0.8062588464260438"
            ]
          },
          "metadata": {},
          "execution_count": 218
        }
      ]
    },
    {
      "cell_type": "code",
      "source": [
        "catboost_pred_class = catboost_model.predict(encode_test)\n",
        "catboost_pred_proba = catboost_model.predict_proba(encode_test)"
      ],
      "metadata": {
        "id": "yW93og-emrnD"
      },
      "execution_count": 219,
      "outputs": []
    },
    {
      "cell_type": "code",
      "source": [
        "# Create a submission file\n",
        "submission_df = pd.DataFrame({'ID': test_data.index, 'Churn Value': catboost_pred_proba[:, 1]})\n",
        "submission_df.to_csv('pred.csv', index=False)"
      ],
      "metadata": {
        "id": "7RufuflQlTZg"
      },
      "execution_count": 220,
      "outputs": []
    },
    {
      "cell_type": "code",
      "source": [],
      "metadata": {
        "id": "Jc5fd2rlnPrx"
      },
      "execution_count": null,
      "outputs": []
    }
  ]
}