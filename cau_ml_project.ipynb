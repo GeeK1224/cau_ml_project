{
  "nbformat": 4,
  "nbformat_minor": 0,
  "metadata": {
    "colab": {
      "provenance": [],
      "include_colab_link": true
    },
    "kernelspec": {
      "name": "python3",
      "display_name": "Python 3"
    },
    "language_info": {
      "name": "python"
    }
  },
  "cells": [
    {
      "cell_type": "markdown",
      "metadata": {
        "id": "view-in-github",
        "colab_type": "text"
      },
      "source": [
        "<a href=\"https://colab.research.google.com/github/GeeK1224/cau_ml_project/blob/main/cau_ml_project.ipynb\" target=\"_parent\"><img src=\"https://colab.research.google.com/assets/colab-badge.svg\" alt=\"Open In Colab\"/></a>"
      ]
    },
    {
      "cell_type": "markdown",
      "source": [
        "# ML Project Team ATES(отец)\n",
        "This is our implementation of CAU | ML Challenge | Final 2023"
      ],
      "metadata": {
        "id": "McQFB-FsgHza"
      }
    },
    {
      "cell_type": "code",
      "execution_count": 1,
      "metadata": {
        "id": "emKWSPJmKmzr"
      },
      "outputs": [],
      "source": [
        "import pandas as pd\n",
        "import numpy as np"
      ]
    },
    {
      "cell_type": "markdown",
      "source": [
        "#### Step 1:\n",
        "After we imported all libraries we needed we can start from analyzing the data given"
      ],
      "metadata": {
        "id": "V_HLKw74gzjZ"
      }
    },
    {
      "cell_type": "code",
      "source": [
        "test_feature = pd.read_csv(\"kaggle_test_features_public.csv\")\n",
        "train_data = pd.read_csv(\"kaggle_train_data_public.csv\")\n",
        "sample = pd.read_csv(\"sample_submission.csv\")"
      ],
      "metadata": {
        "id": "y7vixXtsd-Kn"
      },
      "execution_count": 2,
      "outputs": []
    },
    {
      "cell_type": "code",
      "source": [
        "test_feature.columns.values"
      ],
      "metadata": {
        "id": "gm-QdDbPzz8Q",
        "outputId": "ef74249a-23cb-4d90-bd21-198dfcccc54c",
        "colab": {
          "base_uri": "https://localhost:8080/"
        }
      },
      "execution_count": 11,
      "outputs": [
        {
          "output_type": "execute_result",
          "data": {
            "text/plain": [
              "array(['CustomerID', 'Count', 'Country', 'State', 'City', 'Zip Code',\n",
              "       'Lat Long', 'Latitude', 'Longitude', 'Gender', 'Senior Citizen',\n",
              "       'Partner', 'Dependents', 'Tenure Months', 'Phone Service',\n",
              "       'Multiple Lines', 'Internet Service', 'Online Security',\n",
              "       'Online Backup', 'Device Protection', 'Tech Support',\n",
              "       'Streaming TV', 'Streaming Movies', 'Contract',\n",
              "       'Paperless Billing', 'Payment Method', 'Monthly Charges'],\n",
              "      dtype=object)"
            ]
          },
          "metadata": {},
          "execution_count": 11
        }
      ]
    },
    {
      "cell_type": "code",
      "source": [
        "columns = train_data.columns.values\n",
        "for column in columns:\n",
        "  print(f\"{column} - {train_data[column].unique()}\")"
      ],
      "metadata": {
        "id": "6EkgjGCV0Xrw",
        "outputId": "1c509fa3-e728-463f-8a2f-cb69f1f97950",
        "colab": {
          "base_uri": "https://localhost:8080/"
        }
      },
      "execution_count": 12,
      "outputs": [
        {
          "output_type": "stream",
          "name": "stdout",
          "text": [
            "CustomerID - ['7964-VEXDG' '5141-ZUVBH' '7718-UPSKJ' ... '0887-HJGAR' '3537-RYBHH'\n",
            " '8383-SGHJU']\n",
            "Count - [1]\n",
            "Country - ['United States']\n",
            "State - ['California']\n",
            "City - ['Anaheim' 'Boron' 'San Diego' ... 'Petrolia' 'Fallbrook' 'Highland']\n",
            "Zip Code - [92802 93516 92116 ... 94110 93103 93307]\n",
            "Lat Long - ['33.807864, -117.923782' '34.95703, -117.73045' '32.765299, -117.122565'\n",
            " ... '37.750021, -122.415201' '34.438581, -119.685368'\n",
            " '35.280113, -118.962329']\n",
            "Latitude - [33.807864 34.95703  32.765299 ... 37.750021 34.438581 35.280113]\n",
            "Longitude - [-117.923782 -117.73045  -117.122565 ... -122.415201 -119.685368\n",
            " -118.962329]\n",
            "Gender - ['Male' 'Female']\n",
            "Senior Citizen - ['No' 'Yes']\n",
            "Partner - ['No' 'Yes']\n",
            "Dependents - ['Yes' 'No']\n",
            "Tenure Months - [21  9 69  5 18 56 30 63 14 46  4 68  0  7 48  3 71  8 40 67 28 72 41 19\n",
            "  1 13 49 36 50 65 55  2 45 24 66 70 53 15 52 64  6 38 44 10 60 62 11 12\n",
            " 31 20 26 25 33 23 58 59 34 35 43 27 17 22 32 47 51 61 57 42 39 16 29 37\n",
            " 54]\n",
            "Phone Service - ['Yes' 'No']\n",
            "Multiple Lines - ['Yes' 'No' 'No phone service']\n",
            "Internet Service - ['Fiber optic' 'No' 'DSL']\n",
            "Online Security - ['Yes' 'No' 'No internet service']\n",
            "Online Backup - ['No' 'Yes' 'No internet service']\n",
            "Device Protection - ['No' 'Yes' 'No internet service']\n",
            "Tech Support - ['No' 'Yes' 'No internet service']\n",
            "Streaming TV - ['No' 'Yes' 'No internet service']\n",
            "Streaming Movies - ['No' 'Yes' 'No internet service']\n",
            "Contract - ['Month-to-month' 'One year' 'Two year']\n",
            "Paperless Billing - ['No' 'Yes']\n",
            "Payment Method - ['Electronic check' 'Bank transfer (automatic)' 'Credit card (automatic)'\n",
            " 'Mailed check']\n",
            "Monthly Charges - [ 80.35  93.   106.4  ... 110.55  68.35  59.4 ]\n",
            "Churn Score - [ 62  40  26  70  42  83  20  23  86  63  43  73  54  48  21  56  47  55\n",
            "  78  35  69  61  37  65  49  46  71  92  39  77  50  38  41  27  95  33\n",
            "  67  32  34  99  60  80  66  75  74  45  58  79  28  51  81  98  87  30\n",
            "  72  52  59  29  64  44  76  94  57  96  82  93  25  88 100  84  68  53\n",
            "  85  22  89  24  90  36  97  91  31   8   5   9   7]\n",
            "Churn Value - [0 1]\n",
            "CLTV - [4579 2267 4328 ... 6211 5993 3887]\n",
            "Churn Reason - [nan 'Competitor offered more data' 'Product dissatisfaction' 'Moved'\n",
            " 'Attitude of support person' \"Don't know\" 'Competitor made better offer'\n",
            " 'Limited range of services' 'Network reliability' 'Long distance charges'\n",
            " 'Attitude of service provider' 'Lack of self-service on Website'\n",
            " 'Competitor had better devices'\n",
            " 'Lack of affordable download/upload speed' 'Price too high'\n",
            " 'Poor expertise of phone support' 'Extra data charges'\n",
            " 'Competitor offered higher download speeds' 'Service dissatisfaction'\n",
            " 'Deceased' 'Poor expertise of online support']\n"
          ]
        }
      ]
    },
    {
      "cell_type": "markdown",
      "source": [
        "| Column name | Status | Reason |\n",
        "| --- | --- | --- |\n",
        "| CustomerID | 🟩 | Просто чтобы отличать юзеров |\n",
        "| Count | 🟥 | Всего одно значение равное 1 |\n",
        "| Country | 🟥 | Только США |\n",
        "| State | 🟥 | Только Калифорния |\n",
        "| City | 🟪 | Города Калифорнии без понятия понадобятся ли |\n",
        "| Zip Code | 🟥 | бесполезное значение которое собъет веса |\n",
        "| Lat Long | 🟥 | бесполезное значение которое собъет веса |\n",
        "| Latitude | 🟥 | бесполезное значение которое собъет веса |\n",
        "| Longitude | 🟥 | бесполезное значение которое собъет веса |\n",
        "| Gender | 🟩 | Категориальное значение которое несет информацию |\n",
        "| Senior Citizen | 🟩 | Несет информацию |\n",
        "| Partner | 🟩 | Несет информацию |\n",
        "| Dependents | 🟩 | Несет информацию |\n",
        "| Tenure Months | 🟩 | Несет информацию |\n",
        "| Phone Service | 🟥 | В целом по нижним значениям сложно что то сказать |\n",
        "| Multiple Lines | 🟥 | В целом по нижним значениям сложно что то сказать |\n",
        "| Internet Service | 🟥 | В целом по нижним значениям сложно что то сказать |\n",
        "| Online Security | 🟥 |В целом по нижним значениям сложно что то сказать |\n",
        "| Online Backup | 🟥 |В целом по нижним значениям сложно что то сказать |\n",
        "| Device Protection | 🟥 | В целом по нижним значениям сложно что то сказать |\n",
        "| Tech Support | 🟥 |В целом по нижним значениям сложно что то сказать |\n",
        "| Streaming TV | 🟥 | В целом по нижним значениям сложно что то сказать |\n",
        "| Streaming Movies | 🟥 | В целом по нижним значениям сложно что то сказать |\n",
        "| Contract | 🟩 | Важное категориальное значение |\n",
        "| Paperless Billing | 🟥 | не пригодится потому что следующее значение можно получить из другого более информативного столбца |\n",
        "| Payment Method | 🟪 | хз |\n",
        "| Monthly Charges | 🟪 | думаю что могло бы значить |\n",
        "| Churn Score | 🟪 |  думаю что могло бы значить |\n",
        "| Churn Value | 🟩 |  думаю что могло бы значить |\n",
        "| CLTV | 🟪 |  думаю что могло бы значить |\n",
        "| Churn Reason | 🟪 | ну хз при отмене подписки или удалении программы часто компании просят оставить отзыв, мб можно классифицировать проблемы под общие случаи и проталкивать их как значени |"
      ],
      "metadata": {
        "id": "FXAmmso__FJZ"
      }
    },
    {
      "cell_type": "code",
      "source": [
        "for column in columns:\n",
        "  print(f\"| {column} |  |\")"
      ],
      "metadata": {
        "id": "JZSP8oPN7y6Q",
        "outputId": "8568f7e2-61da-4b1c-a15d-56184665d8a5",
        "colab": {
          "base_uri": "https://localhost:8080/"
        }
      },
      "execution_count": 13,
      "outputs": [
        {
          "output_type": "stream",
          "name": "stdout",
          "text": [
            "| CustomerID |  |\n",
            "| Count |  |\n",
            "| Country |  |\n",
            "| State |  |\n",
            "| City |  |\n",
            "| Zip Code |  |\n",
            "| Lat Long |  |\n",
            "| Latitude |  |\n",
            "| Longitude |  |\n",
            "| Gender |  |\n",
            "| Senior Citizen |  |\n",
            "| Partner |  |\n",
            "| Dependents |  |\n",
            "| Tenure Months |  |\n",
            "| Phone Service |  |\n",
            "| Multiple Lines |  |\n",
            "| Internet Service |  |\n",
            "| Online Security |  |\n",
            "| Online Backup |  |\n",
            "| Device Protection |  |\n",
            "| Tech Support |  |\n",
            "| Streaming TV |  |\n",
            "| Streaming Movies |  |\n",
            "| Contract |  |\n",
            "| Paperless Billing |  |\n",
            "| Payment Method |  |\n",
            "| Monthly Charges |  |\n",
            "| Churn Score |  |\n",
            "| Churn Value |  |\n",
            "| CLTV |  |\n",
            "| Churn Reason |  |\n"
          ]
        }
      ]
    },
    {
      "cell_type": "code",
      "source": [
        "test_feature[\"State\"].unique()"
      ],
      "metadata": {
        "colab": {
          "base_uri": "https://localhost:8080/"
        },
        "id": "p2dhJMf9ekp-",
        "outputId": "f7ab8fcb-9ee7-483a-93f7-70ac3cefe812"
      },
      "execution_count": 3,
      "outputs": [
        {
          "output_type": "execute_result",
          "data": {
            "text/plain": [
              "array(['California'], dtype=object)"
            ]
          },
          "metadata": {},
          "execution_count": 3
        }
      ]
    },
    {
      "cell_type": "code",
      "source": [
        "test_feature.shape"
      ],
      "metadata": {
        "colab": {
          "base_uri": "https://localhost:8080/"
        },
        "id": "ywnVFMW4fwVA",
        "outputId": "c2806c0a-3ef7-438a-bb7f-23f53f76e904"
      },
      "execution_count": 4,
      "outputs": [
        {
          "output_type": "execute_result",
          "data": {
            "text/plain": [
              "(986, 27)"
            ]
          },
          "metadata": {},
          "execution_count": 4
        }
      ]
    },
    {
      "cell_type": "code",
      "source": [
        "train_data[\"Gender\"].describe()"
      ],
      "metadata": {
        "colab": {
          "base_uri": "https://localhost:8080/"
        },
        "id": "-HZgvST4f9DL",
        "outputId": "96434377-84d6-4eff-c516-902279933a1f"
      },
      "execution_count": 5,
      "outputs": [
        {
          "output_type": "execute_result",
          "data": {
            "text/plain": [
              "count     3944\n",
              "unique       2\n",
              "top       Male\n",
              "freq      1973\n",
              "Name: Gender, dtype: object"
            ]
          },
          "metadata": {},
          "execution_count": 5
        }
      ]
    },
    {
      "cell_type": "code",
      "source": [
        "test_feature.describe()"
      ],
      "metadata": {
        "colab": {
          "base_uri": "https://localhost:8080/",
          "height": 175
        },
        "id": "9vEu2KiCfBno",
        "outputId": "3c9222e3-39df-4de4-b036-08f713f81517"
      },
      "execution_count": null,
      "outputs": [
        {
          "output_type": "error",
          "ename": "NameError",
          "evalue": "ignored",
          "traceback": [
            "\u001b[0;31m---------------------------------------------------------------------------\u001b[0m",
            "\u001b[0;31mNameError\u001b[0m                                 Traceback (most recent call last)",
            "\u001b[0;32m<ipython-input-1-37d4f55470e2>\u001b[0m in \u001b[0;36m<cell line: 1>\u001b[0;34m()\u001b[0m\n\u001b[0;32m----> 1\u001b[0;31m \u001b[0mtest_feature\u001b[0m\u001b[0;34m.\u001b[0m\u001b[0mdescribe\u001b[0m\u001b[0;34m(\u001b[0m\u001b[0;34m)\u001b[0m\u001b[0;34m\u001b[0m\u001b[0;34m\u001b[0m\u001b[0m\n\u001b[0m",
            "\u001b[0;31mNameError\u001b[0m: name 'test_feature' is not defined"
          ]
        }
      ]
    }
  ]
}