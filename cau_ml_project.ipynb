{
  "nbformat": 4,
  "nbformat_minor": 0,
  "metadata": {
    "colab": {
      "provenance": [],
      "include_colab_link": true
    },
    "kernelspec": {
      "name": "python3",
      "display_name": "Python 3"
    },
    "language_info": {
      "name": "python"
    }
  },
  "cells": [
    {
      "cell_type": "markdown",
      "metadata": {
        "id": "view-in-github",
        "colab_type": "text"
      },
      "source": [
        "<a href=\"https://colab.research.google.com/github/GeeK1224/cau_ml_project/blob/main/cau_ml_project.ipynb\" target=\"_parent\"><img src=\"https://colab.research.google.com/assets/colab-badge.svg\" alt=\"Open In Colab\"/></a>"
      ]
    },
    {
      "cell_type": "markdown",
      "source": [
        "# ML Project Team ATES(отец)\n",
        "This is our implementation of `CAU | ML Challenge | Final 2023`"
      ],
      "metadata": {
        "id": "McQFB-FsgHza"
      }
    },
    {
      "cell_type": "code",
      "execution_count": null,
      "metadata": {
        "id": "emKWSPJmKmzr"
      },
      "outputs": [],
      "source": [
        "import pandas as pd\n",
        "import numpy as np\n",
        "import matplotlib.pyplot as plt"
      ]
    },
    {
      "cell_type": "code",
      "source": [
        "# Colors\n",
        "hex_color1 = '#69C9D0'\n",
        "hex_color2 = '#EE1D52'\n",
        "hex_color3 = '#000000'"
      ],
      "metadata": {
        "id": "Dfj-3_hizNCU"
      },
      "execution_count": null,
      "outputs": []
    },
    {
      "cell_type": "code",
      "source": [
        "!wget https://raw.githubusercontent.com/GeeK1224/cau_ml_project/main/kaggle_test_features_public.csv\n",
        "!wget https://raw.githubusercontent.com/GeeK1224/cau_ml_project/main/kaggle_train_data_public.csv\n",
        "!wget https://raw.githubusercontent.com/GeeK1224/cau_ml_project/main/sample_submission.csv"
      ],
      "metadata": {
        "id": "o2HRKpwRb-kI",
        "outputId": "20bfe5b4-3cc2-4798-cbf7-2ce9bf65d656",
        "colab": {
          "base_uri": "https://localhost:8080/"
        }
      },
      "execution_count": null,
      "outputs": [
        {
          "output_type": "stream",
          "name": "stdout",
          "text": [
            "--2023-12-17 10:59:24--  https://raw.githubusercontent.com/GeeK1224/cau_ml_project/main/kaggle_test_features_public.csv\n",
            "Resolving raw.githubusercontent.com (raw.githubusercontent.com)... 185.199.111.133, 185.199.110.133, 185.199.108.133, ...\n",
            "Connecting to raw.githubusercontent.com (raw.githubusercontent.com)|185.199.111.133|:443... connected.\n",
            "HTTP request sent, awaiting response... 200 OK\n",
            "Length: 216168 (211K) [text/plain]\n",
            "Saving to: ‘kaggle_test_features_public.csv’\n",
            "\n",
            "kaggle_test_feature 100%[===================>] 211.10K  --.-KB/s    in 0.009s  \n",
            "\n",
            "2023-12-17 10:59:24 (22.3 MB/s) - ‘kaggle_test_features_public.csv’ saved [216168/216168]\n",
            "\n",
            "--2023-12-17 10:59:24--  https://raw.githubusercontent.com/GeeK1224/cau_ml_project/main/kaggle_train_data_public.csv\n",
            "Resolving raw.githubusercontent.com (raw.githubusercontent.com)... 185.199.111.133, 185.199.109.133, 185.199.108.133, ...\n",
            "Connecting to raw.githubusercontent.com (raw.githubusercontent.com)|185.199.111.133|:443... connected.\n",
            "HTTP request sent, awaiting response... 200 OK\n",
            "Length: 931630 (910K) [text/plain]\n",
            "Saving to: ‘kaggle_train_data_public.csv’\n",
            "\n",
            "kaggle_train_data_p 100%[===================>] 909.79K  --.-KB/s    in 0.02s   \n",
            "\n",
            "2023-12-17 10:59:25 (48.4 MB/s) - ‘kaggle_train_data_public.csv’ saved [931630/931630]\n",
            "\n",
            "--2023-12-17 10:59:25--  https://raw.githubusercontent.com/GeeK1224/cau_ml_project/main/sample_submission.csv\n",
            "Resolving raw.githubusercontent.com (raw.githubusercontent.com)... 185.199.108.133, 185.199.109.133, 185.199.110.133, ...\n",
            "Connecting to raw.githubusercontent.com (raw.githubusercontent.com)|185.199.108.133|:443... connected.\n",
            "HTTP request sent, awaiting response... 200 OK\n",
            "Length: 22857 (22K) [text/plain]\n",
            "Saving to: ‘sample_submission.csv’\n",
            "\n",
            "sample_submission.c 100%[===================>]  22.32K  --.-KB/s    in 0s      \n",
            "\n",
            "2023-12-17 10:59:25 (68.6 MB/s) - ‘sample_submission.csv’ saved [22857/22857]\n",
            "\n"
          ]
        }
      ]
    },
    {
      "cell_type": "markdown",
      "source": [
        "## Step 1: Data Analysis"
      ],
      "metadata": {
        "id": "V_HLKw74gzjZ"
      }
    },
    {
      "cell_type": "code",
      "source": [
        "test_data = pd.read_csv(\"kaggle_test_features_public.csv\")\n",
        "train_data = pd.read_csv(\"kaggle_train_data_public.csv\")\n",
        "sample = pd.read_csv(\"sample_submission.csv\")"
      ],
      "metadata": {
        "id": "y7vixXtsd-Kn"
      },
      "execution_count": null,
      "outputs": []
    },
    {
      "cell_type": "code",
      "source": [
        "train_data.describe()"
      ],
      "metadata": {
        "colab": {
          "base_uri": "https://localhost:8080/",
          "height": 300
        },
        "id": "9vEu2KiCfBno",
        "outputId": "869f94cd-6224-480d-82a2-962fa829c243"
      },
      "execution_count": null,
      "outputs": [
        {
          "output_type": "execute_result",
          "data": {
            "text/plain": [
              "        Count      Zip Code     Latitude    Longitude  Tenure Months  \\\n",
              "count  3944.0   3944.000000  3944.000000  3944.000000    3944.000000   \n",
              "mean      1.0  93504.840517    36.282735  -119.811722      32.413540   \n",
              "std       0.0   1868.032274     2.460654     2.140234      24.556004   \n",
              "min       1.0  90001.000000    32.555828  -124.301372       0.000000   \n",
              "25%       1.0  92077.250000    34.037319  -121.806872       9.000000   \n",
              "50%       1.0  93550.500000    36.375590  -119.687964      29.000000   \n",
              "75%       1.0  95337.250000    38.158676  -118.057091      55.000000   \n",
              "max       1.0  96161.000000    41.962127  -114.192901      72.000000   \n",
              "\n",
              "       Monthly Charges  Churn Score  Churn Value         CLTV  \n",
              "count      3944.000000  3944.000000  3944.000000  3944.000000  \n",
              "mean         64.631415    58.683824     0.264959  4392.830122  \n",
              "std          29.991988    21.497163     0.441368  1181.398114  \n",
              "min          18.400000     5.000000     0.000000  2003.000000  \n",
              "25%          35.637500    41.000000     0.000000  3468.750000  \n",
              "50%          70.250000    61.000000     0.000000  4505.000000  \n",
              "75%          89.750000    75.000000     1.000000  5374.750000  \n",
              "max         118.650000   100.000000     1.000000  6500.000000  "
            ],
            "text/html": [
              "\n",
              "  <div id=\"df-1f546be0-6056-4072-8636-b4278f2053d5\" class=\"colab-df-container\">\n",
              "    <div>\n",
              "<style scoped>\n",
              "    .dataframe tbody tr th:only-of-type {\n",
              "        vertical-align: middle;\n",
              "    }\n",
              "\n",
              "    .dataframe tbody tr th {\n",
              "        vertical-align: top;\n",
              "    }\n",
              "\n",
              "    .dataframe thead th {\n",
              "        text-align: right;\n",
              "    }\n",
              "</style>\n",
              "<table border=\"1\" class=\"dataframe\">\n",
              "  <thead>\n",
              "    <tr style=\"text-align: right;\">\n",
              "      <th></th>\n",
              "      <th>Count</th>\n",
              "      <th>Zip Code</th>\n",
              "      <th>Latitude</th>\n",
              "      <th>Longitude</th>\n",
              "      <th>Tenure Months</th>\n",
              "      <th>Monthly Charges</th>\n",
              "      <th>Churn Score</th>\n",
              "      <th>Churn Value</th>\n",
              "      <th>CLTV</th>\n",
              "    </tr>\n",
              "  </thead>\n",
              "  <tbody>\n",
              "    <tr>\n",
              "      <th>count</th>\n",
              "      <td>3944.0</td>\n",
              "      <td>3944.000000</td>\n",
              "      <td>3944.000000</td>\n",
              "      <td>3944.000000</td>\n",
              "      <td>3944.000000</td>\n",
              "      <td>3944.000000</td>\n",
              "      <td>3944.000000</td>\n",
              "      <td>3944.000000</td>\n",
              "      <td>3944.000000</td>\n",
              "    </tr>\n",
              "    <tr>\n",
              "      <th>mean</th>\n",
              "      <td>1.0</td>\n",
              "      <td>93504.840517</td>\n",
              "      <td>36.282735</td>\n",
              "      <td>-119.811722</td>\n",
              "      <td>32.413540</td>\n",
              "      <td>64.631415</td>\n",
              "      <td>58.683824</td>\n",
              "      <td>0.264959</td>\n",
              "      <td>4392.830122</td>\n",
              "    </tr>\n",
              "    <tr>\n",
              "      <th>std</th>\n",
              "      <td>0.0</td>\n",
              "      <td>1868.032274</td>\n",
              "      <td>2.460654</td>\n",
              "      <td>2.140234</td>\n",
              "      <td>24.556004</td>\n",
              "      <td>29.991988</td>\n",
              "      <td>21.497163</td>\n",
              "      <td>0.441368</td>\n",
              "      <td>1181.398114</td>\n",
              "    </tr>\n",
              "    <tr>\n",
              "      <th>min</th>\n",
              "      <td>1.0</td>\n",
              "      <td>90001.000000</td>\n",
              "      <td>32.555828</td>\n",
              "      <td>-124.301372</td>\n",
              "      <td>0.000000</td>\n",
              "      <td>18.400000</td>\n",
              "      <td>5.000000</td>\n",
              "      <td>0.000000</td>\n",
              "      <td>2003.000000</td>\n",
              "    </tr>\n",
              "    <tr>\n",
              "      <th>25%</th>\n",
              "      <td>1.0</td>\n",
              "      <td>92077.250000</td>\n",
              "      <td>34.037319</td>\n",
              "      <td>-121.806872</td>\n",
              "      <td>9.000000</td>\n",
              "      <td>35.637500</td>\n",
              "      <td>41.000000</td>\n",
              "      <td>0.000000</td>\n",
              "      <td>3468.750000</td>\n",
              "    </tr>\n",
              "    <tr>\n",
              "      <th>50%</th>\n",
              "      <td>1.0</td>\n",
              "      <td>93550.500000</td>\n",
              "      <td>36.375590</td>\n",
              "      <td>-119.687964</td>\n",
              "      <td>29.000000</td>\n",
              "      <td>70.250000</td>\n",
              "      <td>61.000000</td>\n",
              "      <td>0.000000</td>\n",
              "      <td>4505.000000</td>\n",
              "    </tr>\n",
              "    <tr>\n",
              "      <th>75%</th>\n",
              "      <td>1.0</td>\n",
              "      <td>95337.250000</td>\n",
              "      <td>38.158676</td>\n",
              "      <td>-118.057091</td>\n",
              "      <td>55.000000</td>\n",
              "      <td>89.750000</td>\n",
              "      <td>75.000000</td>\n",
              "      <td>1.000000</td>\n",
              "      <td>5374.750000</td>\n",
              "    </tr>\n",
              "    <tr>\n",
              "      <th>max</th>\n",
              "      <td>1.0</td>\n",
              "      <td>96161.000000</td>\n",
              "      <td>41.962127</td>\n",
              "      <td>-114.192901</td>\n",
              "      <td>72.000000</td>\n",
              "      <td>118.650000</td>\n",
              "      <td>100.000000</td>\n",
              "      <td>1.000000</td>\n",
              "      <td>6500.000000</td>\n",
              "    </tr>\n",
              "  </tbody>\n",
              "</table>\n",
              "</div>\n",
              "    <div class=\"colab-df-buttons\">\n",
              "\n",
              "  <div class=\"colab-df-container\">\n",
              "    <button class=\"colab-df-convert\" onclick=\"convertToInteractive('df-1f546be0-6056-4072-8636-b4278f2053d5')\"\n",
              "            title=\"Convert this dataframe to an interactive table.\"\n",
              "            style=\"display:none;\">\n",
              "\n",
              "  <svg xmlns=\"http://www.w3.org/2000/svg\" height=\"24px\" viewBox=\"0 -960 960 960\">\n",
              "    <path d=\"M120-120v-720h720v720H120Zm60-500h600v-160H180v160Zm220 220h160v-160H400v160Zm0 220h160v-160H400v160ZM180-400h160v-160H180v160Zm440 0h160v-160H620v160ZM180-180h160v-160H180v160Zm440 0h160v-160H620v160Z\"/>\n",
              "  </svg>\n",
              "    </button>\n",
              "\n",
              "  <style>\n",
              "    .colab-df-container {\n",
              "      display:flex;\n",
              "      gap: 12px;\n",
              "    }\n",
              "\n",
              "    .colab-df-convert {\n",
              "      background-color: #E8F0FE;\n",
              "      border: none;\n",
              "      border-radius: 50%;\n",
              "      cursor: pointer;\n",
              "      display: none;\n",
              "      fill: #1967D2;\n",
              "      height: 32px;\n",
              "      padding: 0 0 0 0;\n",
              "      width: 32px;\n",
              "    }\n",
              "\n",
              "    .colab-df-convert:hover {\n",
              "      background-color: #E2EBFA;\n",
              "      box-shadow: 0px 1px 2px rgba(60, 64, 67, 0.3), 0px 1px 3px 1px rgba(60, 64, 67, 0.15);\n",
              "      fill: #174EA6;\n",
              "    }\n",
              "\n",
              "    .colab-df-buttons div {\n",
              "      margin-bottom: 4px;\n",
              "    }\n",
              "\n",
              "    [theme=dark] .colab-df-convert {\n",
              "      background-color: #3B4455;\n",
              "      fill: #D2E3FC;\n",
              "    }\n",
              "\n",
              "    [theme=dark] .colab-df-convert:hover {\n",
              "      background-color: #434B5C;\n",
              "      box-shadow: 0px 1px 3px 1px rgba(0, 0, 0, 0.15);\n",
              "      filter: drop-shadow(0px 1px 2px rgba(0, 0, 0, 0.3));\n",
              "      fill: #FFFFFF;\n",
              "    }\n",
              "  </style>\n",
              "\n",
              "    <script>\n",
              "      const buttonEl =\n",
              "        document.querySelector('#df-1f546be0-6056-4072-8636-b4278f2053d5 button.colab-df-convert');\n",
              "      buttonEl.style.display =\n",
              "        google.colab.kernel.accessAllowed ? 'block' : 'none';\n",
              "\n",
              "      async function convertToInteractive(key) {\n",
              "        const element = document.querySelector('#df-1f546be0-6056-4072-8636-b4278f2053d5');\n",
              "        const dataTable =\n",
              "          await google.colab.kernel.invokeFunction('convertToInteractive',\n",
              "                                                    [key], {});\n",
              "        if (!dataTable) return;\n",
              "\n",
              "        const docLinkHtml = 'Like what you see? Visit the ' +\n",
              "          '<a target=\"_blank\" href=https://colab.research.google.com/notebooks/data_table.ipynb>data table notebook</a>'\n",
              "          + ' to learn more about interactive tables.';\n",
              "        element.innerHTML = '';\n",
              "        dataTable['output_type'] = 'display_data';\n",
              "        await google.colab.output.renderOutput(dataTable, element);\n",
              "        const docLink = document.createElement('div');\n",
              "        docLink.innerHTML = docLinkHtml;\n",
              "        element.appendChild(docLink);\n",
              "      }\n",
              "    </script>\n",
              "  </div>\n",
              "\n",
              "\n",
              "<div id=\"df-5a02d79d-a3e0-4fca-af5f-aa099114ab14\">\n",
              "  <button class=\"colab-df-quickchart\" onclick=\"quickchart('df-5a02d79d-a3e0-4fca-af5f-aa099114ab14')\"\n",
              "            title=\"Suggest charts\"\n",
              "            style=\"display:none;\">\n",
              "\n",
              "<svg xmlns=\"http://www.w3.org/2000/svg\" height=\"24px\"viewBox=\"0 0 24 24\"\n",
              "     width=\"24px\">\n",
              "    <g>\n",
              "        <path d=\"M19 3H5c-1.1 0-2 .9-2 2v14c0 1.1.9 2 2 2h14c1.1 0 2-.9 2-2V5c0-1.1-.9-2-2-2zM9 17H7v-7h2v7zm4 0h-2V7h2v10zm4 0h-2v-4h2v4z\"/>\n",
              "    </g>\n",
              "</svg>\n",
              "  </button>\n",
              "\n",
              "<style>\n",
              "  .colab-df-quickchart {\n",
              "      --bg-color: #E8F0FE;\n",
              "      --fill-color: #1967D2;\n",
              "      --hover-bg-color: #E2EBFA;\n",
              "      --hover-fill-color: #174EA6;\n",
              "      --disabled-fill-color: #AAA;\n",
              "      --disabled-bg-color: #DDD;\n",
              "  }\n",
              "\n",
              "  [theme=dark] .colab-df-quickchart {\n",
              "      --bg-color: #3B4455;\n",
              "      --fill-color: #D2E3FC;\n",
              "      --hover-bg-color: #434B5C;\n",
              "      --hover-fill-color: #FFFFFF;\n",
              "      --disabled-bg-color: #3B4455;\n",
              "      --disabled-fill-color: #666;\n",
              "  }\n",
              "\n",
              "  .colab-df-quickchart {\n",
              "    background-color: var(--bg-color);\n",
              "    border: none;\n",
              "    border-radius: 50%;\n",
              "    cursor: pointer;\n",
              "    display: none;\n",
              "    fill: var(--fill-color);\n",
              "    height: 32px;\n",
              "    padding: 0;\n",
              "    width: 32px;\n",
              "  }\n",
              "\n",
              "  .colab-df-quickchart:hover {\n",
              "    background-color: var(--hover-bg-color);\n",
              "    box-shadow: 0 1px 2px rgba(60, 64, 67, 0.3), 0 1px 3px 1px rgba(60, 64, 67, 0.15);\n",
              "    fill: var(--button-hover-fill-color);\n",
              "  }\n",
              "\n",
              "  .colab-df-quickchart-complete:disabled,\n",
              "  .colab-df-quickchart-complete:disabled:hover {\n",
              "    background-color: var(--disabled-bg-color);\n",
              "    fill: var(--disabled-fill-color);\n",
              "    box-shadow: none;\n",
              "  }\n",
              "\n",
              "  .colab-df-spinner {\n",
              "    border: 2px solid var(--fill-color);\n",
              "    border-color: transparent;\n",
              "    border-bottom-color: var(--fill-color);\n",
              "    animation:\n",
              "      spin 1s steps(1) infinite;\n",
              "  }\n",
              "\n",
              "  @keyframes spin {\n",
              "    0% {\n",
              "      border-color: transparent;\n",
              "      border-bottom-color: var(--fill-color);\n",
              "      border-left-color: var(--fill-color);\n",
              "    }\n",
              "    20% {\n",
              "      border-color: transparent;\n",
              "      border-left-color: var(--fill-color);\n",
              "      border-top-color: var(--fill-color);\n",
              "    }\n",
              "    30% {\n",
              "      border-color: transparent;\n",
              "      border-left-color: var(--fill-color);\n",
              "      border-top-color: var(--fill-color);\n",
              "      border-right-color: var(--fill-color);\n",
              "    }\n",
              "    40% {\n",
              "      border-color: transparent;\n",
              "      border-right-color: var(--fill-color);\n",
              "      border-top-color: var(--fill-color);\n",
              "    }\n",
              "    60% {\n",
              "      border-color: transparent;\n",
              "      border-right-color: var(--fill-color);\n",
              "    }\n",
              "    80% {\n",
              "      border-color: transparent;\n",
              "      border-right-color: var(--fill-color);\n",
              "      border-bottom-color: var(--fill-color);\n",
              "    }\n",
              "    90% {\n",
              "      border-color: transparent;\n",
              "      border-bottom-color: var(--fill-color);\n",
              "    }\n",
              "  }\n",
              "</style>\n",
              "\n",
              "  <script>\n",
              "    async function quickchart(key) {\n",
              "      const quickchartButtonEl =\n",
              "        document.querySelector('#' + key + ' button');\n",
              "      quickchartButtonEl.disabled = true;  // To prevent multiple clicks.\n",
              "      quickchartButtonEl.classList.add('colab-df-spinner');\n",
              "      try {\n",
              "        const charts = await google.colab.kernel.invokeFunction(\n",
              "            'suggestCharts', [key], {});\n",
              "      } catch (error) {\n",
              "        console.error('Error during call to suggestCharts:', error);\n",
              "      }\n",
              "      quickchartButtonEl.classList.remove('colab-df-spinner');\n",
              "      quickchartButtonEl.classList.add('colab-df-quickchart-complete');\n",
              "    }\n",
              "    (() => {\n",
              "      let quickchartButtonEl =\n",
              "        document.querySelector('#df-5a02d79d-a3e0-4fca-af5f-aa099114ab14 button');\n",
              "      quickchartButtonEl.style.display =\n",
              "        google.colab.kernel.accessAllowed ? 'block' : 'none';\n",
              "    })();\n",
              "  </script>\n",
              "</div>\n",
              "\n",
              "    </div>\n",
              "  </div>\n"
            ]
          },
          "metadata": {},
          "execution_count": 6
        }
      ]
    },
    {
      "cell_type": "code",
      "source": [
        "# walking through unique values\n",
        "\n",
        "columns = train_data.columns.values\n",
        "for column in columns:\n",
        "  print(f\"{column} - {train_data[column].unique()}\")"
      ],
      "metadata": {
        "id": "6EkgjGCV0Xrw",
        "colab": {
          "base_uri": "https://localhost:8080/"
        },
        "outputId": "ad7ea7ce-79f1-451c-91ac-6a7f6533935e"
      },
      "execution_count": null,
      "outputs": [
        {
          "output_type": "stream",
          "name": "stdout",
          "text": [
            "CustomerID - ['7964-VEXDG' '5141-ZUVBH' '7718-UPSKJ' ... '0887-HJGAR' '3537-RYBHH'\n",
            " '8383-SGHJU']\n",
            "Count - [1]\n",
            "Country - ['United States']\n",
            "State - ['California']\n",
            "City - ['Anaheim' 'Boron' 'San Diego' ... 'Petrolia' 'Fallbrook' 'Highland']\n",
            "Zip Code - [92802 93516 92116 ... 94110 93103 93307]\n",
            "Lat Long - ['33.807864, -117.923782' '34.95703, -117.73045' '32.765299, -117.122565'\n",
            " ... '37.750021, -122.415201' '34.438581, -119.685368'\n",
            " '35.280113, -118.962329']\n",
            "Latitude - [33.807864 34.95703  32.765299 ... 37.750021 34.438581 35.280113]\n",
            "Longitude - [-117.923782 -117.73045  -117.122565 ... -122.415201 -119.685368\n",
            " -118.962329]\n",
            "Gender - ['Male' 'Female']\n",
            "Senior Citizen - ['No' 'Yes']\n",
            "Partner - ['No' 'Yes']\n",
            "Dependents - ['Yes' 'No']\n",
            "Tenure Months - [21  9 69  5 18 56 30 63 14 46  4 68  0  7 48  3 71  8 40 67 28 72 41 19\n",
            "  1 13 49 36 50 65 55  2 45 24 66 70 53 15 52 64  6 38 44 10 60 62 11 12\n",
            " 31 20 26 25 33 23 58 59 34 35 43 27 17 22 32 47 51 61 57 42 39 16 29 37\n",
            " 54]\n",
            "Phone Service - ['Yes' 'No']\n",
            "Multiple Lines - ['Yes' 'No' 'No phone service']\n",
            "Internet Service - ['Fiber optic' 'No' 'DSL']\n",
            "Online Security - ['Yes' 'No' 'No internet service']\n",
            "Online Backup - ['No' 'Yes' 'No internet service']\n",
            "Device Protection - ['No' 'Yes' 'No internet service']\n",
            "Tech Support - ['No' 'Yes' 'No internet service']\n",
            "Streaming TV - ['No' 'Yes' 'No internet service']\n",
            "Streaming Movies - ['No' 'Yes' 'No internet service']\n",
            "Contract - ['Month-to-month' 'One year' 'Two year']\n",
            "Paperless Billing - ['No' 'Yes']\n",
            "Payment Method - ['Electronic check' 'Bank transfer (automatic)' 'Credit card (automatic)'\n",
            " 'Mailed check']\n",
            "Monthly Charges - [ 80.35  93.   106.4  ... 110.55  68.35  59.4 ]\n",
            "Churn Score - [ 62  40  26  70  42  83  20  23  86  63  43  73  54  48  21  56  47  55\n",
            "  78  35  69  61  37  65  49  46  71  92  39  77  50  38  41  27  95  33\n",
            "  67  32  34  99  60  80  66  75  74  45  58  79  28  51  81  98  87  30\n",
            "  72  52  59  29  64  44  76  94  57  96  82  93  25  88 100  84  68  53\n",
            "  85  22  89  24  90  36  97  91  31   8   5   9   7]\n",
            "Churn Value - [0 1]\n",
            "CLTV - [4579 2267 4328 ... 6211 5993 3887]\n",
            "Churn Reason - [nan 'Competitor offered more data' 'Product dissatisfaction' 'Moved'\n",
            " 'Attitude of support person' \"Don't know\" 'Competitor made better offer'\n",
            " 'Limited range of services' 'Network reliability' 'Long distance charges'\n",
            " 'Attitude of service provider' 'Lack of self-service on Website'\n",
            " 'Competitor had better devices'\n",
            " 'Lack of affordable download/upload speed' 'Price too high'\n",
            " 'Poor expertise of phone support' 'Extra data charges'\n",
            " 'Competitor offered higher download speeds' 'Service dissatisfaction'\n",
            " 'Deceased' 'Poor expertise of online support']\n"
          ]
        }
      ]
    },
    {
      "cell_type": "markdown",
      "source": [
        "## Data Classification\n",
        "Here we classified columns according to their usability and overall importance based only on common sense.\n",
        "\n",
        "Classes:\n",
        "1. 🟥 unusable\n",
        "2. 🟩 usable\n",
        "3. 🟪 questionable | presentation purposes\n",
        "\n",
        "| Column name | Status | Reason |\n",
        "| --- | --- | --- |\n",
        "| CustomerID | 🟩 | Just to distinguish users |\n",
        "| Count | 🟥 | Only one value equal to 1 |\n",
        "| Country | 🟥 | U.S.A. only |\n",
        "| State | 🟥 | California only |\n",
        "| City | 🟥 | There was interesting case of Zenia (outlier) city with 60 churns, but it is still hard to make decision |\n",
        "| Zip Code | 🟥 | a useless value that will throw off the weights |\n",
        "| Lat Long | 🟥 | a useless value that will throw off the weights |\n",
        "| Latitude | 🟥 | a useless value that will throw off the weights |\n",
        "| Longitude | 🟥 | a useless value that will throw off the weights |\n",
        "| Gender | 🟩 | Categorical data, contains useful information |\n",
        "| Senior Citizen | 🟩 | Categorical data, contains useful information |\n",
        "| Partner | 🟩 | Categorical data, contains useful information |\n",
        "| Dependents | 🟩 | Categorical data, contains useful information |\n",
        "| Tenure Months | 🟩 | Contains useful information, very important |\n",
        "| Phone Service | 🟩 | In general, it’s difficult to say anything based on the lower values. |\n",
        "| Multiple Lines | 🟩 | In general, it’s difficult to say anything based on the lower values. |\n",
        "| Internet Service | 🟩 | In general, it’s difficult to say anything based on the lower values. |\n",
        "| Online Security | 🟩 | In general, it’s difficult to say anything based on the lower values. |\n",
        "| Online Backup | 🟩 | In general, it’s difficult to say anything based on the lower values. |\n",
        "| Device Protection | 🟩 | In general, it’s difficult to say anything based on the lower values. |\n",
        "| Tech Support | 🟩 | In general, it’s difficult to say anything based on the lower values. |\n",
        "| Streaming TV | 🟩 | In general, it’s difficult to say anything based on the lower values. |\n",
        "| Streaming Movies | 🟩 | In general, it’s difficult to say anything based on the lower values. |\n",
        "| Contract | 🟩 | Categorical data, contains useful information, very useful |\n",
        "| Paperless Billing | 🟥 | Not useful because the value can be obtained from another more informative column |\n",
        "| Payment Method | 🟪 | questionable |\n",
        "| Monthly Charges | 🟪 | questionable |\n",
        "| Churn Score | 🟪 |  questionable |\n",
        "| Churn Value | 🟩 |  Contain useful data |\n",
        "| CLTV | 🟪 |  quetionable |\n",
        "| Churn Reason | 🟪 | Well, I don’t know, when canceling a subscription or deleting a program, companies often ask you to leave a feedback, maybe you can classify problems under general cases and push the values |"
      ],
      "metadata": {
        "id": "FXAmmso__FJZ"
      }
    },
    {
      "cell_type": "code",
      "source": [
        "gender_labels = ['males', 'females']\n",
        "\n",
        "males = train_data[train_data[\"Gender\"] == \"Male\"]\n",
        "females = train_data[train_data[\"Gender\"] == \"Female\"]\n",
        "\n",
        "churn_male = males[males['Churn Value'] == 1]['Count']\n",
        "churn_female = females[females['Churn Value'] == 1]['Count']\n",
        "\n",
        "ratio_males = churn_male.count() / males['Count'].count()\n",
        "ratio_females = churn_female.count() / females['Count'].count()"
      ],
      "metadata": {
        "id": "YDsL8MoRsHq4"
      },
      "execution_count": null,
      "outputs": []
    },
    {
      "cell_type": "code",
      "source": [
        "plt.bar(gender_labels, [males['Count'].count(), females['Count'].count()], label=gender_labels, color=[hex_color1, hex_color2])\n",
        "plt.title('Gender')\n",
        "plt.ylabel('Frequency')\n",
        "plt.legend()\n",
        "plt.show()"
      ],
      "metadata": {
        "id": "GFgqkfYrvy0o",
        "outputId": "b04e5e96-996b-47d4-984b-fbbdee4e9764",
        "colab": {
          "base_uri": "https://localhost:8080/",
          "height": 452
        }
      },
      "execution_count": null,
      "outputs": [
        {
          "output_type": "display_data",
          "data": {
            "text/plain": [
              "<Figure size 640x480 with 1 Axes>"
            ],
            "image/png": "[encoded data removed]"
          },
          "metadata": {}
        }
      ]
    },
    {
      "cell_type": "code",
      "source": [
        "plt.bar(gender_labels, [ratio_males, ratio_females], label=gender_labels, color=[hex_color1, hex_color2])\n",
        "plt.title('Ratio of Churned Males and Females')\n",
        "plt.ylabel('%')\n",
        "plt.legend()\n",
        "plt.show()"
      ],
      "metadata": {
        "id": "RmDq2caOcHPp",
        "outputId": "cd3af53f-f03e-486f-8a32-a83cef448645",
        "colab": {
          "base_uri": "https://localhost:8080/",
          "height": 452
        }
      },
      "execution_count": null,
      "outputs": [
        {
          "output_type": "display_data",
          "data": {
            "text/plain": [
              "<Figure size 640x480 with 1 Axes>"
            ],
            "image/png": "[encoded data removed]"
          },
          "metadata": {}
        }
      ]
    },
    {
      "cell_type": "code",
      "source": [
        "cities = train_data[\"City\"].unique()\n",
        "\n",
        "len(cities)"
      ],
      "metadata": {
        "id": "LEpsPIi4cXK2",
        "outputId": "b15b92be-834a-4f0c-c33d-bf9812f03565",
        "colab": {
          "base_uri": "https://localhost:8080/"
        }
      },
      "execution_count": null,
      "outputs": [
        {
          "output_type": "execute_result",
          "data": {
            "text/plain": [
              "1102"
            ]
          },
          "metadata": {},
          "execution_count": 11
        }
      ]
    },
    {
      "cell_type": "code",
      "source": [
        "train_data['Contract'].unique()"
      ],
      "metadata": {
        "id": "1CbVOu6WcXI1",
        "outputId": "a905bd09-fd0e-4a45-c039-7a869fcc2f63",
        "colab": {
          "base_uri": "https://localhost:8080/"
        }
      },
      "execution_count": null,
      "outputs": [
        {
          "output_type": "execute_result",
          "data": {
            "text/plain": [
              "array(['Month-to-month', 'One year', 'Two year'], dtype=object)"
            ]
          },
          "metadata": {},
          "execution_count": 12
        }
      ]
    },
    {
      "cell_type": "code",
      "source": [
        "score_data = train_data[train_data[\"Churn Value\"] == 1]['Churn Score']\n",
        "reason_data = train_data[train_data[\"Churn Value\"] == 1]['Churn Reason']\n",
        "score_reason_data = pd.concat([score_data, reason_data], axis=1)\n",
        "reasons = score_reason_data['Churn Reason'].unique()"
      ],
      "metadata": {
        "id": "bWveBkLbcXCx"
      },
      "execution_count": null,
      "outputs": []
    },
    {
      "cell_type": "code",
      "source": [
        "number_reasons = []\n",
        "\n",
        "for reason in reasons:\n",
        "  reason_occurences = len(reason_data[reason_data == reason])\n",
        "  number_reasons.append(reason_occurences)\n",
        "\n",
        "plt.bar(range(1, 21), number_reasons, color=hex_color2)\n",
        "plt.ylabel('%')\n",
        "plt.xlabel('Reasons -> from 1 to 20')\n",
        "plt.show()"
      ],
      "metadata": {
        "id": "bbUOecb0g3eG",
        "outputId": "c9389484-38e6-4249-f984-428768121ee7",
        "colab": {
          "base_uri": "https://localhost:8080/",
          "height": 449
        }
      },
      "execution_count": null,
      "outputs": [
        {
          "output_type": "display_data",
          "data": {
            "text/plain": [
              "<Figure size 640x480 with 1 Axes>"
            ],
            "image/png": "[encoded data removed]"
          },
          "metadata": {}
        }
      ]
    },
    {
      "cell_type": "markdown",
      "source": [
        "#### Reasons that lead to churn\n",
        "1. Competitor offered more data ~ 10.0%\n",
        "2. Product dissatisfaction ~ 6.0%\n",
        "3. Moved ~ 4.0%\n",
        "4. Attitude of support person ~ 10.0%\n",
        "5. Don't know ~ 8.0%\n",
        "6. Competitor made better offer ~ 9.0%\n",
        "7. Limited range of services ~ 3.0%\n",
        "8. Network reliability ~ 7.0%\n",
        "9. Long distance charges ~ 3.0%\n",
        "10. Attitude of service provider ~ 8.0%\n",
        "11. Lack of self-service on Website ~ 5.0%\n",
        "12. Competitor had better devices ~ 7.0%\n",
        "13. Lack of affordable download/upload speed ~ 3.0%\n",
        "14. Price too high ~ 5.0%\n",
        "15. Poor expertise of phone support ~ 2.0%\n",
        "16. Extra data charges ~ 4.0%\n",
        "17. Competitor offered higher download speeds ~ 10.0%\n",
        "18. Service dissatisfaction ~ 5.0%\n",
        "19. Deceased ~ 1.0%\n",
        "20. Poor expertise of online support ~ 2.0%"
      ],
      "metadata": {
        "id": "99mz0Uu5uKgx"
      }
    },
    {
      "cell_type": "code",
      "source": [
        "cities_count = []\n",
        "\n",
        "cities = train_data['City'].unique()\n",
        "city_churn = train_data[train_data[\"Churn Value\"] == 1]['City']\n",
        "\n",
        "for city in cities:\n",
        "  city_count = len(city_churn[city_churn == city])\n",
        "  cities_count.append(city_count)\n",
        "\n",
        "cities_count = pd.Series(cities_count)\n",
        "cities = pd.Series(cities)\n",
        "cities_values = pd.concat([cities, cities_count], axis=1)\n",
        "cities_values.min()"
      ],
      "metadata": {
        "id": "ElqBqzCMcW7x",
        "colab": {
          "base_uri": "https://localhost:8080/"
        },
        "outputId": "ff120edb-4a4a-4a5c-e472-69408ad74246"
      },
      "execution_count": null,
      "outputs": [
        {
          "output_type": "execute_result",
          "data": {
            "text/plain": [
              "0    Acampo\n",
              "1         0\n",
              "dtype: object"
            ]
          },
          "metadata": {},
          "execution_count": 15
        }
      ]
    },
    {
      "cell_type": "markdown",
      "source": [
        "From this code partiton we found that Zenia city is an outlier with 60 churns."
      ],
      "metadata": {
        "id": "o6qq496-b7k8"
      }
    },
    {
      "cell_type": "code",
      "source": [
        "age_labels = ['young', 'senior']\n",
        "\n",
        "seniors = train_data[train_data['Senior Citizen'] == 'Yes']\n",
        "youngs = train_data[train_data['Senior Citizen'] == 'No']\n",
        "\n",
        "churn_seniors = seniors[seniors['Churn Value'] == 1]['Count']\n",
        "churn_youngs = youngs[youngs['Churn Value'] == 1]['Count']\n",
        "\n",
        "ratio_seniors = churn_seniors.count() / seniors['Count'].count()\n",
        "ratio_youngs = churn_youngs.count() / youngs['Count'].count()\n",
        "print(ratio_seniors, ratio_youngs)"
      ],
      "metadata": {
        "id": "-n1SQU8UcW0R",
        "colab": {
          "base_uri": "https://localhost:8080/"
        },
        "outputId": "724a81df-8be9-4b72-e610-04d3dfd0f475"
      },
      "execution_count": null,
      "outputs": [
        {
          "output_type": "stream",
          "name": "stdout",
          "text": [
            "0.4071207430340557 0.23711340206185566\n"
          ]
        }
      ]
    },
    {
      "cell_type": "markdown",
      "source": [
        "From the total number of the elderly population, it is clear that the elderly part of the population refuses services 2 times more often than the young part."
      ],
      "metadata": {
        "id": "MkQIv1qOk-mJ"
      }
    },
    {
      "cell_type": "code",
      "source": [
        "plt.bar(age_labels, [youngs['Count'].count(), seniors['Count'].count()], label=age_labels, color=[hex_color1, hex_color2])\n",
        "plt.title('Ratio of Citizens by age group')\n",
        "plt.ylabel('%')\n",
        "plt.legend()\n",
        "plt.show()"
      ],
      "metadata": {
        "colab": {
          "base_uri": "https://localhost:8080/",
          "height": 452
        },
        "id": "ALdhBkBppCPs",
        "outputId": "75ad8bef-f7ff-4ab7-a219-6c6abe73627e"
      },
      "execution_count": null,
      "outputs": [
        {
          "output_type": "display_data",
          "data": {
            "text/plain": [
              "<Figure size 640x480 with 1 Axes>"
            ],
            "image/png": "[encoded data removed]"
          },
          "metadata": {}
        }
      ]
    },
    {
      "cell_type": "code",
      "source": [
        "plt.bar(age_labels, [ratio_youngs, ratio_seniors], label=age_labels, color=[hex_color1, hex_color2])\n",
        "plt.title('Ratio of churns based on age')\n",
        "plt.ylabel('%')\n",
        "plt.legend()\n",
        "plt.show()"
      ],
      "metadata": {
        "id": "4zSgguQMnOsh",
        "outputId": "ef44910d-da80-4360-9ecd-fc3ec8fdfcb3",
        "colab": {
          "base_uri": "https://localhost:8080/",
          "height": 452
        }
      },
      "execution_count": null,
      "outputs": [
        {
          "output_type": "display_data",
          "data": {
            "text/plain": [
              "<Figure size 640x480 with 1 Axes>"
            ],
            "image/png": "[encoded data removed]"
          },
          "metadata": {}
        }
      ]
    },
    {
      "cell_type": "code",
      "source": [
        "reasons = seniors[seniors['Churn Value'] == 1]['Churn Reason']\n",
        "\n",
        "reasons = pd.Series(reasons)\n",
        "churn_seniores = pd.Series(churn_seniors)\n",
        "\n",
        "churn_reasons_seniors = pd.concat([churn_seniors, reasons], axis=1)\n",
        "churn_reasons_seniors"
      ],
      "metadata": {
        "id": "8BEOWA4OcX7t",
        "outputId": "c9e557d6-4fcc-420a-e4df-d51284273ea3",
        "colab": {
          "base_uri": "https://localhost:8080/",
          "height": 424
        }
      },
      "execution_count": null,
      "outputs": [
        {
          "output_type": "execute_result",
          "data": {
            "text/plain": [
              "      Count                               Churn Reason\n",
              "10        1                    Product dissatisfaction\n",
              "24        1                                      Moved\n",
              "37        1               Competitor made better offer\n",
              "40        1                        Network reliability\n",
              "64        1            Lack of self-service on Website\n",
              "...     ...                                        ...\n",
              "3822      1               Attitude of service provider\n",
              "3832      1  Competitor offered higher download speeds\n",
              "3861      1              Competitor had better devices\n",
              "3881      1                             Price too high\n",
              "3937      1                             Price too high\n",
              "\n",
              "[263 rows x 2 columns]"
            ],
            "text/html": [
              "\n",
              "  <div id=\"df-923132b0-d55a-4052-b43a-abfdf05e0905\" class=\"colab-df-container\">\n",
              "    <div>\n",
              "<style scoped>\n",
              "    .dataframe tbody tr th:only-of-type {\n",
              "        vertical-align: middle;\n",
              "    }\n",
              "\n",
              "    .dataframe tbody tr th {\n",
              "        vertical-align: top;\n",
              "    }\n",
              "\n",
              "    .dataframe thead th {\n",
              "        text-align: right;\n",
              "    }\n",
              "</style>\n",
              "<table border=\"1\" class=\"dataframe\">\n",
              "  <thead>\n",
              "    <tr style=\"text-align: right;\">\n",
              "      <th></th>\n",
              "      <th>Count</th>\n",
              "      <th>Churn Reason</th>\n",
              "    </tr>\n",
              "  </thead>\n",
              "  <tbody>\n",
              "    <tr>\n",
              "      <th>10</th>\n",
              "      <td>1</td>\n",
              "      <td>Product dissatisfaction</td>\n",
              "    </tr>\n",
              "    <tr>\n",
              "      <th>24</th>\n",
              "      <td>1</td>\n",
              "      <td>Moved</td>\n",
              "    </tr>\n",
              "    <tr>\n",
              "      <th>37</th>\n",
              "      <td>1</td>\n",
              "      <td>Competitor made better offer</td>\n",
              "    </tr>\n",
              "    <tr>\n",
              "      <th>40</th>\n",
              "      <td>1</td>\n",
              "      <td>Network reliability</td>\n",
              "    </tr>\n",
              "    <tr>\n",
              "      <th>64</th>\n",
              "      <td>1</td>\n",
              "      <td>Lack of self-service on Website</td>\n",
              "    </tr>\n",
              "    <tr>\n",
              "      <th>...</th>\n",
              "      <td>...</td>\n",
              "      <td>...</td>\n",
              "    </tr>\n",
              "    <tr>\n",
              "      <th>3822</th>\n",
              "      <td>1</td>\n",
              "      <td>Attitude of service provider</td>\n",
              "    </tr>\n",
              "    <tr>\n",
              "      <th>3832</th>\n",
              "      <td>1</td>\n",
              "      <td>Competitor offered higher download speeds</td>\n",
              "    </tr>\n",
              "    <tr>\n",
              "      <th>3861</th>\n",
              "      <td>1</td>\n",
              "      <td>Competitor had better devices</td>\n",
              "    </tr>\n",
              "    <tr>\n",
              "      <th>3881</th>\n",
              "      <td>1</td>\n",
              "      <td>Price too high</td>\n",
              "    </tr>\n",
              "    <tr>\n",
              "      <th>3937</th>\n",
              "      <td>1</td>\n",
              "      <td>Price too high</td>\n",
              "    </tr>\n",
              "  </tbody>\n",
              "</table>\n",
              "<p>263 rows × 2 columns</p>\n",
              "</div>\n",
              "    <div class=\"colab-df-buttons\">\n",
              "\n",
              "  <div class=\"colab-df-container\">\n",
              "    <button class=\"colab-df-convert\" onclick=\"convertToInteractive('df-923132b0-d55a-4052-b43a-abfdf05e0905')\"\n",
              "            title=\"Convert this dataframe to an interactive table.\"\n",
              "            style=\"display:none;\">\n",
              "\n",
              "  <svg xmlns=\"http://www.w3.org/2000/svg\" height=\"24px\" viewBox=\"0 -960 960 960\">\n",
              "    <path d=\"M120-120v-720h720v720H120Zm60-500h600v-160H180v160Zm220 220h160v-160H400v160Zm0 220h160v-160H400v160ZM180-400h160v-160H180v160Zm440 0h160v-160H620v160ZM180-180h160v-160H180v160Zm440 0h160v-160H620v160Z\"/>\n",
              "  </svg>\n",
              "    </button>\n",
              "\n",
              "  <style>\n",
              "    .colab-df-container {\n",
              "      display:flex;\n",
              "      gap: 12px;\n",
              "    }\n",
              "\n",
              "    .colab-df-convert {\n",
              "      background-color: #E8F0FE;\n",
              "      border: none;\n",
              "      border-radius: 50%;\n",
              "      cursor: pointer;\n",
              "      display: none;\n",
              "      fill: #1967D2;\n",
              "      height: 32px;\n",
              "      padding: 0 0 0 0;\n",
              "      width: 32px;\n",
              "    }\n",
              "\n",
              "    .colab-df-convert:hover {\n",
              "      background-color: #E2EBFA;\n",
              "      box-shadow: 0px 1px 2px rgba(60, 64, 67, 0.3), 0px 1px 3px 1px rgba(60, 64, 67, 0.15);\n",
              "      fill: #174EA6;\n",
              "    }\n",
              "\n",
              "    .colab-df-buttons div {\n",
              "      margin-bottom: 4px;\n",
              "    }\n",
              "\n",
              "    [theme=dark] .colab-df-convert {\n",
              "      background-color: #3B4455;\n",
              "      fill: #D2E3FC;\n",
              "    }\n",
              "\n",
              "    [theme=dark] .colab-df-convert:hover {\n",
              "      background-color: #434B5C;\n",
              "      box-shadow: 0px 1px 3px 1px rgba(0, 0, 0, 0.15);\n",
              "      filter: drop-shadow(0px 1px 2px rgba(0, 0, 0, 0.3));\n",
              "      fill: #FFFFFF;\n",
              "    }\n",
              "  </style>\n",
              "\n",
              "    <script>\n",
              "      const buttonEl =\n",
              "        document.querySelector('#df-923132b0-d55a-4052-b43a-abfdf05e0905 button.colab-df-convert');\n",
              "      buttonEl.style.display =\n",
              "        google.colab.kernel.accessAllowed ? 'block' : 'none';\n",
              "\n",
              "      async function convertToInteractive(key) {\n",
              "        const element = document.querySelector('#df-923132b0-d55a-4052-b43a-abfdf05e0905');\n",
              "        const dataTable =\n",
              "          await google.colab.kernel.invokeFunction('convertToInteractive',\n",
              "                                                    [key], {});\n",
              "        if (!dataTable) return;\n",
              "\n",
              "        const docLinkHtml = 'Like what you see? Visit the ' +\n",
              "          '<a target=\"_blank\" href=https://colab.research.google.com/notebooks/data_table.ipynb>data table notebook</a>'\n",
              "          + ' to learn more about interactive tables.';\n",
              "        element.innerHTML = '';\n",
              "        dataTable['output_type'] = 'display_data';\n",
              "        await google.colab.output.renderOutput(dataTable, element);\n",
              "        const docLink = document.createElement('div');\n",
              "        docLink.innerHTML = docLinkHtml;\n",
              "        element.appendChild(docLink);\n",
              "      }\n",
              "    </script>\n",
              "  </div>\n",
              "\n",
              "\n",
              "<div id=\"df-c2affd1d-6876-4538-8992-346a84468535\">\n",
              "  <button class=\"colab-df-quickchart\" onclick=\"quickchart('df-c2affd1d-6876-4538-8992-346a84468535')\"\n",
              "            title=\"Suggest charts\"\n",
              "            style=\"display:none;\">\n",
              "\n",
              "<svg xmlns=\"http://www.w3.org/2000/svg\" height=\"24px\"viewBox=\"0 0 24 24\"\n",
              "     width=\"24px\">\n",
              "    <g>\n",
              "        <path d=\"M19 3H5c-1.1 0-2 .9-2 2v14c0 1.1.9 2 2 2h14c1.1 0 2-.9 2-2V5c0-1.1-.9-2-2-2zM9 17H7v-7h2v7zm4 0h-2V7h2v10zm4 0h-2v-4h2v4z\"/>\n",
              "    </g>\n",
              "</svg>\n",
              "  </button>\n",
              "\n",
              "<style>\n",
              "  .colab-df-quickchart {\n",
              "      --bg-color: #E8F0FE;\n",
              "      --fill-color: #1967D2;\n",
              "      --hover-bg-color: #E2EBFA;\n",
              "      --hover-fill-color: #174EA6;\n",
              "      --disabled-fill-color: #AAA;\n",
              "      --disabled-bg-color: #DDD;\n",
              "  }\n",
              "\n",
              "  [theme=dark] .colab-df-quickchart {\n",
              "      --bg-color: #3B4455;\n",
              "      --fill-color: #D2E3FC;\n",
              "      --hover-bg-color: #434B5C;\n",
              "      --hover-fill-color: #FFFFFF;\n",
              "      --disabled-bg-color: #3B4455;\n",
              "      --disabled-fill-color: #666;\n",
              "  }\n",
              "\n",
              "  .colab-df-quickchart {\n",
              "    background-color: var(--bg-color);\n",
              "    border: none;\n",
              "    border-radius: 50%;\n",
              "    cursor: pointer;\n",
              "    display: none;\n",
              "    fill: var(--fill-color);\n",
              "    height: 32px;\n",
              "    padding: 0;\n",
              "    width: 32px;\n",
              "  }\n",
              "\n",
              "  .colab-df-quickchart:hover {\n",
              "    background-color: var(--hover-bg-color);\n",
              "    box-shadow: 0 1px 2px rgba(60, 64, 67, 0.3), 0 1px 3px 1px rgba(60, 64, 67, 0.15);\n",
              "    fill: var(--button-hover-fill-color);\n",
              "  }\n",
              "\n",
              "  .colab-df-quickchart-complete:disabled,\n",
              "  .colab-df-quickchart-complete:disabled:hover {\n",
              "    background-color: var(--disabled-bg-color);\n",
              "    fill: var(--disabled-fill-color);\n",
              "    box-shadow: none;\n",
              "  }\n",
              "\n",
              "  .colab-df-spinner {\n",
              "    border: 2px solid var(--fill-color);\n",
              "    border-color: transparent;\n",
              "    border-bottom-color: var(--fill-color);\n",
              "    animation:\n",
              "      spin 1s steps(1) infinite;\n",
              "  }\n",
              "\n",
              "  @keyframes spin {\n",
              "    0% {\n",
              "      border-color: transparent;\n",
              "      border-bottom-color: var(--fill-color);\n",
              "      border-left-color: var(--fill-color);\n",
              "    }\n",
              "    20% {\n",
              "      border-color: transparent;\n",
              "      border-left-color: var(--fill-color);\n",
              "      border-top-color: var(--fill-color);\n",
              "    }\n",
              "    30% {\n",
              "      border-color: transparent;\n",
              "      border-left-color: var(--fill-color);\n",
              "      border-top-color: var(--fill-color);\n",
              "      border-right-color: var(--fill-color);\n",
              "    }\n",
              "    40% {\n",
              "      border-color: transparent;\n",
              "      border-right-color: var(--fill-color);\n",
              "      border-top-color: var(--fill-color);\n",
              "    }\n",
              "    60% {\n",
              "      border-color: transparent;\n",
              "      border-right-color: var(--fill-color);\n",
              "    }\n",
              "    80% {\n",
              "      border-color: transparent;\n",
              "      border-right-color: var(--fill-color);\n",
              "      border-bottom-color: var(--fill-color);\n",
              "    }\n",
              "    90% {\n",
              "      border-color: transparent;\n",
              "      border-bottom-color: var(--fill-color);\n",
              "    }\n",
              "  }\n",
              "</style>\n",
              "\n",
              "  <script>\n",
              "    async function quickchart(key) {\n",
              "      const quickchartButtonEl =\n",
              "        document.querySelector('#' + key + ' button');\n",
              "      quickchartButtonEl.disabled = true;  // To prevent multiple clicks.\n",
              "      quickchartButtonEl.classList.add('colab-df-spinner');\n",
              "      try {\n",
              "        const charts = await google.colab.kernel.invokeFunction(\n",
              "            'suggestCharts', [key], {});\n",
              "      } catch (error) {\n",
              "        console.error('Error during call to suggestCharts:', error);\n",
              "      }\n",
              "      quickchartButtonEl.classList.remove('colab-df-spinner');\n",
              "      quickchartButtonEl.classList.add('colab-df-quickchart-complete');\n",
              "    }\n",
              "    (() => {\n",
              "      let quickchartButtonEl =\n",
              "        document.querySelector('#df-c2affd1d-6876-4538-8992-346a84468535 button');\n",
              "      quickchartButtonEl.style.display =\n",
              "        google.colab.kernel.accessAllowed ? 'block' : 'none';\n",
              "    })();\n",
              "  </script>\n",
              "</div>\n",
              "\n",
              "  <div id=\"id_cc978a63-fd4f-4870-a323-4e8229ea0104\">\n",
              "    <style>\n",
              "      .colab-df-generate {\n",
              "        background-color: #E8F0FE;\n",
              "        border: none;\n",
              "        border-radius: 50%;\n",
              "        cursor: pointer;\n",
              "        display: none;\n",
              "        fill: #1967D2;\n",
              "        height: 32px;\n",
              "        padding: 0 0 0 0;\n",
              "        width: 32px;\n",
              "      }\n",
              "\n",
              "      .colab-df-generate:hover {\n",
              "        background-color: #E2EBFA;\n",
              "        box-shadow: 0px 1px 2px rgba(60, 64, 67, 0.3), 0px 1px 3px 1px rgba(60, 64, 67, 0.15);\n",
              "        fill: #174EA6;\n",
              "      }\n",
              "\n",
              "      [theme=dark] .colab-df-generate {\n",
              "        background-color: #3B4455;\n",
              "        fill: #D2E3FC;\n",
              "      }\n",
              "\n",
              "      [theme=dark] .colab-df-generate:hover {\n",
              "        background-color: #434B5C;\n",
              "        box-shadow: 0px 1px 3px 1px rgba(0, 0, 0, 0.15);\n",
              "        filter: drop-shadow(0px 1px 2px rgba(0, 0, 0, 0.3));\n",
              "        fill: #FFFFFF;\n",
              "      }\n",
              "    </style>\n",
              "    <button class=\"colab-df-generate\" onclick=\"generateWithVariable('churn_reasons_seniors')\"\n",
              "            title=\"Generate code using this dataframe.\"\n",
              "            style=\"display:none;\">\n",
              "\n",
              "  <svg xmlns=\"http://www.w3.org/2000/svg\" height=\"24px\"viewBox=\"0 0 24 24\"\n",
              "       width=\"24px\">\n",
              "    <path d=\"M7,19H8.4L18.45,9,17,7.55,7,17.6ZM5,21V16.75L18.45,3.32a2,2,0,0,1,2.83,0l1.4,1.43a1.91,1.91,0,0,1,.58,1.4,1.91,1.91,0,0,1-.58,1.4L9.25,21ZM18.45,9,17,7.55Zm-12,3A5.31,5.31,0,0,0,4.9,8.1,5.31,5.31,0,0,0,1,6.5,5.31,5.31,0,0,0,4.9,4.9,5.31,5.31,0,0,0,6.5,1,5.31,5.31,0,0,0,8.1,4.9,5.31,5.31,0,0,0,12,6.5,5.46,5.46,0,0,0,6.5,12Z\"/>\n",
              "  </svg>\n",
              "    </button>\n",
              "    <script>\n",
              "      (() => {\n",
              "      const buttonEl =\n",
              "        document.querySelector('#id_cc978a63-fd4f-4870-a323-4e8229ea0104 button.colab-df-generate');\n",
              "      buttonEl.style.display =\n",
              "        google.colab.kernel.accessAllowed ? 'block' : 'none';\n",
              "\n",
              "      buttonEl.onclick = () => {\n",
              "        google.colab.notebook.generateWithVariable('churn_reasons_seniors');\n",
              "      }\n",
              "      })();\n",
              "    </script>\n",
              "  </div>\n",
              "\n",
              "    </div>\n",
              "  </div>\n"
            ]
          },
          "metadata": {},
          "execution_count": 19
        }
      ]
    },
    {
      "cell_type": "code",
      "source": [
        "# Partner [categorical]\n",
        "partner_labels = ['partner', 'no-partner']\n",
        "\n",
        "partner = train_data[train_data[\"Partner\"] == \"Yes\"]\n",
        "no_partner = train_data[train_data[\"Partner\"] == \"No\"]\n",
        "\n",
        "churn_partner = partner[partner['Churn Value'] == 1]['Count']\n",
        "churn_no_partner = no_partner[no_partner['Churn Value'] == 1]['Count']\n",
        "\n",
        "ratio_partners = churn_partner.count() / partner['Count'].count()\n",
        "ratio_no_partners = churn_no_partner.count() / no_partner['Count'].count()\n",
        "print(ratio_partners, ratio_no_partners)"
      ],
      "metadata": {
        "id": "xP9QirFEcX4p",
        "outputId": "d2491d23-b66d-4dad-ca1e-1aa364916c19",
        "colab": {
          "base_uri": "https://localhost:8080/"
        }
      },
      "execution_count": null,
      "outputs": [
        {
          "output_type": "stream",
          "name": "stdout",
          "text": [
            "0.19672131147540983 0.3278129566488066\n"
          ]
        }
      ]
    },
    {
      "cell_type": "code",
      "source": [
        "plt.bar(partner_labels, [ratio_youngs, ratio_seniors], label=partner_labels, color=[hex_color1, hex_color2])\n",
        "plt.title('Ratio of churns based on partners')\n",
        "plt.ylabel('%')\n",
        "plt.legend()\n",
        "plt.show()"
      ],
      "metadata": {
        "colab": {
          "base_uri": "https://localhost:8080/",
          "height": 452
        },
        "id": "9S54a__rSO82",
        "outputId": "64b6f9de-aff0-4d90-c966-d690d8f32879"
      },
      "execution_count": null,
      "outputs": [
        {
          "output_type": "display_data",
          "data": {
            "text/plain": [
              "<Figure size 640x480 with 1 Axes>"
            ],
            "image/png": "[encoded data removed]"
          },
          "metadata": {}
        }
      ]
    },
    {
      "cell_type": "code",
      "source": [
        "# Dependents [categorical]\n",
        "dependents_labels = ['dependent', 'not-dependent']\n",
        "\n",
        "dependents = train_data[train_data[\"Dependents\"] == \"Yes\"]\n",
        "not_dependents = train_data[train_data[\"Dependents\"] == \"No\"]\n",
        "\n",
        "churn_dependent = dependents[dependents['Churn Value'] == 1]['Count']\n",
        "churn_not_dependent = not_dependents[not_dependents['Churn Value'] == 1]['Count']\n",
        "\n",
        "ratio_dependents = churn_dependent.count() / dependents['Count'].count()\n",
        "ratio_no_dependents = churn_not_dependent.count() / not_dependents['Count'].count()\n",
        "print(ratio_dependents, ratio_no_dependents)"
      ],
      "metadata": {
        "id": "wP68fb1g8axR",
        "colab": {
          "base_uri": "https://localhost:8080/"
        },
        "outputId": "b91c9a10-3cb3-4e18-eae8-84e689c9ded7"
      },
      "execution_count": null,
      "outputs": [
        {
          "output_type": "stream",
          "name": "stdout",
          "text": [
            "0.06971677559912855 0.3241903502974223\n"
          ]
        }
      ]
    },
    {
      "cell_type": "code",
      "source": [
        "plt.bar(dependents_labels, [ratio_dependents, ratio_no_dependents], label=dependents_labels, color=[hex_color1, hex_color2])\n",
        "plt.title('Ratio of churns based on dependents')\n",
        "plt.ylabel('%')\n",
        "plt.legend()\n",
        "plt.show()"
      ],
      "metadata": {
        "colab": {
          "base_uri": "https://localhost:8080/",
          "height": 452
        },
        "id": "6kVvIia6Varb",
        "outputId": "a401098a-c541-4295-8953-618baa26c3bd"
      },
      "execution_count": null,
      "outputs": [
        {
          "output_type": "display_data",
          "data": {
            "text/plain": [
              "<Figure size 640x480 with 1 Axes>"
            ],
            "image/png": "[encoded data removed]"
          },
          "metadata": {}
        }
      ]
    },
    {
      "cell_type": "code",
      "source": [
        "# Tenure Months [numeric]\n",
        "churned_tenure = train_data[train_data[\"Churn Value\"] == 1]['Tenure Months']\n",
        "not_churned_tenure = train_data[train_data[\"Churn Value\"] == 0]['Tenure Months']"
      ],
      "metadata": {
        "id": "LNPrkv3ncXzb"
      },
      "execution_count": null,
      "outputs": []
    },
    {
      "cell_type": "code",
      "source": [
        "plt.hist(not_churned_tenure, label='not churned', alpha=0.7, color=hex_color2)\n",
        "plt.hist(churned_tenure, label='churned', alpha=0.7, color=hex_color3)\n",
        "plt.title('Ratio of Churned Tenure Months to the Total Number of People with Tenure Months')\n",
        "plt.ylabel('n')\n",
        "plt.legend()\n",
        "plt.show()"
      ],
      "metadata": {
        "id": "4RC18647cXq-",
        "colab": {
          "base_uri": "https://localhost:8080/",
          "height": 452
        },
        "outputId": "a325e708-a4b1-44f4-ec7f-5bed49224ca0"
      },
      "execution_count": null,
      "outputs": [
        {
          "output_type": "display_data",
          "data": {
            "text/plain": [
              "<Figure size 640x480 with 1 Axes>"
            ],
            "image/png": "[encoded data removed]"
          },
          "metadata": {}
        }
      ]
    },
    {
      "cell_type": "code",
      "source": [
        "# PHONE SERVICE\n",
        "phone_service = train_data[train_data['Churn Value'] == 1]['Phone Service']\n",
        "phone_service = phone_service[phone_service == 'Yes'].count()\n",
        "# MULTIPLE LINES\n",
        "multiple_lines = train_data[train_data['Churn Value'] == 1]['Multiple Lines']\n",
        "multiple_lines = multiple_lines[multiple_lines == 'Yes'].count()\n",
        "# INTERNET SERVICE\n",
        "internet_service = train_data[train_data['Churn Value'] == 1]['Internet Service']\n",
        "internet_sum = internet_service[internet_service == 'DSL'].count()\n",
        "internet_sum += internet_service[internet_service == 'Fiber optic'].count()\n",
        "# ONLINE SECURITY\n",
        "online_security = train_data[train_data['Churn Value'] == 1]['Online Security']\n",
        "online_security = online_security[online_security == 'Yes'].count()\n",
        "# ONLINE BACKUP\n",
        "online_backup = train_data[train_data['Churn Value'] == 1]['Online Backup']\n",
        "online_backup = online_backup[online_backup == 'Yes'].count()\n",
        "# DEVICE PROTECTION\n",
        "device_protection = train_data[train_data['Churn Value'] == 1]['Device Protection']\n",
        "device_protection = device_protection[device_protection == 'Yes'].count()\n",
        "# TECH SUPPORT\n",
        "tech_support = train_data[train_data['Churn Value'] == 1]['Tech Support']\n",
        "tech_support = tech_support[tech_support == 'Yes'].count()\n",
        "# STREAMING TV\n",
        "streaming_tv = train_data[train_data['Churn Value'] == 1]['Streaming TV']\n",
        "streaming_tv = streaming_tv[streaming_tv == 'Yes'].count()\n",
        "# STREAMING MOVIES\n",
        "streaming_movies = train_data[train_data['Churn Value'] == 1]['Streaming Movies']\n",
        "streaming_movies = streaming_movies[streaming_movies == 'Yes'].count()"
      ],
      "metadata": {
        "id": "fpzyCyt-2bq-"
      },
      "execution_count": null,
      "outputs": []
    },
    {
      "cell_type": "code",
      "source": [
        "service_labels = ['1', '2', '3', '4', '5', '6', '7', '8', '9']\n",
        "services = [phone_service, multiple_lines, internet_sum, online_security, online_backup, device_protection, tech_support, streaming_tv, streaming_movies]\n",
        "plt.bar(service_labels, services, color=hex_color2)\n",
        "plt.title('Service by churn')\n",
        "plt.ylabel('#')\n",
        "plt.xlabel('services')\n",
        "plt.show()"
      ],
      "metadata": {
        "id": "imJEYsg52bvb",
        "outputId": "3a253c15-4c0f-4b91-e194-a1e61107a017",
        "colab": {
          "base_uri": "https://localhost:8080/",
          "height": 472
        }
      },
      "execution_count": null,
      "outputs": [
        {
          "output_type": "display_data",
          "data": {
            "text/plain": [
              "<Figure size 640x480 with 1 Axes>"
            ],
            "image/png": "[encoded data removed]"
          },
          "metadata": {}
        }
      ]
    },
    {
      "cell_type": "code",
      "source": [
        "# Contract [categorical]\n",
        "contracts = train_data['Contract'].unique()\n",
        "contract_churn = []\n",
        "\n",
        "for contract in contracts:\n",
        "  contract_data = train_data[train_data['Contract'] == contract]['Churn Value']\n",
        "  contract_churn.append(contract_data[contract_data == 1].count())\n",
        "\n",
        "contract_churn"
      ],
      "metadata": {
        "id": "__NURwxD2bye",
        "outputId": "3c90209d-fd6c-4231-c719-5787d009be3b",
        "colab": {
          "base_uri": "https://localhost:8080/"
        }
      },
      "execution_count": null,
      "outputs": [
        {
          "output_type": "execute_result",
          "data": {
            "text/plain": [
              "[924, 89, 32]"
            ]
          },
          "metadata": {},
          "execution_count": 37
        }
      ]
    },
    {
      "cell_type": "code",
      "source": [
        "plt.bar(contracts, contract_churn, color=hex_color2)\n",
        "plt.title('Contracts by churn')\n",
        "plt.ylabel('#')\n",
        "plt.xlabel('contracts')\n",
        "plt.show()"
      ],
      "metadata": {
        "id": "oOZ6vWpBKQ4Q",
        "outputId": "99bc8894-550a-43ff-b193-f04e174f9fe7",
        "colab": {
          "base_uri": "https://localhost:8080/",
          "height": 472
        }
      },
      "execution_count": null,
      "outputs": [
        {
          "output_type": "display_data",
          "data": {
            "text/plain": [
              "<Figure size 640x480 with 1 Axes>"
            ],
            "image/png": "[encoded data removed]"
          },
          "metadata": {}
        }
      ]
    },
    {
      "cell_type": "code",
      "source": [
        "# Payment Method [categorical]\n",
        "payment_methods = train_data['Payment Method'].unique()\n",
        "pay_method_churn = []\n",
        "\n",
        "for pm in payment_methods:\n",
        "  pay_method_data = train_data[train_data['Payment Method'] == pm]['Churn Value']\n",
        "  pay_method_churn.append(pay_method_data[pay_method_data == 1].count())\n",
        "\n",
        "pay_method_churn"
      ],
      "metadata": {
        "id": "3KLqS0npIqRJ",
        "outputId": "7f66f90f-6efe-419f-9ee0-6b7413c25e9a",
        "colab": {
          "base_uri": "https://localhost:8080/"
        }
      },
      "execution_count": null,
      "outputs": [
        {
          "output_type": "execute_result",
          "data": {
            "text/plain": [
              "[575, 144, 140, 186]"
            ]
          },
          "metadata": {},
          "execution_count": 39
        }
      ]
    },
    {
      "cell_type": "code",
      "source": [
        "plt.bar(['1', '2', '3', '4'], pay_method_churn, color=hex_color2)\n",
        "plt.title('Payment Method by churn')\n",
        "plt.ylabel('#')\n",
        "plt.xlabel('Payment Methods')\n",
        "plt.show()"
      ],
      "metadata": {
        "id": "KF4yht0uKt5Y",
        "outputId": "ab9da075-f222-4d13-d32b-859063f6bafe",
        "colab": {
          "base_uri": "https://localhost:8080/",
          "height": 472
        }
      },
      "execution_count": null,
      "outputs": [
        {
          "output_type": "display_data",
          "data": {
            "text/plain": [
              "<Figure size 640x480 with 1 Axes>"
            ],
            "image/png": "[encoded data removed]"
          },
          "metadata": {}
        }
      ]
    },
    {
      "cell_type": "code",
      "source": [
        "# Monthly Charges [numeric]\n",
        "month_charge = train_data[train_data[\"Churn Value\"] == 1]['Monthly Charges']\n",
        "not_churned_tenure = train_data[train_data[\"Churn Value\"] == 0]['Monthly Charges']"
      ],
      "metadata": {
        "id": "xlNZZ6wGIqTt"
      },
      "execution_count": null,
      "outputs": []
    },
    {
      "cell_type": "code",
      "source": [
        "plt.hist(not_churned_tenure, label='churned', alpha=0.7, color=hex_color3)\n",
        "plt.hist(month_charge, label='not churned', alpha=0.7, color=hex_color2)\n",
        "plt.title('Ratio of churs by tenure months')\n",
        "plt.ylabel('n')\n",
        "plt.legend()\n",
        "plt.show()"
      ],
      "metadata": {
        "id": "qEFXjkpEMokk",
        "outputId": "90a29e13-bfd1-4764-f41b-5af53f6e3282",
        "colab": {
          "base_uri": "https://localhost:8080/",
          "height": 452
        }
      },
      "execution_count": null,
      "outputs": [
        {
          "output_type": "display_data",
          "data": {
            "text/plain": [
              "<Figure size 640x480 with 1 Axes>"
            ],
            "image/png": "[encoded data removed]"
          },
          "metadata": {}
        }
      ]
    },
    {
      "cell_type": "code",
      "source": [
        "# CLTV [numeric]\n",
        "cltv_churn = train_data[train_data[\"Churn Value\"] == 1]['CLTV']\n",
        "cltv_not_churn = train_data[train_data[\"Churn Value\"] == 0]['CLTV']"
      ],
      "metadata": {
        "id": "lIRyC3R_IqqM"
      },
      "execution_count": null,
      "outputs": []
    },
    {
      "cell_type": "code",
      "source": [
        "plt.hist(cltv_not_churn, label='not churned', alpha=0.7, color=hex_color2)\n",
        "plt.hist(cltv_churn, label='churned', alpha=0.7, color=hex_color3)\n",
        "plt.title('Ratio of churns based on CLTV')\n",
        "plt.ylabel('n')\n",
        "plt.legend()\n",
        "plt.show()"
      ],
      "metadata": {
        "id": "dcJSBLbKOGVU",
        "outputId": "a8d61297-c586-4dca-ed3f-cd057542db57",
        "colab": {
          "base_uri": "https://localhost:8080/",
          "height": 452
        }
      },
      "execution_count": null,
      "outputs": [
        {
          "output_type": "display_data",
          "data": {
            "text/plain": [
              "<Figure size 640x480 with 1 Axes>"
            ],
            "image/png": "[encoded data removed]"
          },
          "metadata": {}
        }
      ]
    },
    {
      "cell_type": "code",
      "source": [
        "# Если успею то сделаю классификацмю причин"
      ],
      "metadata": {
        "id": "h4k1mjgkIqys"
      },
      "execution_count": null,
      "outputs": []
    },
    {
      "cell_type": "markdown",
      "source": [
        "# 🔥 LEGENDARY CODE THAT HITTED 53 ACCURACY 🦅"
      ],
      "metadata": {
        "id": "z01uFJAo2QNx"
      }
    },
    {
      "cell_type": "code",
      "source": [
        "sample = pd.read_csv(\"sample_submission.csv\")\n",
        "sample.count()"
      ],
      "metadata": {
        "id": "KYB0FLANm8XX",
        "outputId": "4364b3c9-9527-4e6d-f288-f363c131f079",
        "colab": {
          "base_uri": "https://localhost:8080/"
        }
      },
      "execution_count": null,
      "outputs": [
        {
          "output_type": "execute_result",
          "data": {
            "text/plain": [
              "ID             986\n",
              "Churn Value    986\n",
              "dtype: int64"
            ]
          },
          "metadata": {},
          "execution_count": 41
        }
      ]
    },
    {
      "cell_type": "code",
      "source": [
        "import random"
      ],
      "metadata": {
        "id": "8ZdK45cWmEw2"
      },
      "execution_count": null,
      "outputs": []
    },
    {
      "cell_type": "code",
      "source": [
        "for num in range(6):\n",
        "  churn_value = []\n",
        "  id = []\n",
        "  for i in range(986):\n",
        "    id.append(i)\n",
        "    churn_value.append(random.random())\n",
        "\n",
        "  sample_data = {'ID': id, 'Churn Value': churn_value}\n",
        "\n",
        "  sample_df = pd.DataFrame(data=sample_data)\n",
        "  compression_opts = dict(method='zip', archive_name=f'out{num+1}.csv')\n",
        "  sample_df.to_csv(f'out{num+1}.zip', index=False, compression=compression_opts)"
      ],
      "metadata": {
        "id": "JgR93YFXGrzB"
      },
      "execution_count": null,
      "outputs": []
    }
  ]
}