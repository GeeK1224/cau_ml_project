{
  "nbformat": 4,
  "nbformat_minor": 0,
  "metadata": {
    "colab": {
      "provenance": [],
      "include_colab_link": true
    },
    "kernelspec": {
      "name": "python3",
      "display_name": "Python 3"
    },
    "language_info": {
      "name": "python"
    }
  },
  "cells": [
    {
      "cell_type": "markdown",
      "metadata": {
        "id": "view-in-github",
        "colab_type": "text"
      },
      "source": [
        "<a href=\"https://colab.research.google.com/github/GeeK1224/cau_ml_project/blob/main/cau_ml_project.ipynb\" target=\"_parent\"><img src=\"https://colab.research.google.com/assets/colab-badge.svg\" alt=\"Open In Colab\"/></a>"
      ]
    },
    {
      "cell_type": "markdown",
      "source": [
        "# ML Project Team ATES(отец)\n",
        "This is our implementation of `CAU | ML Challenge | Final 2023`"
      ],
      "metadata": {
        "id": "McQFB-FsgHza"
      }
    },
    {
      "cell_type": "code",
      "execution_count": 15,
      "metadata": {
        "id": "emKWSPJmKmzr"
      },
      "outputs": [],
      "source": [
        "import pandas as pd\n",
        "import numpy as np\n",
        "import matplotlib.pyplot as plt\n"
      ]
    },
    {
      "cell_type": "code",
      "source": [
        "# Colors\n",
        "hex_green = '#63D297'\n",
        "hex_black = '#202729'"
      ],
      "metadata": {
        "id": "Dfj-3_hizNCU"
      },
      "execution_count": 73,
      "outputs": []
    },
    {
      "cell_type": "markdown",
      "source": [
        "## Step 1: Data Analysis"
      ],
      "metadata": {
        "id": "V_HLKw74gzjZ"
      }
    },
    {
      "cell_type": "code",
      "source": [
        "test_feature = pd.read_csv(\"kaggle_test_features_public.csv\")\n",
        "train_data = pd.read_csv(\"kaggle_train_data_public.csv\")\n",
        "sample = pd.read_csv(\"sample_submission.csv\")"
      ],
      "metadata": {
        "id": "y7vixXtsd-Kn"
      },
      "execution_count": 2,
      "outputs": []
    },
    {
      "cell_type": "code",
      "source": [
        "columns = train_data.columns.values\n",
        "for column in columns:\n",
        "  print(f\"{column} - {train_data[column].unique()}\")"
      ],
      "metadata": {
        "id": "6EkgjGCV0Xrw"
      },
      "execution_count": null,
      "outputs": []
    },
    {
      "cell_type": "markdown",
      "source": [
        "## Data Classification\n",
        "Here we classified columns according to their usability and overall importance based only on common sense.\n",
        "\n",
        "Classes:\n",
        "1. 🟥 unusable\n",
        "2. 🟩 usable\n",
        "3. 🟪 questionable\n",
        "\n",
        "| Column name | Status | Reason |\n",
        "| --- | --- | --- |\n",
        "| CustomerID | 🟩 | Just to distinguish users |\n",
        "| Count | 🟥 | Only one value equal to 1 |\n",
        "| Country | 🟥 | U.S.A. only |\n",
        "| State | 🟥 | California only |\n",
        "| City | 🟪 | Questionable, there are California cities, maybe there is some correlation based on city (can be used as categorical data) |\n",
        "| Zip Code | 🟥 | a useless value that will throw off the weights |\n",
        "| Lat Long | 🟥 | a useless value that will throw off the weights |\n",
        "| Latitude | 🟥 | a useless value that will throw off the weights |\n",
        "| Longitude | 🟥 | a useless value that will throw off the weights |\n",
        "| Gender | 🟩 | Categorical data, contains useful information |\n",
        "| Senior Citizen | 🟩 | Categorical data, contains useful information |\n",
        "| Partner | 🟩 | Categorical data, contains useful information |\n",
        "| Dependents | 🟩 | Categorical data, contains useful information |\n",
        "| Tenure Months | 🟩 | Contains useful information, very important |\n",
        "| Phone Service | 🟥 | In general, it’s difficult to say anything based on the lower values. |\n",
        "| Multiple Lines | 🟥 | In general, it’s difficult to say anything based on the lower values. |\n",
        "| Internet Service | 🟥 | In general, it’s difficult to say anything based on the lower values. |\n",
        "| Online Security | 🟥 | In general, it’s difficult to say anything based on the lower values. |\n",
        "| Online Backup | 🟥 | In general, it’s difficult to say anything based on the lower values. |\n",
        "| Device Protection | 🟥 | In general, it’s difficult to say anything based on the lower values. |\n",
        "| Tech Support | 🟥 | In general, it’s difficult to say anything based on the lower values. |\n",
        "| Streaming TV | 🟥 | In general, it’s difficult to say anything based on the lower values. |\n",
        "| Streaming Movies | 🟥 | In general, it’s difficult to say anything based on the lower values. |\n",
        "| Contract | 🟩 | Categorical data, contains useful information, very useful |\n",
        "| Paperless Billing | 🟥 | Not useful because the value can be obtained from another more informative column |\n",
        "| Payment Method | 🟪 | questionable |\n",
        "| Monthly Charges | 🟪 | questionable |\n",
        "| Churn Score | 🟪 |  questionable |\n",
        "| Churn Value | 🟩 |  Contain useful data |\n",
        "| CLTV | 🟪 |  quetionable |\n",
        "| Churn Reason | 🟪 | Well, I don’t know, when canceling a subscription or deleting a program, companies often ask you to leave a feedback, maybe you can classify problems under general cases and push the values |"
      ],
      "metadata": {
        "id": "FXAmmso__FJZ"
      }
    },
    {
      "cell_type": "code",
      "source": [
        "gender_labels = ['males', 'females']\n",
        "\n",
        "males_count = len(train_data[train_data[\"Gender\"] == \"Male\"]['Gender'])\n",
        "females_count = len(train_data[train_data[\"Gender\"] == \"Female\"]['Gender'])\n",
        "\n",
        "plt.bar(gender_labels, [males_count, females_count], label=gender_labels, color=[hex_black, hex_green])\n",
        "plt.title('Gender')\n",
        "plt.ylabel('Frequency')\n",
        "plt.legend()\n",
        "plt.show()"
      ],
      "metadata": {
        "colab": {
          "base_uri": "https://localhost:8080/",
          "height": 452
        },
        "id": "-HZgvST4f9DL",
        "outputId": "83ba66cb-da62-476d-92b9-54ea2102ef44"
      },
      "execution_count": 74,
      "outputs": [
        {
          "output_type": "display_data",
          "data": {
            "text/plain": [
              "<Figure size 640x480 with 1 Axes>"
            ],
            "image/png": "[encoded data removed]"
          },
          "metadata": {}
        }
      ]
    },
    {
      "cell_type": "code",
      "source": [
        "print(males_count, females_count)"
      ],
      "metadata": {
        "id": "RmDq2caOcHPp",
        "outputId": "20cbc700-f59f-478a-be4c-77407a593736",
        "colab": {
          "base_uri": "https://localhost:8080/"
        }
      },
      "execution_count": 28,
      "outputs": [
        {
          "output_type": "stream",
          "name": "stdout",
          "text": [
            "1973 1971\n"
          ]
        }
      ]
    },
    {
      "cell_type": "code",
      "source": [
        "train_data.describe()"
      ],
      "metadata": {
        "colab": {
          "base_uri": "https://localhost:8080/",
          "height": 300
        },
        "id": "9vEu2KiCfBno",
        "outputId": "cbe261b7-6732-41da-e1c7-fd1943468c75"
      },
      "execution_count": 14,
      "outputs": [
        {
          "output_type": "execute_result",
          "data": {
            "text/plain": [
              "        Count      Zip Code     Latitude    Longitude  Tenure Months  \\\n",
              "count  3944.0   3944.000000  3944.000000  3944.000000    3944.000000   \n",
              "mean      1.0  93504.840517    36.282735  -119.811722      32.413540   \n",
              "std       0.0   1868.032274     2.460654     2.140234      24.556004   \n",
              "min       1.0  90001.000000    32.555828  -124.301372       0.000000   \n",
              "25%       1.0  92077.250000    34.037319  -121.806872       9.000000   \n",
              "50%       1.0  93550.500000    36.375590  -119.687964      29.000000   \n",
              "75%       1.0  95337.250000    38.158676  -118.057091      55.000000   \n",
              "max       1.0  96161.000000    41.962127  -114.192901      72.000000   \n",
              "\n",
              "       Monthly Charges  Churn Score  Churn Value         CLTV  \n",
              "count      3944.000000  3944.000000  3944.000000  3944.000000  \n",
              "mean         64.631415    58.683824     0.264959  4392.830122  \n",
              "std          29.991988    21.497163     0.441368  1181.398114  \n",
              "min          18.400000     5.000000     0.000000  2003.000000  \n",
              "25%          35.637500    41.000000     0.000000  3468.750000  \n",
              "50%          70.250000    61.000000     0.000000  4505.000000  \n",
              "75%          89.750000    75.000000     1.000000  5374.750000  \n",
              "max         118.650000   100.000000     1.000000  6500.000000  "
            ],
            "text/html": [
              "\n",
              "  <div id=\"df-32542ffe-d12e-47c9-97a0-5982e646062c\" class=\"colab-df-container\">\n",
              "    <div>\n",
              "<style scoped>\n",
              "    .dataframe tbody tr th:only-of-type {\n",
              "        vertical-align: middle;\n",
              "    }\n",
              "\n",
              "    .dataframe tbody tr th {\n",
              "        vertical-align: top;\n",
              "    }\n",
              "\n",
              "    .dataframe thead th {\n",
              "        text-align: right;\n",
              "    }\n",
              "</style>\n",
              "<table border=\"1\" class=\"dataframe\">\n",
              "  <thead>\n",
              "    <tr style=\"text-align: right;\">\n",
              "      <th></th>\n",
              "      <th>Count</th>\n",
              "      <th>Zip Code</th>\n",
              "      <th>Latitude</th>\n",
              "      <th>Longitude</th>\n",
              "      <th>Tenure Months</th>\n",
              "      <th>Monthly Charges</th>\n",
              "      <th>Churn Score</th>\n",
              "      <th>Churn Value</th>\n",
              "      <th>CLTV</th>\n",
              "    </tr>\n",
              "  </thead>\n",
              "  <tbody>\n",
              "    <tr>\n",
              "      <th>count</th>\n",
              "      <td>3944.0</td>\n",
              "      <td>3944.000000</td>\n",
              "      <td>3944.000000</td>\n",
              "      <td>3944.000000</td>\n",
              "      <td>3944.000000</td>\n",
              "      <td>3944.000000</td>\n",
              "      <td>3944.000000</td>\n",
              "      <td>3944.000000</td>\n",
              "      <td>3944.000000</td>\n",
              "    </tr>\n",
              "    <tr>\n",
              "      <th>mean</th>\n",
              "      <td>1.0</td>\n",
              "      <td>93504.840517</td>\n",
              "      <td>36.282735</td>\n",
              "      <td>-119.811722</td>\n",
              "      <td>32.413540</td>\n",
              "      <td>64.631415</td>\n",
              "      <td>58.683824</td>\n",
              "      <td>0.264959</td>\n",
              "      <td>4392.830122</td>\n",
              "    </tr>\n",
              "    <tr>\n",
              "      <th>std</th>\n",
              "      <td>0.0</td>\n",
              "      <td>1868.032274</td>\n",
              "      <td>2.460654</td>\n",
              "      <td>2.140234</td>\n",
              "      <td>24.556004</td>\n",
              "      <td>29.991988</td>\n",
              "      <td>21.497163</td>\n",
              "      <td>0.441368</td>\n",
              "      <td>1181.398114</td>\n",
              "    </tr>\n",
              "    <tr>\n",
              "      <th>min</th>\n",
              "      <td>1.0</td>\n",
              "      <td>90001.000000</td>\n",
              "      <td>32.555828</td>\n",
              "      <td>-124.301372</td>\n",
              "      <td>0.000000</td>\n",
              "      <td>18.400000</td>\n",
              "      <td>5.000000</td>\n",
              "      <td>0.000000</td>\n",
              "      <td>2003.000000</td>\n",
              "    </tr>\n",
              "    <tr>\n",
              "      <th>25%</th>\n",
              "      <td>1.0</td>\n",
              "      <td>92077.250000</td>\n",
              "      <td>34.037319</td>\n",
              "      <td>-121.806872</td>\n",
              "      <td>9.000000</td>\n",
              "      <td>35.637500</td>\n",
              "      <td>41.000000</td>\n",
              "      <td>0.000000</td>\n",
              "      <td>3468.750000</td>\n",
              "    </tr>\n",
              "    <tr>\n",
              "      <th>50%</th>\n",
              "      <td>1.0</td>\n",
              "      <td>93550.500000</td>\n",
              "      <td>36.375590</td>\n",
              "      <td>-119.687964</td>\n",
              "      <td>29.000000</td>\n",
              "      <td>70.250000</td>\n",
              "      <td>61.000000</td>\n",
              "      <td>0.000000</td>\n",
              "      <td>4505.000000</td>\n",
              "    </tr>\n",
              "    <tr>\n",
              "      <th>75%</th>\n",
              "      <td>1.0</td>\n",
              "      <td>95337.250000</td>\n",
              "      <td>38.158676</td>\n",
              "      <td>-118.057091</td>\n",
              "      <td>55.000000</td>\n",
              "      <td>89.750000</td>\n",
              "      <td>75.000000</td>\n",
              "      <td>1.000000</td>\n",
              "      <td>5374.750000</td>\n",
              "    </tr>\n",
              "    <tr>\n",
              "      <th>max</th>\n",
              "      <td>1.0</td>\n",
              "      <td>96161.000000</td>\n",
              "      <td>41.962127</td>\n",
              "      <td>-114.192901</td>\n",
              "      <td>72.000000</td>\n",
              "      <td>118.650000</td>\n",
              "      <td>100.000000</td>\n",
              "      <td>1.000000</td>\n",
              "      <td>6500.000000</td>\n",
              "    </tr>\n",
              "  </tbody>\n",
              "</table>\n",
              "</div>\n",
              "    <div class=\"colab-df-buttons\">\n",
              "\n",
              "  <div class=\"colab-df-container\">\n",
              "    <button class=\"colab-df-convert\" onclick=\"convertToInteractive('df-32542ffe-d12e-47c9-97a0-5982e646062c')\"\n",
              "            title=\"Convert this dataframe to an interactive table.\"\n",
              "            style=\"display:none;\">\n",
              "\n",
              "  <svg xmlns=\"http://www.w3.org/2000/svg\" height=\"24px\" viewBox=\"0 -960 960 960\">\n",
              "    <path d=\"M120-120v-720h720v720H120Zm60-500h600v-160H180v160Zm220 220h160v-160H400v160Zm0 220h160v-160H400v160ZM180-400h160v-160H180v160Zm440 0h160v-160H620v160ZM180-180h160v-160H180v160Zm440 0h160v-160H620v160Z\"/>\n",
              "  </svg>\n",
              "    </button>\n",
              "\n",
              "  <style>\n",
              "    .colab-df-container {\n",
              "      display:flex;\n",
              "      gap: 12px;\n",
              "    }\n",
              "\n",
              "    .colab-df-convert {\n",
              "      background-color: #E8F0FE;\n",
              "      border: none;\n",
              "      border-radius: 50%;\n",
              "      cursor: pointer;\n",
              "      display: none;\n",
              "      fill: #1967D2;\n",
              "      height: 32px;\n",
              "      padding: 0 0 0 0;\n",
              "      width: 32px;\n",
              "    }\n",
              "\n",
              "    .colab-df-convert:hover {\n",
              "      background-color: #E2EBFA;\n",
              "      box-shadow: 0px 1px 2px rgba(60, 64, 67, 0.3), 0px 1px 3px 1px rgba(60, 64, 67, 0.15);\n",
              "      fill: #174EA6;\n",
              "    }\n",
              "\n",
              "    .colab-df-buttons div {\n",
              "      margin-bottom: 4px;\n",
              "    }\n",
              "\n",
              "    [theme=dark] .colab-df-convert {\n",
              "      background-color: #3B4455;\n",
              "      fill: #D2E3FC;\n",
              "    }\n",
              "\n",
              "    [theme=dark] .colab-df-convert:hover {\n",
              "      background-color: #434B5C;\n",
              "      box-shadow: 0px 1px 3px 1px rgba(0, 0, 0, 0.15);\n",
              "      filter: drop-shadow(0px 1px 2px rgba(0, 0, 0, 0.3));\n",
              "      fill: #FFFFFF;\n",
              "    }\n",
              "  </style>\n",
              "\n",
              "    <script>\n",
              "      const buttonEl =\n",
              "        document.querySelector('#df-32542ffe-d12e-47c9-97a0-5982e646062c button.colab-df-convert');\n",
              "      buttonEl.style.display =\n",
              "        google.colab.kernel.accessAllowed ? 'block' : 'none';\n",
              "\n",
              "      async function convertToInteractive(key) {\n",
              "        const element = document.querySelector('#df-32542ffe-d12e-47c9-97a0-5982e646062c');\n",
              "        const dataTable =\n",
              "          await google.colab.kernel.invokeFunction('convertToInteractive',\n",
              "                                                    [key], {});\n",
              "        if (!dataTable) return;\n",
              "\n",
              "        const docLinkHtml = 'Like what you see? Visit the ' +\n",
              "          '<a target=\"_blank\" href=https://colab.research.google.com/notebooks/data_table.ipynb>data table notebook</a>'\n",
              "          + ' to learn more about interactive tables.';\n",
              "        element.innerHTML = '';\n",
              "        dataTable['output_type'] = 'display_data';\n",
              "        await google.colab.output.renderOutput(dataTable, element);\n",
              "        const docLink = document.createElement('div');\n",
              "        docLink.innerHTML = docLinkHtml;\n",
              "        element.appendChild(docLink);\n",
              "      }\n",
              "    </script>\n",
              "  </div>\n",
              "\n",
              "\n",
              "<div id=\"df-457605db-7d15-4436-9216-e5e18ca3f136\">\n",
              "  <button class=\"colab-df-quickchart\" onclick=\"quickchart('df-457605db-7d15-4436-9216-e5e18ca3f136')\"\n",
              "            title=\"Suggest charts\"\n",
              "            style=\"display:none;\">\n",
              "\n",
              "<svg xmlns=\"http://www.w3.org/2000/svg\" height=\"24px\"viewBox=\"0 0 24 24\"\n",
              "     width=\"24px\">\n",
              "    <g>\n",
              "        <path d=\"M19 3H5c-1.1 0-2 .9-2 2v14c0 1.1.9 2 2 2h14c1.1 0 2-.9 2-2V5c0-1.1-.9-2-2-2zM9 17H7v-7h2v7zm4 0h-2V7h2v10zm4 0h-2v-4h2v4z\"/>\n",
              "    </g>\n",
              "</svg>\n",
              "  </button>\n",
              "\n",
              "<style>\n",
              "  .colab-df-quickchart {\n",
              "      --bg-color: #E8F0FE;\n",
              "      --fill-color: #1967D2;\n",
              "      --hover-bg-color: #E2EBFA;\n",
              "      --hover-fill-color: #174EA6;\n",
              "      --disabled-fill-color: #AAA;\n",
              "      --disabled-bg-color: #DDD;\n",
              "  }\n",
              "\n",
              "  [theme=dark] .colab-df-quickchart {\n",
              "      --bg-color: #3B4455;\n",
              "      --fill-color: #D2E3FC;\n",
              "      --hover-bg-color: #434B5C;\n",
              "      --hover-fill-color: #FFFFFF;\n",
              "      --disabled-bg-color: #3B4455;\n",
              "      --disabled-fill-color: #666;\n",
              "  }\n",
              "\n",
              "  .colab-df-quickchart {\n",
              "    background-color: var(--bg-color);\n",
              "    border: none;\n",
              "    border-radius: 50%;\n",
              "    cursor: pointer;\n",
              "    display: none;\n",
              "    fill: var(--fill-color);\n",
              "    height: 32px;\n",
              "    padding: 0;\n",
              "    width: 32px;\n",
              "  }\n",
              "\n",
              "  .colab-df-quickchart:hover {\n",
              "    background-color: var(--hover-bg-color);\n",
              "    box-shadow: 0 1px 2px rgba(60, 64, 67, 0.3), 0 1px 3px 1px rgba(60, 64, 67, 0.15);\n",
              "    fill: var(--button-hover-fill-color);\n",
              "  }\n",
              "\n",
              "  .colab-df-quickchart-complete:disabled,\n",
              "  .colab-df-quickchart-complete:disabled:hover {\n",
              "    background-color: var(--disabled-bg-color);\n",
              "    fill: var(--disabled-fill-color);\n",
              "    box-shadow: none;\n",
              "  }\n",
              "\n",
              "  .colab-df-spinner {\n",
              "    border: 2px solid var(--fill-color);\n",
              "    border-color: transparent;\n",
              "    border-bottom-color: var(--fill-color);\n",
              "    animation:\n",
              "      spin 1s steps(1) infinite;\n",
              "  }\n",
              "\n",
              "  @keyframes spin {\n",
              "    0% {\n",
              "      border-color: transparent;\n",
              "      border-bottom-color: var(--fill-color);\n",
              "      border-left-color: var(--fill-color);\n",
              "    }\n",
              "    20% {\n",
              "      border-color: transparent;\n",
              "      border-left-color: var(--fill-color);\n",
              "      border-top-color: var(--fill-color);\n",
              "    }\n",
              "    30% {\n",
              "      border-color: transparent;\n",
              "      border-left-color: var(--fill-color);\n",
              "      border-top-color: var(--fill-color);\n",
              "      border-right-color: var(--fill-color);\n",
              "    }\n",
              "    40% {\n",
              "      border-color: transparent;\n",
              "      border-right-color: var(--fill-color);\n",
              "      border-top-color: var(--fill-color);\n",
              "    }\n",
              "    60% {\n",
              "      border-color: transparent;\n",
              "      border-right-color: var(--fill-color);\n",
              "    }\n",
              "    80% {\n",
              "      border-color: transparent;\n",
              "      border-right-color: var(--fill-color);\n",
              "      border-bottom-color: var(--fill-color);\n",
              "    }\n",
              "    90% {\n",
              "      border-color: transparent;\n",
              "      border-bottom-color: var(--fill-color);\n",
              "    }\n",
              "  }\n",
              "</style>\n",
              "\n",
              "  <script>\n",
              "    async function quickchart(key) {\n",
              "      const quickchartButtonEl =\n",
              "        document.querySelector('#' + key + ' button');\n",
              "      quickchartButtonEl.disabled = true;  // To prevent multiple clicks.\n",
              "      quickchartButtonEl.classList.add('colab-df-spinner');\n",
              "      try {\n",
              "        const charts = await google.colab.kernel.invokeFunction(\n",
              "            'suggestCharts', [key], {});\n",
              "      } catch (error) {\n",
              "        console.error('Error during call to suggestCharts:', error);\n",
              "      }\n",
              "      quickchartButtonEl.classList.remove('colab-df-spinner');\n",
              "      quickchartButtonEl.classList.add('colab-df-quickchart-complete');\n",
              "    }\n",
              "    (() => {\n",
              "      let quickchartButtonEl =\n",
              "        document.querySelector('#df-457605db-7d15-4436-9216-e5e18ca3f136 button');\n",
              "      quickchartButtonEl.style.display =\n",
              "        google.colab.kernel.accessAllowed ? 'block' : 'none';\n",
              "    })();\n",
              "  </script>\n",
              "</div>\n",
              "\n",
              "    </div>\n",
              "  </div>\n"
            ]
          },
          "metadata": {},
          "execution_count": 14
        }
      ]
    },
    {
      "cell_type": "code",
      "source": [
        "cities = train_data[\"City\"].unique()\n",
        "\n",
        "len(cities)"
      ],
      "metadata": {
        "id": "LEpsPIi4cXK2",
        "outputId": "5b35550e-994f-4e7c-b63f-9409704feccb",
        "colab": {
          "base_uri": "https://localhost:8080/"
        }
      },
      "execution_count": 31,
      "outputs": [
        {
          "output_type": "execute_result",
          "data": {
            "text/plain": [
              "1102"
            ]
          },
          "metadata": {},
          "execution_count": 31
        }
      ]
    },
    {
      "cell_type": "code",
      "source": [
        "train_data['Contract'].unique()"
      ],
      "metadata": {
        "id": "1CbVOu6WcXI1",
        "outputId": "a55179ac-8bbb-4efb-edd2-71573afc4e18",
        "colab": {
          "base_uri": "https://localhost:8080/"
        }
      },
      "execution_count": 34,
      "outputs": [
        {
          "output_type": "execute_result",
          "data": {
            "text/plain": [
              "array(['Month-to-month', 'One year', 'Two year'], dtype=object)"
            ]
          },
          "metadata": {},
          "execution_count": 34
        }
      ]
    },
    {
      "cell_type": "code",
      "source": [
        "score_data = train_data[train_data[\"Churn Value\"] == 1]['Churn Score']\n",
        "reason_data = train_data[train_data[\"Churn Value\"] == 1]['Churn Reason']\n",
        "score_reason_data = pd.concat([score_data, reason_data], axis=1)\n",
        "reasons = score_reason_data['Churn Reason'].unique()"
      ],
      "metadata": {
        "id": "bWveBkLbcXCx"
      },
      "execution_count": 77,
      "outputs": []
    },
    {
      "cell_type": "code",
      "source": [
        "number_reasons = []\n",
        "\n",
        "for reason in reasons:\n",
        "  reason_occurences = len(reason_data[reason_data == reason])\n",
        "  number_reasons.append(reason_occurences)\n",
        "\n",
        "plt.bar(range(1, 21), number_reasons, color=hex_green)\n",
        "plt.ylabel('%')\n",
        "plt.xlabel('Reasons -> from 1 to 20')\n",
        "plt.show()"
      ],
      "metadata": {
        "id": "bbUOecb0g3eG",
        "outputId": "62347b05-cd76-47f2-a508-098df8d9eea0",
        "colab": {
          "base_uri": "https://localhost:8080/",
          "height": 449
        }
      },
      "execution_count": 90,
      "outputs": [
        {
          "output_type": "display_data",
          "data": {
            "text/plain": [
              "<Figure size 640x480 with 1 Axes>"
            ],
            "image/png": "[encoded data removed]"
          },
          "metadata": {}
        }
      ]
    },
    {
      "cell_type": "markdown",
      "source": [
        "#### Reasons that lead to churn\n",
        "1. Competitor offered more data ~ 10.0%\n",
        "2. Product dissatisfaction ~ 6.0%\n",
        "3. Moved ~ 4.0%\n",
        "4. Attitude of support person ~ 10.0%\n",
        "5. Don't know ~ 8.0%\n",
        "6. Competitor made better offer ~ 9.0%\n",
        "7. Limited range of services ~ 3.0%\n",
        "8. Network reliability ~ 7.0%\n",
        "9. Long distance charges ~ 3.0%\n",
        "10. Attitude of service provider ~ 8.0%\n",
        "11. Lack of self-service on Website ~ 5.0%\n",
        "12. Competitor had better devices ~ 7.0%\n",
        "13. Lack of affordable download/upload speed ~ 3.0%\n",
        "14. Price too high ~ 5.0%\n",
        "15. Poor expertise of phone support ~ 2.0%\n",
        "16. Extra data charges ~ 4.0%\n",
        "17. Competitor offered higher download speeds ~ 10.0%\n",
        "18. Service dissatisfaction ~ 5.0%\n",
        "19. Deceased ~ 1.0%\n",
        "20. Poor expertise of online support ~ 2.0%"
      ],
      "metadata": {
        "id": "99mz0Uu5uKgx"
      }
    },
    {
      "cell_type": "code",
      "source": [],
      "metadata": {
        "id": "ElqBqzCMcW7x"
      },
      "execution_count": null,
      "outputs": []
    },
    {
      "cell_type": "code",
      "source": [],
      "metadata": {
        "id": "-n1SQU8UcW0R"
      },
      "execution_count": null,
      "outputs": []
    }
  ]
}